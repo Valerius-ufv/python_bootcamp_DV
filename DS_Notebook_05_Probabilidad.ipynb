{
  "nbformat": 4,
  "nbformat_minor": 0,
  "metadata": {
    "kernelspec": {
      "display_name": "Python 3",
      "language": "python",
      "name": "python3"
    },
    "language_info": {
      "codemirror_mode": {
        "name": "ipython",
        "version": 3
      },
      "file_extension": ".py",
      "mimetype": "text/x-python",
      "name": "python",
      "nbconvert_exporter": "python",
      "pygments_lexer": "ipython3",
      "version": "3.7.3"
    },
    "colab": {
      "provenance": [],
      "include_colab_link": true
    }
  },
  "cells": [
    {
      "cell_type": "markdown",
      "metadata": {
        "id": "view-in-github",
        "colab_type": "text"
      },
      "source": [
        "<a href=\"https://colab.research.google.com/github/Valerius-ufv/python_bootcamp_DV/blob/main/DS_Notebook_05_Probabilidad.ipynb\" target=\"_parent\"><img src=\"https://colab.research.google.com/assets/colab-badge.svg\" alt=\"Open In Colab\"/></a>"
      ]
    },
    {
      "cell_type": "markdown",
      "metadata": {
        "id": "GEFRqVgwU4TH"
      },
      "source": [
        "# Probabilidad y Estadística\n",
        "\n",
        "El objetivo del siguiente notebook es afianzar algunos conceptos de Probabilidad y, de paso, empezar a ver cómo se hacen gráficos con Matplotlib, una nueva librería que veremos más en detalle en los próximos encuentros. Por ahora, solamente tienen que instalarla y correr las celdas. ¡No te preocupes si no entiendes lo que hacen esas celdas! Lo importante es que prestes atención a sus resultados.\n",
        "\n",
        "## 1. Distribuciones de probabilidad\n",
        "\n",
        "El concepto de distribución de probabilidad es un concepto central en probabilidad y estadística y, por lo tanto, hay mucho para decir. Nos limitamos acá a los puntos más importantes.\n",
        "\n",
        "\n",
        "### 1.1 Distrubución Uniforme Discreta\n",
        "\n",
        "Comencemos por un ejemplo: un dado de seis caras. La probabilidad de que al tirar el dado *salga* una cara es $1/6$. Si graficamos la probabilidad para cada resultado posible de tirar un dado, obtendríamos un gráfico como el siguiente:"
      ]
    },
    {
      "cell_type": "code",
      "metadata": {
        "id": "J-fHqWnzU4TR"
      },
      "source": [
        "import numpy as np\n",
        "import matplotlib.pyplot as plt"
      ],
      "execution_count": 8,
      "outputs": []
    },
    {
      "cell_type": "code",
      "metadata": {
        "id": "VSbq4R-aU4Tt",
        "colab": {
          "base_uri": "https://localhost:8080/",
          "height": 453
        },
        "outputId": "34c8d4dc-e038-44d5-d562-4f3ad9bb79b6"
      },
      "source": [
        "valores = np.arange(1,7)\n",
        "probas = np.zeros(6) + 1/6\n",
        "plt.bar(valores, probas)\n",
        "plt.title('Distribución de probabilidad uniforme: lanzamiento de un dado')\n",
        "plt.savefig('distribucion_dado.png', dpi = 1400)\n",
        "plt.show()"
      ],
      "execution_count": 9,
      "outputs": [
        {
          "output_type": "display_data",
          "data": {
            "text/plain": [
              "<Figure size 640x480 with 1 Axes>"
            ],
            "image/png": "[encoded data removed]"
          },
          "metadata": {}
        }
      ]
    },
    {
      "cell_type": "markdown",
      "metadata": {
        "id": "Hl-vXlaCU4T_"
      },
      "source": [
        "En este caso, decimos que la distribución de probabilidad es *uniforme discreta*, ya que le asigna la misma probabilidad a los seis valores que pueden salir al tirar el dado. Si el dado estuviera cargado, ya no sería uniforme.\n",
        "\n",
        "**Algunos detalles**:\n",
        "1. El resultado de tirar un dado es un ejemplo de una *variable aleatoria*.\n",
        "2. En el caso del dado, la variable aleatoria puede tomar valores *discretos* y *acotados* (limitados): 1, 2, 3, 4, 5 y 6\n",
        "3. Existen variables aleatorias donde los posibles valores que puede tomar son continuos y no acotados. Veremos la distribución más famosa de ellas a continuación."
      ]
    },
    {
      "cell_type": "markdown",
      "metadata": {
        "id": "mIXL9A1yU4UE"
      },
      "source": [
        "### 1.2 Distribución Normal o Gaussiana\n",
        "\n",
        "La distribución normal o gaussiana debe ser la distribución más famosa dentro de las distribuciones. Es una distribución de variable continua y aparece en una infinidad de ámbitos de la ciencia. Muchas variables asociadas a fenómenos naturales siguen una distribución gaussiana; un ejemplo típico es la estatura de las personas. La forma que tiene esta distribución está dada por la siguiente fórmula:\n",
        "\n",
        "$$f(x|\\mu, \\sigma^2)=\\frac{1}{\\sqrt{2 \\pi \\sigma^2}}e^{\\frac{-(x - \\mu)^2}{2\\sigma^2}}$$\n",
        "\n",
        "¡No te asustes si no la entiendes! Durante el encuentro, veremos más en detalle algunos aspectos de esta distribución. Pero es importante resaltar que tiene sólo dos parámetros: su valor medio $\\mu$ y su desviacíon estándar $\\sigma$. Estos valores son *teóricos*, es decir, son propios de la distribución de probabilidad.\n",
        "\n",
        "Recomendamos entrar en la página de Wikipedia de la [Distribución Normal](https://es.wikipedia.org/wiki/Distribuci%C3%B3n_normal) y prestar atención al primer gráfico - dónde podrán ver la forma teórica de la distribución - y a la sección \"Propiedades\".\n",
        "\n",
        "\n",
        "**Distribución Normal en NumPy**\n",
        "\n",
        "Como mencionamos en el encuentro anterior, NumPy nos provee de herramientas para generar valores aleatorios de distribuciones. A continuación generamos, usando `np.random.normal()`, muestras de dos distribuciones normales, con el mismo valor medio pero distinta desviación estándar. **Consultar** la ayuda de la función para entender bien qué hace."
      ]
    },
    {
      "cell_type": "code",
      "metadata": {
        "scrolled": true,
        "id": "mnQ6ZwhAU4UJ",
        "colab": {
          "base_uri": "https://localhost:8080/"
        },
        "outputId": "fff7e177-56ec-4ee9-ded5-cc8690c15227"
      },
      "source": [
        "mu = 2.0\n",
        "sigma_1 = 5.0\n",
        "sigma_2 = 2.0\n",
        "muestras_1 = np.random.normal(loc = mu, scale = sigma_1, size = 400)\n",
        "muestras_2 = np.random.normal(loc = mu, scale = sigma_2, size = 400)\n",
        "print(muestras_1, muestras_2)"
      ],
      "execution_count": 10,
      "outputs": [
        {
          "output_type": "stream",
          "name": "stdout",
          "text": [
            "[ 1.69139711e+01 -1.57001301e+00  3.28352593e+00 -1.39779567e+00\n",
            " -3.16573118e+00  4.85821290e+00  7.69781627e+00  2.60218338e+00\n",
            "  1.06725261e+01  5.23945747e+00 -3.07376102e-01  1.34420079e+00\n",
            "  6.77453887e+00  5.06010805e+00  6.30169605e+00 -6.47971782e-01\n",
            "  7.72473202e+00 -1.30391552e+00  2.28113977e+00  2.45716384e+00\n",
            " -4.49827835e+00 -4.29645228e+00  4.98143283e-02  5.57848558e+00\n",
            "  1.59160688e+00  1.27884349e+00  1.22495172e+01  8.67961444e+00\n",
            "  6.16362468e+00  3.27785213e+00  3.79075929e+00 -7.53967820e-01\n",
            "  4.23897804e+00  3.69317958e+00  2.60543447e+00 -1.82910428e+00\n",
            "  1.26794892e+01  1.06311858e+01  5.60913592e+00  9.76057310e+00\n",
            "  5.90953009e+00 -2.89153265e+00  5.03228054e+00  5.22740450e+00\n",
            " -1.85477851e+00  4.44997733e+00  4.42412873e-01  3.24511728e+00\n",
            "  3.48365104e+00  5.59888234e+00  1.03194643e+01  6.37168501e+00\n",
            "  4.31359792e+00  2.77237219e+00  5.33622021e+00  5.95973055e+00\n",
            "  1.29025650e+01  3.84846528e+00 -3.02629237e+00  6.36203069e+00\n",
            "  5.37883138e+00  3.37033198e+00 -4.51324843e-01  1.07154263e+01\n",
            "  2.27004743e+00 -3.85438427e+00  5.75984525e+00  6.29145382e+00\n",
            " -9.04995980e-02  1.14270007e+01 -1.94803296e+00 -3.71865019e-01\n",
            "  1.04864178e+00  6.66351383e-01 -2.34191811e+00  4.66879304e+00\n",
            "  4.61034444e+00  5.80254744e-01  9.82107463e+00 -2.06728469e+00\n",
            " -2.79245652e+00 -9.53650362e-01  5.61691370e+00  5.52020038e+00\n",
            " -4.72566643e+00  1.12395584e+01  9.22952865e+00 -2.95787328e+00\n",
            " -2.64876382e+00  2.42226855e+00  5.66031162e+00 -9.52518443e-01\n",
            "  4.93165346e+00  6.01037023e-02 -3.60194866e+00  3.19414535e+00\n",
            "  2.21807551e+00 -2.23415525e+00  2.20089145e+00  1.40295312e+01\n",
            "  1.56978637e+00  8.53023809e+00  4.33506910e-01  7.64985394e+00\n",
            " -3.96286789e-01  3.39050687e-01 -1.50421369e+00  1.55597137e+00\n",
            " -9.15274752e+00  2.18519090e-01  4.17373363e+00 -3.97889409e+00\n",
            "  7.67010718e+00  5.96002948e+00  3.58921118e+00 -7.41794197e+00\n",
            "  3.20769869e-01 -1.00740370e+00  2.02255127e+00  2.88181669e-02\n",
            "  7.06927822e+00 -8.18076490e+00  5.73301776e+00  1.27712318e+01\n",
            "  4.33839249e+00  1.70032655e+00  4.73723651e+00 -4.04085088e+00\n",
            "  2.59490496e+00 -8.95616384e+00  9.65454405e+00  4.26002349e-01\n",
            " -4.49496608e+00  2.92307792e+00 -2.03720684e+00 -1.15085601e+00\n",
            " -3.69762785e-01  1.74025997e+00 -1.70541020e+01  9.05438491e+00\n",
            "  3.15840588e+00 -5.34086514e+00  5.98523164e+00  5.47121141e+00\n",
            " -2.81979619e+00  5.87692462e+00 -2.93244631e-01 -7.30697654e-02\n",
            " -1.60295749e+00 -4.73454593e+00  6.31267068e+00  2.84842080e+00\n",
            "  1.21595437e+01  4.45554142e-01  1.83579285e+00  4.78909077e+00\n",
            "  2.02937831e+00 -7.35198806e+00  7.75493502e+00  3.04001317e+00\n",
            "  3.61003791e-02  3.10402154e+00  6.40946075e-01 -5.49839087e+00\n",
            "  2.29421511e+00  5.86692825e+00  1.34844999e+01  5.79834964e+00\n",
            " -5.75556406e+00 -3.33391485e+00  4.53891561e-01  1.89358856e+00\n",
            "  1.10772394e+01  1.96784055e+00  2.22563502e+00  1.46790736e+00\n",
            "  3.82037893e+00 -3.56424605e+00  1.90506716e+00  2.67915644e-01\n",
            " -1.08315708e+00 -2.61130316e+00 -2.12246753e+00 -3.75635650e+00\n",
            " -1.90942811e+00 -3.49140982e+00 -2.06865814e+00 -3.09831774e+00\n",
            "  7.25602986e+00  1.41301854e+01 -4.45290879e+00  3.35432180e+00\n",
            "  5.81813778e-01  5.10440836e+00  5.81626189e+00 -8.81813756e+00\n",
            "  5.82501412e+00 -8.69962363e+00  7.96846887e-01  3.54353086e+00\n",
            "  2.90253746e+00 -3.64832470e+00  9.70945418e+00  1.34238583e+01\n",
            " -6.76382704e+00 -6.37171796e+00  1.37395270e+00  4.94440332e+00\n",
            " -9.89648138e+00  7.27067144e+00 -3.02134927e+00  4.11874517e+00\n",
            "  1.29077725e-01 -2.08852295e+00  3.58514422e+00  6.71071170e+00\n",
            "  1.58325926e+00  7.08982128e+00  5.76500740e+00 -6.82081606e-01\n",
            " -5.64776698e-01 -1.17572607e+00  7.36454691e-01 -2.33943664e+00\n",
            "  8.14223446e-01 -5.00613440e-01 -2.88768782e+00 -7.01655016e-01\n",
            " -1.05876746e+00  7.09129377e+00 -5.42856768e+00  5.41780422e-02\n",
            "  4.48302392e+00  3.58000822e+00 -3.38831381e+00 -7.97169321e-01\n",
            "  7.12701963e-01  5.25878431e+00  4.52747791e+00 -3.51522239e+00\n",
            " -5.28679762e+00 -2.14937334e-01 -4.79850793e+00  1.35231606e+00\n",
            "  1.25144469e+00 -3.39836104e+00  4.02449865e+00  4.34765603e-01\n",
            " -3.63305116e+00  6.35898544e+00  3.47472997e+00  1.06565223e+00\n",
            "  3.74537778e+00 -2.05258569e+00  1.22664452e+01  5.18777383e+00\n",
            "  6.62193934e+00  3.33632999e+00  5.30559842e+00 -7.23486092e-01\n",
            "  1.05815768e+01  1.54211192e+00  3.29169969e+00 -4.32249420e+00\n",
            " -4.14383333e+00  3.21326324e+00 -1.83999214e+00  6.09837697e+00\n",
            " -1.59531732e-02  4.79240433e+00  2.22880053e-02  7.19305098e+00\n",
            " -2.14681307e+00  3.35838780e+00  5.04392511e+00  3.19446934e-01\n",
            "  5.98110159e+00 -1.76756839e+00 -9.31349786e-01  1.07589715e+01\n",
            "  2.92628597e+00  9.78219175e-01 -1.22676750e+00  6.60641756e-01\n",
            "  1.02852775e+01 -3.49428815e+00  7.02240417e+00 -2.17437262e+00\n",
            "  4.96031094e+00  4.10692235e+00  5.85572490e+00  6.11475422e+00\n",
            "  2.66845261e+00  4.99260623e+00  5.36449776e-01  3.62955524e+00\n",
            " -4.47797043e+00  6.39553953e+00 -4.82769864e+00  3.47870072e+00\n",
            "  9.02177225e-01 -4.50220430e+00 -4.66235175e+00  6.74054701e+00\n",
            "  1.40003735e+01  1.63186224e+00  9.94857142e-01  1.82247247e+00\n",
            "  6.23642947e+00  6.67603499e+00  4.30586417e+00  9.60856566e+00\n",
            " -3.05495021e+00 -5.91821673e-01  4.05858807e+00  2.09918232e+00\n",
            "  8.40539701e+00  6.52912090e+00 -1.29784747e+00  1.63162466e+00\n",
            "  6.06447592e+00  8.66694936e+00 -6.20795886e+00  4.08970381e+00\n",
            "  3.13940361e+00  1.85836733e+00 -2.05845457e+00  3.20056619e+00\n",
            "  2.42310287e+00 -1.18917778e+00  2.46849898e-01  2.65365738e+00\n",
            " -1.77848214e+00  9.65082740e+00  1.38066378e+00 -2.79742158e+00\n",
            "  5.26725034e+00  8.18616084e+00 -4.29985369e+00  4.07257812e+00\n",
            "  2.14203205e+00  7.67055513e+00 -2.31325400e+00  4.33758728e+00\n",
            " -3.57726423e+00  5.05311772e+00  1.01010064e+01  1.02515702e+00\n",
            "  8.40644620e+00  1.41469157e+00  2.37552706e+00  5.66516549e+00\n",
            "  7.66016870e+00  3.38549327e+00  1.26829205e+00  6.43005210e+00\n",
            "  2.35035217e+00 -2.79292928e+00 -2.59413923e+00  4.63927805e+00\n",
            "  3.03115206e+00  9.69127024e+00  1.36173999e+01  9.43235932e+00\n",
            " -3.13241301e+00  4.80012751e+00  2.63312852e+00 -2.87493216e+00\n",
            "  5.36519000e+00  6.59378080e+00  4.59723416e+00 -1.66957685e+00\n",
            " -7.93171831e-01  1.04741525e+01 -2.89331672e-01 -1.96735883e+00\n",
            "  1.84093432e+00  6.84864738e-01  1.18917991e+01 -1.91116311e+00\n",
            "  3.55723951e+00  2.11984650e+00  6.33695234e+00  7.23840523e+00\n",
            "  2.75290869e+00  7.20657410e+00  7.15016835e+00  6.84548261e+00\n",
            "  2.72722196e+00  3.93887309e+00 -3.79316033e+00 -3.10701213e+00\n",
            " -5.04828023e-01  3.24247062e+00 -4.97047270e+00  2.25012981e+00\n",
            "  5.87275082e+00 -9.72559277e-02  2.17840738e+00  1.02530764e+01] [ 6.10161271 -0.05027452  2.17344532  1.45185849  0.6572306   2.21134891\n",
            "  2.34283291  4.40159666  2.57615936  0.50580546  2.93018541  0.3569676\n",
            "  4.77773678  3.43201905  6.45393723  2.7112883   4.51695196  2.80792979\n",
            "  4.3568548   1.98781388  1.78885808  3.51856151  2.79058362  4.93826598\n",
            "  4.31587703  1.4513389   3.33815789 -0.09360344  1.35282928  2.01422482\n",
            "  1.78640477  2.72708416  6.03496254  0.45523752  5.12986847  2.92896555\n",
            " -1.19197953  5.34258629  1.25279296  1.09455995  1.81672966  6.70858428\n",
            "  5.30896642  2.16303686  0.38372317  2.07803063  6.72252173 -1.5126631\n",
            " -0.56951197  6.59248038  4.15469813  1.39458982  4.55621164  1.07212902\n",
            "  2.02517099  1.95424071  3.90319624  4.55096222  3.04812104  3.74988086\n",
            "  0.15451252  0.82191478  1.5453035   1.67703763  2.3712783   2.14385848\n",
            "  1.04283855  4.12686    -0.57458627  3.04220304  3.01442248  3.73240395\n",
            "  4.19977164  2.9025456   0.09723434 -0.51152312 -1.55694107 -0.76705054\n",
            "  2.52862675  2.65813434  0.34301026  1.97846236  1.3763614   4.05751547\n",
            "  4.76216723  0.43355223  2.59503669 -1.09394183  4.29894751  3.96780348\n",
            "  3.03168603  1.41773584  3.92133226  3.16180108  2.40803713  2.7325085\n",
            "  1.94936465  2.02504761  0.75853015  4.74905676  1.87159724  1.88194153\n",
            "  1.4598883   2.45348596  2.1663547   2.41652892  0.25934849  1.9610503\n",
            "  1.18826603  2.82406643 -0.24582037  2.35353305  5.6801056   5.67392626\n",
            " -0.89464049  2.20408124 -2.23780544 -0.34353688  5.05908326  1.94388197\n",
            "  1.69932846  0.82022838  3.02423349  6.61369891  1.68118866  4.04645369\n",
            "  3.11643354  5.38322457  0.29361706  2.05499935  1.24507742  3.53108082\n",
            "  1.85636288  2.72182609  4.86660641  3.72150716 -3.09570361  1.81149267\n",
            "  2.99015534  0.8131381   1.25301857  0.34964752  4.86868587  0.95279681\n",
            " -3.24735654  1.643764    2.41582775  0.34675643  0.42814009  1.89154499\n",
            " -1.28289393  2.39493719  3.59325321  6.06225266  5.39784421  1.60082279\n",
            "  2.7512675   0.93946497  4.19350871 -0.02554056 -0.4888482   2.27314604\n",
            "  2.85854762  3.4431294   0.32927717  2.14651652  4.62522919  1.13908255\n",
            "  2.57367378  0.7117895   2.28104144  1.55968523 -1.02074811  0.47063146\n",
            "  1.2642149   1.65309905  0.96095094  2.25523906  4.88382878  1.96458266\n",
            " -0.28971137  2.17678756  2.27568476  2.08163523  2.78723143  5.30780308\n",
            " -0.25413564  5.46263377  1.20644871  1.82764298  5.33823465  3.22083647\n",
            "  5.06857178 -0.07062309 -0.81380369  2.4654924   2.32441967  7.65134994\n",
            "  2.67984558  2.24801626  2.38584173  0.49995158  3.26823531 -0.12776928\n",
            "  3.66896181  0.51348707  3.92956997  3.10169373 -0.40071389 -0.45765054\n",
            "  6.16289089  1.42524894  1.80260165  5.79305191  2.66484368  1.0264796\n",
            "  3.73840858  0.20236505  3.94911356  1.1751489   2.20825587  0.29714853\n",
            "  0.05376129  1.21584752  1.32540806  0.85907133  1.65791819 -0.32692748\n",
            "  3.62788498  5.00261179  2.65439833  1.22028923  2.35854985  2.47349443\n",
            "  2.97683849  3.43310994  5.40369915  1.77574403  5.17648085 -0.45541149\n",
            "  3.1947824   2.41568468  3.88551835  1.84706046  2.37309061  1.07933233\n",
            "  3.55619096 -1.65637951 -0.4474437   0.95617579  1.79697359  4.4383568\n",
            "  1.82585199  3.7310692   2.32146041  2.90945231  2.9251246   3.39516496\n",
            "  4.3482951   3.4966487   3.39811388 -1.16582187  4.6415291   0.86323616\n",
            "  3.57366718  3.99971455  5.82197766  1.36146354 -0.6566756   3.7644599\n",
            "  0.48096043  5.19302417  1.00060356  1.55277756 -1.01650431  1.46087591\n",
            "  1.87179927  1.69891213  0.67910312 -0.42037151 -0.54853404  4.97767677\n",
            "  0.676554    7.85164223  2.30372338  1.23456452  1.26769963 -0.27672212\n",
            "  0.8498197  -0.15675261  4.73224998  3.27834894  0.26389067  2.49244179\n",
            "  5.16548797  2.48397077  1.04839572  6.30038821  4.24481227  2.3169972\n",
            "  0.66098475  0.21015481  4.35267261  1.48629466  1.83330384  1.20783214\n",
            "  0.22331914  2.93405884  3.04856816  2.52950268 -0.8905667   2.14547726\n",
            " -4.53035994  2.93093035  2.31572829 -0.38048541  0.99114716 -2.28572444\n",
            "  0.6778293   2.31027497 -0.26099626 -0.48268653  6.55207337  1.66661605\n",
            "  1.29589891  3.61697472  1.6317954  -0.82563844  1.61262334 -1.1745246\n",
            " -1.46372179  2.10466655  3.36068172  2.14883102  2.11905224  3.98386499\n",
            "  0.70608713 -1.02270158 -0.50385499 -0.29785492  0.94861102  1.78954337\n",
            "  2.84469736 -0.35758347  1.1251822   1.60204113  3.24878712  0.27196336\n",
            "  1.73728265  2.92134063  1.3160188   6.39294518  1.81046641  3.1321782\n",
            "  2.29023296  4.9375918   3.58845052  6.85799711  1.52493709 -2.21238682\n",
            "  4.00589763  0.22737044  1.07108647  2.04054633 -0.25500862  5.08121023\n",
            "  2.08830739  1.9579391   2.01322329 -0.9255985   1.33866425  5.58540958\n",
            " -3.45715509  0.86984908  1.77420697  5.72254786  1.49832266  4.9742892\n",
            "  4.80075291  5.33728336  1.06558464  1.58036916  4.19638378  5.42750598\n",
            " -1.55845531  0.66196019  1.95451853 -0.7818912   2.95688619  2.14787347\n",
            " -0.57829548  0.50519572  3.81883043 -1.41699223  2.29718486  3.18555139\n",
            "  5.58529746  0.35450235 -1.21109245  1.95113876]\n"
          ]
        }
      ]
    },
    {
      "cell_type": "markdown",
      "metadata": {
        "id": "OHFxZhG0U4Ub"
      },
      "source": [
        "Notar que son dos \"tiras\" de números, bastante largas y que a simple vista no nos dicen mucho. Mejor, podemos graficar su histograma. Veremos bien qué es un histograma en la próxima clase. Por ahora, basta saber que es una forma de visualizar cómo está distribuida una tira de números. Lo que hace es tomar un número determinado de intervalos (`bins = 20`) y contar cuántas muestras caen en cada intervalo."
      ]
    },
    {
      "cell_type": "code",
      "metadata": {
        "id": "4nu_9GbwU4Uf",
        "colab": {
          "base_uri": "https://localhost:8080/",
          "height": 430
        },
        "outputId": "75aa4b86-4595-48e6-e141-3505e8f1013b"
      },
      "source": [
        "plt.hist(muestras_1, bins = 20, alpha = 0.5, label = 'Histograma Muestra 1')\n",
        "plt.hist(muestras_2, bins = 20, alpha = 0.5, label = 'Histograma Muestra 2')\n",
        "plt.legend()\n",
        "plt.grid(alpha=0.5)\n",
        "plt.show()"
      ],
      "execution_count": 11,
      "outputs": [
        {
          "output_type": "display_data",
          "data": {
            "text/plain": [
              "<Figure size 640x480 with 1 Axes>"
            ],
            "image/png": "[encoded data removed]"
          },
          "metadata": {}
        }
      ]
    },
    {
      "cell_type": "markdown",
      "metadata": {
        "id": "_Ez12LcZU4Uu"
      },
      "source": [
        "**Ejercicio:** Volver a \"generar\" las muestas y hacer sus histogramas. ¿Cambió?¿Por qué? Googlear que es una *semilla* (`seed`) en NumPy e implementar. También, cambiar la cantidad de muestras, modificando el argumento `size`.\n",
        "\n",
        "### 1.3 Relación entre Probabilidad y Estadística\n",
        "\n",
        "**Promedio y desviación estándar en una distribución Normal**\n",
        "\n",
        "En una distribución normal, el promedio de las muestras obtenidas *tiende* al valor medio $\\mu$ de la distribución, y la desviación estándar *tiende* a la desviacíon estándar $\\sigma$ de la distribución. Notar, entonces, que existen valores calculados (promedio, desviación estándar) y valores teóricos ($\\mu$ y $\\sigma$). Confundirlos entre sí es un error común.\n",
        "\n",
        "Veamos un ejemplo. Nuevamente, obtenemos muestras de una distribución normal:"
      ]
    },
    {
      "cell_type": "code",
      "metadata": {
        "id": "55UHxgsWU4Uy"
      },
      "source": [
        "mu = 8.5\n",
        "sigma = 3.0\n",
        "muestras = np.random.normal(loc = mu, scale = sigma, size = 100)"
      ],
      "execution_count": 12,
      "outputs": []
    },
    {
      "cell_type": "markdown",
      "metadata": {
        "id": "IrLpnkqqU4U9"
      },
      "source": [
        "Y calculamos su promedio y desviación estándar, y comparamos con $\\mu$ y $\\sigma$."
      ]
    },
    {
      "cell_type": "code",
      "metadata": {
        "id": "k1JKKz5eU4VC",
        "colab": {
          "base_uri": "https://localhost:8080/"
        },
        "outputId": "a03a8a09-0852-4b2b-eb0d-669f2a925521"
      },
      "source": [
        "print('Valor medio teorico:', mu, '. Valor medio calculado:', muestras.mean())\n",
        "print('Desviacion estandar teorica:', sigma, '. Desviacion estandar calculada:', muestras.std())"
      ],
      "execution_count": 13,
      "outputs": [
        {
          "output_type": "stream",
          "name": "stdout",
          "text": [
            "Valor medio teorico: 8.5 . Valor medio calculado: 8.48845795565555\n",
            "Desviacion estandar teorica: 3.0 . Desviacion estandar calculada: 2.697145618088673\n"
          ]
        }
      ]
    },
    {
      "cell_type": "markdown",
      "metadata": {
        "id": "YqQs6D_YU4VQ"
      },
      "source": [
        "Comparemos el histograma de las muestras y la distribución teórica, que graficaremos haciendo uso de la librería `SciPy`:"
      ]
    },
    {
      "cell_type": "code",
      "metadata": {
        "id": "bf31AbLMU4VU",
        "colab": {
          "base_uri": "https://localhost:8080/",
          "height": 453
        },
        "outputId": "ed447a81-5d2c-4527-c617-7172098aad50"
      },
      "source": [
        "from scipy.stats import norm\n",
        "\n",
        "plt.hist(muestras, bins=20, density=True, alpha=0.6, color='r')\n",
        "\n",
        "xmin, xmax = plt.xlim()\n",
        "x = np.linspace(xmin, xmax, 100)\n",
        "p = norm.pdf(x, mu, sigma)\n",
        "plt.plot(x, p, 'k', linewidth=2, label = 'Distribución Teórica')\n",
        "\n",
        "title = \"Muestras obtenidas de una distribución normal con mu = %.2f,  sigma = %.2f\" % (mu, sigma)\n",
        "\n",
        "plt.title(title)\n",
        "plt.legend()\n",
        "plt.show()"
      ],
      "execution_count": 14,
      "outputs": [
        {
          "output_type": "display_data",
          "data": {
            "text/plain": [
              "<Figure size 640x480 with 1 Axes>"
            ],
            "image/png": "[encoded data removed]"
          },
          "metadata": {}
        }
      ]
    },
    {
      "cell_type": "markdown",
      "metadata": {
        "id": "RTOjCCEQU4Vi"
      },
      "source": [
        "**Nota:** si estás atento/a a la escala en el eje *y*, notarás que es distinta a la escala de los histogramas anteriores. Esto se debe a que, en un histograma, además de graficar la cantidad de muestras que entran en cada intervalo, podemos también graficar la **proporción** de muestras que entran en cada intervalo.\n",
        "\n",
        "**Para pensar y probar:**\n",
        "1. ¿Por qué no coinciden $\\mu$ y $\\sigma$ con los valores calculados?¿Qué podemos hacer para que se parezcan cada vez más?¿Y qué ocurre en ese caso con el histograma y la distribución teórica?\n",
        "2. Con respecto al ejercicio que acabamos de hacer, ¿cuáles son los *parámetros* asociados al mundo de las probabilidades y cuáles son los *valores estadísticos* asociados al mundo de la estadística?\n",
        "\n",
        "\n",
        "### Ejercitación\n",
        "\n",
        "Los siguientes ejercicios pueden parecer muy difíciles, pero te aseguramos que no lo son tanto. ¡Lo importante es que los intentes!\n",
        "\n",
        "**Ejercicio 1 - Challenge:** Muchos juegos de mesa requieren tirar dados y sumar sus resultados. Por ejemplo, el [Catán](https://es.wikipedia.org/wiki/Los_Colonos_de_Cat%C3%A1n). Es evidente que, mientras en un dado la probabilidad de que salga cada cara es la misma, en esta variable aleatoria todos los resultados no son igual de probables (¿Cuáles son los posibles resultados?). Entonces, para mejorar tu estrategia en estos juegos, es útil saber cuál es la probabilidad asociada a cada resultado. Para ello, debes calcular su distribución de probabilidad. Entonces,\n",
        "\n",
        "Obtener la distribución de la variable aleatoria *suma del resultado de tirar dos dados*. Para ello puedes intentar alguna o ambas de las siguientes opciones:\n",
        "1. **Obtener la distribución teórica:** para ello, basta contar los casos *a mano* con lápiz y papel. Por ejemplo:\n",
        "    1. Uno (1) es un resultado imposible\n",
        "    2. Dos (2) solamente puede ser obtenida con ambos dados en 1, 1 + 1\n",
        "    3. Tres (3) tiene dos opciones, 2 + 1 y 1 + 2\n",
        "    4. Cuatro (4) tiene tres opciones: 3 + 1, 2 + 2, 1 + 3\n",
        "    \n",
        "    y así para el resto de los posibles resultados. Completa la lista hasta el 12 y cuenta cuántas combinaciones existen para cada resultado. ¿Cuántos combinaciones debe haber en total, teniendo en cuenta que cada dado tiene seis caras? Al final, debes llevarlos a porcentaje. Por ejemplo, si en total son 100 posibles combinaciones, y el 12 tiene 10 posibles combinaciones, su probabilidad es 10/100 = 0.1\n",
        "    \n",
        "2. **Simular y obtener una distribución aproximada:** otra opción es simular esta situación. Viste en el notebook anterior cómo simular un dado. Ahora simula dos dados y obtiene la suma de sus resultados.\n",
        "\n",
        "¿Te animas a comparar ambos métodos?"
      ]
    },
    {
      "cell_type": "code",
      "metadata": {
        "id": "327V3n7oU4Vm",
        "colab": {
          "base_uri": "https://localhost:8080/",
          "height": 430
        },
        "outputId": "ea9b2162-1657-413b-b2d8-fdbfa997fc10"
      },
      "source": [
        "# Vamos a calcular la distribución de probabilidad para la suma de dos dados de 6 caras.\n",
        "\n",
        "# Las posibles sumas van de 2 a 12\n",
        "suma_frecuencia = {suma: 0 for suma in range(2, 13)}\n",
        "\n",
        "# Recorremos cada posible combinación de dos dados\n",
        "for dado1 in range(1, 7):\n",
        "    for dado2 in range(1, 7):\n",
        "        suma = dado1 + dado2\n",
        "        suma_frecuencia[suma] += 1\n",
        "\n",
        "# Calculamos el total de combinaciones\n",
        "total_combinaciones = sum(suma_frecuencia.values())\n",
        "\n",
        "# Calculamos la probabilidad de cada suma en porcentaje\n",
        "suma_probabilidad = {suma: (frecuencia / total_combinaciones) * 100 for suma, frecuencia in suma_frecuencia.items()}\n",
        "\n",
        "suma_frecuencia, suma_probabilidad, total_combinaciones\n",
        "\n",
        "plt.hist(suma, bins = np.arange(1.5,13.5,1), density=True, rwidth = 0.8,)\n",
        "plt.show()"
      ],
      "execution_count": 15,
      "outputs": [
        {
          "output_type": "display_data",
          "data": {
            "text/plain": [
              "<Figure size 640x480 with 1 Axes>"
            ],
            "image/png": "[encoded data removed]"
          },
          "metadata": {}
        }
      ]
    },
    {
      "cell_type": "markdown",
      "metadata": {
        "id": "EkNiPekCU4V0"
      },
      "source": [
        "**Ejercicio 2:** Obtiene, simulando, la distribución de la variable aleatoria *máximo valor obtenido al tirar dos dados.* Por ejemplo, si obtenemos 2 y 5, el resultado es 5. Nuevamente, si lo deseas, también puedes contar casos y obtener la distribución teórica."
      ]
    },
    {
      "cell_type": "code",
      "metadata": {
        "id": "tzyvWre3U4V4",
        "colab": {
          "base_uri": "https://localhost:8080/",
          "height": 430
        },
        "outputId": "6f4bda37-246f-4dce-9bed-5b16e7050d32"
      },
      "source": [
        "import random\n",
        "from collections import Counter\n",
        "\n",
        "# Configuración de la simulación\n",
        "num_simulaciones = 30  # Número de tiradas para simular la distribución\n",
        "\n",
        "# Simulamos las tiradas y calculamos el máximo valor de cada tirada\n",
        "resultados_max = [max(random.randint(1, 6), random.randint(1, 6)) for _ in range(num_simulaciones)]\n",
        "\n",
        "# Contamos la frecuencia de cada posible resultado de máximo valor\n",
        "frecuencia_max = Counter(resultados_max)\n",
        "\n",
        "# Convertimos las frecuencias a probabilidades en porcentaje\n",
        "total_simulaciones = sum(frecuencia_max.values())\n",
        "probabilidad_max = {resultado: (frecuencia / total_simulaciones) * 100 for resultado, frecuencia in frecuencia_max.items()}\n",
        "\n",
        "frecuencia_max, probabilidad_max\n",
        "\n",
        "plt.hist(probabilidad_max, bins = np.arange(0.5,7.5,1), density=True, rwidth = 0.8)\n",
        "plt.show()"
      ],
      "execution_count": 16,
      "outputs": [
        {
          "output_type": "display_data",
          "data": {
            "text/plain": [
              "<Figure size 640x480 with 1 Axes>"
            ],
            "image/png": "[encoded data removed]"
          },
          "metadata": {}
        }
      ]
    },
    {
      "cell_type": "markdown",
      "metadata": {
        "id": "Iu_y4bliU4WK"
      },
      "source": [
        "## 2. Correlación\n",
        "\n",
        "El objetivo de esta sección es que te familiarices con los conceptos de **Covarianza** y **Correlación**. Si bien las fórmulas parecen difíciles, esperemos que veas que nada es tan grave como parece. También que prestes atención a cómo a veces es útil simular datos para aprender o acercarse a algunas técnicas.\n",
        "\n",
        "Tenemos dos variables aleatorias $X$ e $Y$, de las cuales tenemos $n$ muestras de cada una, $x_1,x_2,..., x_n$ e $y_1,y_2,..., y_n$. Sus valores medios son $\\bar{x}$ e $\\bar{y}$, respectivamente. Definimos la Covarianza como\n",
        "\n",
        "$$Cov(X,Y) = \\sum_{i=1}^{n} \\frac{(x_i - \\bar{x})(y_i - \\bar{y})}{n}$$\n",
        "\n",
        "A veces verás que, en lugar de dividir por $n$, se divide por $n - 1$ ó $n - 2$, pero eso no es importante ahora. Según Wikipedia, \"la covarianza es un valor que indica el grado de variación conjunta de dos variables aleatorias respecto a sus medias. Es el dato básico para determinar si existe una dependencia entre ambas variables y además es el dato necesario para estimar otros parámetros básicos, como el coeficiente de correlación lineal o la recta de regresión.\".\n",
        "\n",
        "Si bien la fórmula puede parecer difícil, veamos qué nos dice de nuestros datos simulando algunos casos sencillos.\n",
        "\n",
        "Empezamos generandos muestras al azar de dos variables aleatorias no relacionadas entre sí."
      ]
    },
    {
      "cell_type": "code",
      "metadata": {
        "id": "q66jDC_IU4WO"
      },
      "source": [
        "import matplotlib.pyplot as plt\n",
        "import numpy as np"
      ],
      "execution_count": 17,
      "outputs": []
    },
    {
      "cell_type": "code",
      "metadata": {
        "id": "dWwL1LZ7U4Wa",
        "colab": {
          "base_uri": "https://localhost:8080/",
          "height": 435
        },
        "outputId": "dd3b8c99-462f-480e-fd88-e41baf2e0751"
      },
      "source": [
        "n = 1000\n",
        "sigma_1 = 2\n",
        "sigma_2 = 20\n",
        "x = np.random.normal(size = n, scale = sigma_1)\n",
        "y = np.random.normal(size = n, scale = sigma_2)\n",
        "\n",
        "# Graficamos\n",
        "plt.scatter(x, y)\n",
        "plt.grid()\n",
        "plt.xlim([-60,60])\n",
        "plt.ylim([-60,60])\n",
        "plt.show()"
      ],
      "execution_count": 18,
      "outputs": [
        {
          "output_type": "display_data",
          "data": {
            "text/plain": [
              "<Figure size 640x480 with 1 Axes>"
            ],
            "image/png": "[encoded data removed]"
          },
          "metadata": {}
        }
      ]
    },
    {
      "cell_type": "markdown",
      "metadata": {
        "id": "w44BW3CCU4Wl"
      },
      "source": [
        "¿Hay alguna relación entre ellos? Por relación nos referimos a \"variación conjunta\". Y por \"variación conjunta\" podemos imaginarnos que si una de las variables aumenta, la otra también lo hace. Y si una variable disminuye su valor, la otra también lo hace. La covarianza intenta cuantificar esa relación."
      ]
    },
    {
      "cell_type": "code",
      "metadata": {
        "id": "3wX-H3y-U4Wo",
        "colab": {
          "base_uri": "https://localhost:8080/"
        },
        "outputId": "fcc0d6b9-4ba7-4652-a2a0-93ffc4cd53ee"
      },
      "source": [
        "cov = np.sum((x - x.mean())*(y - y.mean()))/x.size\n",
        "print(cov)"
      ],
      "execution_count": 19,
      "outputs": [
        {
          "output_type": "stream",
          "name": "stdout",
          "text": [
            "0.5726900138448497\n"
          ]
        }
      ]
    },
    {
      "cell_type": "markdown",
      "metadata": {
        "id": "zzbRb7kmU4W0"
      },
      "source": [
        "La covarianza, sin embargo, tiene un pequeño problema: depende de la escala de nuestros datos. Entonces, para deshacernos de la escala, se puede definir la Correlación, que no es otra cosa que la covarianza dividida la desviación estándar de cada variable aletaria.\n",
        "\n",
        "$$Corr(X,Y) = \\frac{Cov(X,Y)}{\\sigma_X \\sigma_Y}$$"
      ]
    },
    {
      "cell_type": "code",
      "metadata": {
        "id": "wW2-EG20U4W2",
        "colab": {
          "base_uri": "https://localhost:8080/"
        },
        "outputId": "58c09960-89ca-4e8a-c977-ff542f0a90d5"
      },
      "source": [
        "corr = cov/(x.std()*y.std())\n",
        "print(corr)"
      ],
      "execution_count": 20,
      "outputs": [
        {
          "output_type": "stream",
          "name": "stdout",
          "text": [
            "0.014119554414608222\n"
          ]
        }
      ]
    },
    {
      "cell_type": "markdown",
      "metadata": {
        "id": "UHClidVeU4XC"
      },
      "source": [
        "Y con eso nos deshacemos de la escala. Un valor cercano a cero nos indica que no existe una relación (¿lineal?) entre las variables.\n",
        "\n",
        "**Probar** con distintas escalas (modificando `sigma_1` y `sigma_2`) y verán que `cov` tomará valores en un rango muy amplio, mientras que `corr` se mantendrá cercana a cero.\n",
        "\n",
        "### 2.1 Relación lineal\n",
        "\n",
        "Veamos otro ejemplo: sabemos que existe una relación lineal entre $X$ e $Y$, es decir, podemos aproximar $Y =aX+b$, donde $a$ y $b$ son la pendiente y la ordenada al origen."
      ]
    },
    {
      "cell_type": "code",
      "metadata": {
        "id": "JV0TUTcCU4XE",
        "colab": {
          "base_uri": "https://localhost:8080/",
          "height": 430
        },
        "outputId": "e73ccb65-25d9-44f9-b165-a7b2fcc4ee4f"
      },
      "source": [
        "n = 100\n",
        "x = np.linspace(-1,1,n) + 0.25*np.random.normal(size = n)\n",
        "y = 2.5*x + 0.25*np.random.normal(size = n)\n",
        "\n",
        "# Graficamos\n",
        "plt.scatter(x, y)\n",
        "plt.grid()\n",
        "plt.show()"
      ],
      "execution_count": 21,
      "outputs": [
        {
          "output_type": "display_data",
          "data": {
            "text/plain": [
              "<Figure size 640x480 with 1 Axes>"
            ],
            "image/png": "[encoded data removed]"
          },
          "metadata": {}
        }
      ]
    },
    {
      "cell_type": "markdown",
      "metadata": {
        "id": "SpN-9JFmU4XM"
      },
      "source": [
        "La covarianza nos da"
      ]
    },
    {
      "cell_type": "code",
      "metadata": {
        "id": "LEzzOeFtU4XR",
        "colab": {
          "base_uri": "https://localhost:8080/"
        },
        "outputId": "403f7b45-13ab-477d-9688-edb562b027bf"
      },
      "source": [
        "cov = np.sum((x - x.mean())*(y - y.mean()))/x.size\n",
        "print(cov)"
      ],
      "execution_count": 22,
      "outputs": [
        {
          "output_type": "stream",
          "name": "stdout",
          "text": [
            "0.9145569583669965\n"
          ]
        }
      ]
    },
    {
      "cell_type": "code",
      "metadata": {
        "id": "ofbVUp7xU4Xa",
        "colab": {
          "base_uri": "https://localhost:8080/"
        },
        "outputId": "aa8801f2-13ff-4ea3-bf29-d82180444c40"
      },
      "source": [
        "corr = cov/(x.std()*y.std())\n",
        "corr"
      ],
      "execution_count": 23,
      "outputs": [
        {
          "output_type": "execute_result",
          "data": {
            "text/plain": [
              "0.9852172279971239"
            ]
          },
          "metadata": {},
          "execution_count": 23
        }
      ]
    },
    {
      "cell_type": "markdown",
      "metadata": {
        "id": "3O19qjolU4Xi"
      },
      "source": [
        "Ahora, en cambio, el valor es cercano a uno, indicando una relación lineal creciente entre ambas variables.\n",
        "\n",
        "**Probar** cambiando la pendiente de la función lineal (el número que multiplica a `x` en `y = ...`) y mirar qué pasa. ¿Qué pasa si la pendiente es negativa?"
      ]
    },
    {
      "cell_type": "markdown",
      "metadata": {
        "id": "vjgjstKaU4Xm"
      },
      "source": [
        "#### Conclusiones\n",
        "\n",
        "1. La covarianza es una medida de la variación conjunta de dos variables. Pero tiene un problema: depende de la escala.\n",
        "2. Para \"deshacernos\" de la escala, definimos la correlación, que es simplemente la covarianza dividida por el producto de la desviación estándar de cada variable. **Para pensar:** ¿por qué la desviación estándar está asociada a la escala de una variable?\n",
        "3. La correlación es un valor entre -1 y 1. La correlación toma un valor cercano a uno cuando hay una relación lineal creciente entre las variables, cero cuando no hay relación y -1 cuando hay una relación lineal decreciente.\n",
        "4. Esta correlación tiene un nombre particular: **Correlación de Pearson**."
      ]
    },
    {
      "cell_type": "markdown",
      "metadata": {
        "id": "piVs0Av1U4Xp"
      },
      "source": [
        "### 2.2 Covarianza y Correlación con NumPy\n",
        "\n",
        "**Esta sección es opcional**\n",
        "\n",
        "NumPy ya tiene incorporadas funciones que calculan la covarianza y la correlación entre dos variables. La única diferencia es que, en lugar de devolver un único valor, devuelve cuatro valores, que corresponden a la covarianza/correlación entre $X$ con $X$, $X$ con $Y$, $Y$ con $X$, e $Y$ con $Y$. ¿Por qué, en la correlación, algunos valores son exactamente uno (1.)?"
      ]
    },
    {
      "cell_type": "code",
      "metadata": {
        "id": "frlmIIkKU4Xr",
        "colab": {
          "base_uri": "https://localhost:8080/"
        },
        "outputId": "4d3c51bb-9b9c-4441-97c8-e43f1c31b08c"
      },
      "source": [
        "np.cov([x,y])"
      ],
      "execution_count": 24,
      "outputs": [
        {
          "output_type": "execute_result",
          "data": {
            "text/plain": [
              "array([[0.37664274, 0.92379491],\n",
              "       [0.92379491, 2.33430465]])"
            ]
          },
          "metadata": {},
          "execution_count": 24
        }
      ]
    },
    {
      "cell_type": "code",
      "metadata": {
        "id": "AWJOKo6sU4Xz",
        "colab": {
          "base_uri": "https://localhost:8080/"
        },
        "outputId": "774eb3b6-ca40-41c1-db51-3caa66586edd"
      },
      "source": [
        "np.corrcoef([x,y])"
      ],
      "execution_count": null,
      "outputs": [
        {
          "output_type": "execute_result",
          "data": {
            "text/plain": [
              "array([[1.        , 0.98511881],\n",
              "       [0.98511881, 1.        ]])"
            ]
          },
          "metadata": {},
          "execution_count": 30
        }
      ]
    },
    {
      "cell_type": "markdown",
      "metadata": {
        "id": "MyrooOHbU4X8"
      },
      "source": [
        "### 2.3 Relación No-Lineal entre variables\n",
        "\n",
        "**Esta sección es opcional, pero recomendamos leerla**\n",
        "\n",
        "¿Qué ocurre cuando la relación no es lineal entre las variables? Veámoslo con un ejemplo.\n"
      ]
    },
    {
      "cell_type": "code",
      "metadata": {
        "id": "iW2lL_d8U4X-",
        "colab": {
          "base_uri": "https://localhost:8080/",
          "height": 430
        },
        "outputId": "7e9346e4-0ece-4999-9a07-e0a4d0d88936"
      },
      "source": [
        "n = 1000\n",
        "x = np.linspace(-5,5,n) + 0.25*np.random.normal(size = n)\n",
        "y = x**2 + 0.25*np.random.normal(size = n)\n",
        "\n",
        "# Graficamos\n",
        "plt.scatter(x, y)\n",
        "plt.grid()\n",
        "plt.show()"
      ],
      "execution_count": 25,
      "outputs": [
        {
          "output_type": "display_data",
          "data": {
            "text/plain": [
              "<Figure size 640x480 with 1 Axes>"
            ],
            "image/png": "[encoded data removed]"
          },
          "metadata": {}
        }
      ]
    },
    {
      "cell_type": "markdown",
      "metadata": {
        "id": "x0f8gozSU4YF"
      },
      "source": [
        "La covarianza nos da"
      ]
    },
    {
      "cell_type": "code",
      "metadata": {
        "id": "qyOWwrbQU4YH",
        "colab": {
          "base_uri": "https://localhost:8080/"
        },
        "outputId": "e15a7c30-e9b8-44c6-f667-667fdc9a59c9"
      },
      "source": [
        "cov = np.sum((x - x.mean())*(y - y.mean()))/x.size\n",
        "print(cov)"
      ],
      "execution_count": 26,
      "outputs": [
        {
          "output_type": "stream",
          "name": "stdout",
          "text": [
            "0.1356092427185322\n"
          ]
        }
      ]
    },
    {
      "cell_type": "code",
      "metadata": {
        "id": "_90NldnwU4YP",
        "colab": {
          "base_uri": "https://localhost:8080/"
        },
        "outputId": "0e8651ee-6998-4f6c-af10-f1a6c56e0726"
      },
      "source": [
        "corr = cov/(x.std()*y.std())\n",
        "corr"
      ],
      "execution_count": 27,
      "outputs": [
        {
          "output_type": "execute_result",
          "data": {
            "text/plain": [
              "0.006203189415646534"
            ]
          },
          "metadata": {},
          "execution_count": 27
        }
      ]
    },
    {
      "cell_type": "markdown",
      "metadata": {
        "id": "9XiFp1CZU4YX"
      },
      "source": [
        "Notar que la correlación de un valor alrededor de cero, indicando que no hay una correlación entre ambas variables. Pero esto NO indica que no hay una *relación* entre esas variables, solamente nos dice que no es lineal. Por eso es muy importante graficar.\n",
        "\n",
        "**Probar** cambiando la relación matemática entre `x` e `y` y mirar qué pasa.\n",
        "\n",
        "Para tratar con relaciones no lineal entre variables, existen otros tipos de correlaciones. La que vimos se llama **Correlación de Pearson**, que es la más famosa. Pero también existen otras, Spearman y Kendall, que son muy útiles cuando existe una relación no lineal entre variables.\n",
        "\n",
        "### 3. Correlación en Pandas\n",
        "\n",
        "Probablemente ya estés un poco mareado/a con tantos términos, conceptos y líneas de código. Si no entendiste del todo lo anterior, no te preocupes. Vamos a ver cómo lo aplicamos en un conjunto de datos. ¡Verás que es muy sencillo!\n",
        "\n",
        "Para eso, volvemos a usar el Iris Dataset del encuentro anterior."
      ]
    },
    {
      "cell_type": "code",
      "metadata": {
        "id": "jwu9X-67U4Ya"
      },
      "source": [
        "import pandas as pd"
      ],
      "execution_count": 2,
      "outputs": []
    },
    {
      "cell_type": "code",
      "metadata": {
        "id": "QSWYv0_WU4Yk",
        "colab": {
          "base_uri": "https://localhost:8080/",
          "height": 206
        },
        "outputId": "e00cb638-ca64-4aff-b45b-232c76e2fc44"
      },
      "source": [
        "data = pd.read_csv('iris.csv')\n",
        "# data.drop(columns = 'Id', inplace = True)\n",
        "data.head()"
      ],
      "execution_count": 4,
      "outputs": [
        {
          "output_type": "execute_result",
          "data": {
            "text/plain": [
              "   Id  SepalLengthCm  SepalWidthCm  PetalLengthCm  PetalWidthCm      Species\n",
              "0   1            5.1           3.5            1.4           0.2  Iris-setosa\n",
              "1   2            4.9           3.0            1.4           0.2  Iris-setosa\n",
              "2   3            4.7           3.2            1.3           0.2  Iris-setosa\n",
              "3   4            4.6           3.1            1.5           0.2  Iris-setosa\n",
              "4   5            5.0           3.6            1.4           0.2  Iris-setosa"
            ],
            "text/html": [
              "\n",
              "  <div id=\"df-437c68a8-75c0-4337-8085-b9f035c6c46f\" class=\"colab-df-container\">\n",
              "    <div>\n",
              "<style scoped>\n",
              "    .dataframe tbody tr th:only-of-type {\n",
              "        vertical-align: middle;\n",
              "    }\n",
              "\n",
              "    .dataframe tbody tr th {\n",
              "        vertical-align: top;\n",
              "    }\n",
              "\n",
              "    .dataframe thead th {\n",
              "        text-align: right;\n",
              "    }\n",
              "</style>\n",
              "<table border=\"1\" class=\"dataframe\">\n",
              "  <thead>\n",
              "    <tr style=\"text-align: right;\">\n",
              "      <th></th>\n",
              "      <th>Id</th>\n",
              "      <th>SepalLengthCm</th>\n",
              "      <th>SepalWidthCm</th>\n",
              "      <th>PetalLengthCm</th>\n",
              "      <th>PetalWidthCm</th>\n",
              "      <th>Species</th>\n",
              "    </tr>\n",
              "  </thead>\n",
              "  <tbody>\n",
              "    <tr>\n",
              "      <th>0</th>\n",
              "      <td>1</td>\n",
              "      <td>5.1</td>\n",
              "      <td>3.5</td>\n",
              "      <td>1.4</td>\n",
              "      <td>0.2</td>\n",
              "      <td>Iris-setosa</td>\n",
              "    </tr>\n",
              "    <tr>\n",
              "      <th>1</th>\n",
              "      <td>2</td>\n",
              "      <td>4.9</td>\n",
              "      <td>3.0</td>\n",
              "      <td>1.4</td>\n",
              "      <td>0.2</td>\n",
              "      <td>Iris-setosa</td>\n",
              "    </tr>\n",
              "    <tr>\n",
              "      <th>2</th>\n",
              "      <td>3</td>\n",
              "      <td>4.7</td>\n",
              "      <td>3.2</td>\n",
              "      <td>1.3</td>\n",
              "      <td>0.2</td>\n",
              "      <td>Iris-setosa</td>\n",
              "    </tr>\n",
              "    <tr>\n",
              "      <th>3</th>\n",
              "      <td>4</td>\n",
              "      <td>4.6</td>\n",
              "      <td>3.1</td>\n",
              "      <td>1.5</td>\n",
              "      <td>0.2</td>\n",
              "      <td>Iris-setosa</td>\n",
              "    </tr>\n",
              "    <tr>\n",
              "      <th>4</th>\n",
              "      <td>5</td>\n",
              "      <td>5.0</td>\n",
              "      <td>3.6</td>\n",
              "      <td>1.4</td>\n",
              "      <td>0.2</td>\n",
              "      <td>Iris-setosa</td>\n",
              "    </tr>\n",
              "  </tbody>\n",
              "</table>\n",
              "</div>\n",
              "    <div class=\"colab-df-buttons\">\n",
              "\n",
              "  <div class=\"colab-df-container\">\n",
              "    <button class=\"colab-df-convert\" onclick=\"convertToInteractive('df-437c68a8-75c0-4337-8085-b9f035c6c46f')\"\n",
              "            title=\"Convert this dataframe to an interactive table.\"\n",
              "            style=\"display:none;\">\n",
              "\n",
              "  <svg xmlns=\"http://www.w3.org/2000/svg\" height=\"24px\" viewBox=\"0 -960 960 960\">\n",
              "    <path d=\"M120-120v-720h720v720H120Zm60-500h600v-160H180v160Zm220 220h160v-160H400v160Zm0 220h160v-160H400v160ZM180-400h160v-160H180v160Zm440 0h160v-160H620v160ZM180-180h160v-160H180v160Zm440 0h160v-160H620v160Z\"/>\n",
              "  </svg>\n",
              "    </button>\n",
              "\n",
              "  <style>\n",
              "    .colab-df-container {\n",
              "      display:flex;\n",
              "      gap: 12px;\n",
              "    }\n",
              "\n",
              "    .colab-df-convert {\n",
              "      background-color: #E8F0FE;\n",
              "      border: none;\n",
              "      border-radius: 50%;\n",
              "      cursor: pointer;\n",
              "      display: none;\n",
              "      fill: #1967D2;\n",
              "      height: 32px;\n",
              "      padding: 0 0 0 0;\n",
              "      width: 32px;\n",
              "    }\n",
              "\n",
              "    .colab-df-convert:hover {\n",
              "      background-color: #E2EBFA;\n",
              "      box-shadow: 0px 1px 2px rgba(60, 64, 67, 0.3), 0px 1px 3px 1px rgba(60, 64, 67, 0.15);\n",
              "      fill: #174EA6;\n",
              "    }\n",
              "\n",
              "    .colab-df-buttons div {\n",
              "      margin-bottom: 4px;\n",
              "    }\n",
              "\n",
              "    [theme=dark] .colab-df-convert {\n",
              "      background-color: #3B4455;\n",
              "      fill: #D2E3FC;\n",
              "    }\n",
              "\n",
              "    [theme=dark] .colab-df-convert:hover {\n",
              "      background-color: #434B5C;\n",
              "      box-shadow: 0px 1px 3px 1px rgba(0, 0, 0, 0.15);\n",
              "      filter: drop-shadow(0px 1px 2px rgba(0, 0, 0, 0.3));\n",
              "      fill: #FFFFFF;\n",
              "    }\n",
              "  </style>\n",
              "\n",
              "    <script>\n",
              "      const buttonEl =\n",
              "        document.querySelector('#df-437c68a8-75c0-4337-8085-b9f035c6c46f button.colab-df-convert');\n",
              "      buttonEl.style.display =\n",
              "        google.colab.kernel.accessAllowed ? 'block' : 'none';\n",
              "\n",
              "      async function convertToInteractive(key) {\n",
              "        const element = document.querySelector('#df-437c68a8-75c0-4337-8085-b9f035c6c46f');\n",
              "        const dataTable =\n",
              "          await google.colab.kernel.invokeFunction('convertToInteractive',\n",
              "                                                    [key], {});\n",
              "        if (!dataTable) return;\n",
              "\n",
              "        const docLinkHtml = 'Like what you see? Visit the ' +\n",
              "          '<a target=\"_blank\" href=https://colab.research.google.com/notebooks/data_table.ipynb>data table notebook</a>'\n",
              "          + ' to learn more about interactive tables.';\n",
              "        element.innerHTML = '';\n",
              "        dataTable['output_type'] = 'display_data';\n",
              "        await google.colab.output.renderOutput(dataTable, element);\n",
              "        const docLink = document.createElement('div');\n",
              "        docLink.innerHTML = docLinkHtml;\n",
              "        element.appendChild(docLink);\n",
              "      }\n",
              "    </script>\n",
              "  </div>\n",
              "\n",
              "\n",
              "<div id=\"df-fc65860f-6434-478c-96c8-82ce1fd77956\">\n",
              "  <button class=\"colab-df-quickchart\" onclick=\"quickchart('df-fc65860f-6434-478c-96c8-82ce1fd77956')\"\n",
              "            title=\"Suggest charts\"\n",
              "            style=\"display:none;\">\n",
              "\n",
              "<svg xmlns=\"http://www.w3.org/2000/svg\" height=\"24px\"viewBox=\"0 0 24 24\"\n",
              "     width=\"24px\">\n",
              "    <g>\n",
              "        <path d=\"M19 3H5c-1.1 0-2 .9-2 2v14c0 1.1.9 2 2 2h14c1.1 0 2-.9 2-2V5c0-1.1-.9-2-2-2zM9 17H7v-7h2v7zm4 0h-2V7h2v10zm4 0h-2v-4h2v4z\"/>\n",
              "    </g>\n",
              "</svg>\n",
              "  </button>\n",
              "\n",
              "<style>\n",
              "  .colab-df-quickchart {\n",
              "      --bg-color: #E8F0FE;\n",
              "      --fill-color: #1967D2;\n",
              "      --hover-bg-color: #E2EBFA;\n",
              "      --hover-fill-color: #174EA6;\n",
              "      --disabled-fill-color: #AAA;\n",
              "      --disabled-bg-color: #DDD;\n",
              "  }\n",
              "\n",
              "  [theme=dark] .colab-df-quickchart {\n",
              "      --bg-color: #3B4455;\n",
              "      --fill-color: #D2E3FC;\n",
              "      --hover-bg-color: #434B5C;\n",
              "      --hover-fill-color: #FFFFFF;\n",
              "      --disabled-bg-color: #3B4455;\n",
              "      --disabled-fill-color: #666;\n",
              "  }\n",
              "\n",
              "  .colab-df-quickchart {\n",
              "    background-color: var(--bg-color);\n",
              "    border: none;\n",
              "    border-radius: 50%;\n",
              "    cursor: pointer;\n",
              "    display: none;\n",
              "    fill: var(--fill-color);\n",
              "    height: 32px;\n",
              "    padding: 0;\n",
              "    width: 32px;\n",
              "  }\n",
              "\n",
              "  .colab-df-quickchart:hover {\n",
              "    background-color: var(--hover-bg-color);\n",
              "    box-shadow: 0 1px 2px rgba(60, 64, 67, 0.3), 0 1px 3px 1px rgba(60, 64, 67, 0.15);\n",
              "    fill: var(--button-hover-fill-color);\n",
              "  }\n",
              "\n",
              "  .colab-df-quickchart-complete:disabled,\n",
              "  .colab-df-quickchart-complete:disabled:hover {\n",
              "    background-color: var(--disabled-bg-color);\n",
              "    fill: var(--disabled-fill-color);\n",
              "    box-shadow: none;\n",
              "  }\n",
              "\n",
              "  .colab-df-spinner {\n",
              "    border: 2px solid var(--fill-color);\n",
              "    border-color: transparent;\n",
              "    border-bottom-color: var(--fill-color);\n",
              "    animation:\n",
              "      spin 1s steps(1) infinite;\n",
              "  }\n",
              "\n",
              "  @keyframes spin {\n",
              "    0% {\n",
              "      border-color: transparent;\n",
              "      border-bottom-color: var(--fill-color);\n",
              "      border-left-color: var(--fill-color);\n",
              "    }\n",
              "    20% {\n",
              "      border-color: transparent;\n",
              "      border-left-color: var(--fill-color);\n",
              "      border-top-color: var(--fill-color);\n",
              "    }\n",
              "    30% {\n",
              "      border-color: transparent;\n",
              "      border-left-color: var(--fill-color);\n",
              "      border-top-color: var(--fill-color);\n",
              "      border-right-color: var(--fill-color);\n",
              "    }\n",
              "    40% {\n",
              "      border-color: transparent;\n",
              "      border-right-color: var(--fill-color);\n",
              "      border-top-color: var(--fill-color);\n",
              "    }\n",
              "    60% {\n",
              "      border-color: transparent;\n",
              "      border-right-color: var(--fill-color);\n",
              "    }\n",
              "    80% {\n",
              "      border-color: transparent;\n",
              "      border-right-color: var(--fill-color);\n",
              "      border-bottom-color: var(--fill-color);\n",
              "    }\n",
              "    90% {\n",
              "      border-color: transparent;\n",
              "      border-bottom-color: var(--fill-color);\n",
              "    }\n",
              "  }\n",
              "</style>\n",
              "\n",
              "  <script>\n",
              "    async function quickchart(key) {\n",
              "      const quickchartButtonEl =\n",
              "        document.querySelector('#' + key + ' button');\n",
              "      quickchartButtonEl.disabled = true;  // To prevent multiple clicks.\n",
              "      quickchartButtonEl.classList.add('colab-df-spinner');\n",
              "      try {\n",
              "        const charts = await google.colab.kernel.invokeFunction(\n",
              "            'suggestCharts', [key], {});\n",
              "      } catch (error) {\n",
              "        console.error('Error during call to suggestCharts:', error);\n",
              "      }\n",
              "      quickchartButtonEl.classList.remove('colab-df-spinner');\n",
              "      quickchartButtonEl.classList.add('colab-df-quickchart-complete');\n",
              "    }\n",
              "    (() => {\n",
              "      let quickchartButtonEl =\n",
              "        document.querySelector('#df-fc65860f-6434-478c-96c8-82ce1fd77956 button');\n",
              "      quickchartButtonEl.style.display =\n",
              "        google.colab.kernel.accessAllowed ? 'block' : 'none';\n",
              "    })();\n",
              "  </script>\n",
              "</div>\n",
              "\n",
              "    </div>\n",
              "  </div>\n"
            ],
            "application/vnd.google.colaboratory.intrinsic+json": {
              "type": "dataframe",
              "variable_name": "data",
              "summary": "{\n  \"name\": \"data\",\n  \"rows\": 150,\n  \"fields\": [\n    {\n      \"column\": \"Id\",\n      \"properties\": {\n        \"dtype\": \"number\",\n        \"std\": 43,\n        \"min\": 1,\n        \"max\": 150,\n        \"num_unique_values\": 150,\n        \"samples\": [\n          74,\n          19,\n          119\n        ],\n        \"semantic_type\": \"\",\n        \"description\": \"\"\n      }\n    },\n    {\n      \"column\": \"SepalLengthCm\",\n      \"properties\": {\n        \"dtype\": \"number\",\n        \"std\": 0.8280661279778629,\n        \"min\": 4.3,\n        \"max\": 7.9,\n        \"num_unique_values\": 35,\n        \"samples\": [\n          6.2,\n          4.5,\n          5.6\n        ],\n        \"semantic_type\": \"\",\n        \"description\": \"\"\n      }\n    },\n    {\n      \"column\": \"SepalWidthCm\",\n      \"properties\": {\n        \"dtype\": \"number\",\n        \"std\": 0.4335943113621737,\n        \"min\": 2.0,\n        \"max\": 4.4,\n        \"num_unique_values\": 23,\n        \"samples\": [\n          2.3,\n          4.0,\n          3.5\n        ],\n        \"semantic_type\": \"\",\n        \"description\": \"\"\n      }\n    },\n    {\n      \"column\": \"PetalLengthCm\",\n      \"properties\": {\n        \"dtype\": \"number\",\n        \"std\": 1.7644204199522617,\n        \"min\": 1.0,\n        \"max\": 6.9,\n        \"num_unique_values\": 43,\n        \"samples\": [\n          6.7,\n          3.8,\n          3.7\n        ],\n        \"semantic_type\": \"\",\n        \"description\": \"\"\n      }\n    },\n    {\n      \"column\": \"PetalWidthCm\",\n      \"properties\": {\n        \"dtype\": \"number\",\n        \"std\": 0.7631607417008414,\n        \"min\": 0.1,\n        \"max\": 2.5,\n        \"num_unique_values\": 22,\n        \"samples\": [\n          0.2,\n          1.2,\n          1.3\n        ],\n        \"semantic_type\": \"\",\n        \"description\": \"\"\n      }\n    },\n    {\n      \"column\": \"Species\",\n      \"properties\": {\n        \"dtype\": \"category\",\n        \"num_unique_values\": 3,\n        \"samples\": [\n          \"Iris-setosa\",\n          \"Iris-versicolor\",\n          \"Iris-virginica\"\n        ],\n        \"semantic_type\": \"\",\n        \"description\": \"\"\n      }\n    }\n  ]\n}"
            }
          },
          "metadata": {},
          "execution_count": 4
        }
      ]
    },
    {
      "cell_type": "markdown",
      "metadata": {
        "id": "_hpR90jUU4Yr"
      },
      "source": [
        "Para obtener las correlaciones entre las distintas variables, simplemente tenemos que hacer:"
      ]
    },
    {
      "cell_type": "code",
      "metadata": {
        "id": "j24K4utyU4Yw",
        "colab": {
          "base_uri": "https://localhost:8080/",
          "height": 206
        },
        "outputId": "8cb7e77d-8ee5-49ab-d9c6-addc85828bc8"
      },
      "source": [
        "data = data.drop(columns = 'Species')\n",
        "\n",
        "data.corr()"
      ],
      "execution_count": 29,
      "outputs": [
        {
          "output_type": "execute_result",
          "data": {
            "text/plain": [
              "                     Id  SepalLengthCm  SepalWidthCm  PetalLengthCm  \\\n",
              "Id             1.000000       0.716676     -0.397729       0.882747   \n",
              "SepalLengthCm  0.716676       1.000000     -0.109369       0.871754   \n",
              "SepalWidthCm  -0.397729      -0.109369      1.000000      -0.420516   \n",
              "PetalLengthCm  0.882747       0.871754     -0.420516       1.000000   \n",
              "PetalWidthCm   0.899759       0.817954     -0.356544       0.962757   \n",
              "\n",
              "               PetalWidthCm  \n",
              "Id                 0.899759  \n",
              "SepalLengthCm      0.817954  \n",
              "SepalWidthCm      -0.356544  \n",
              "PetalLengthCm      0.962757  \n",
              "PetalWidthCm       1.000000  "
            ],
            "text/html": [
              "\n",
              "  <div id=\"df-186c1034-27b1-4a3b-849d-f77d3ac563a9\" class=\"colab-df-container\">\n",
              "    <div>\n",
              "<style scoped>\n",
              "    .dataframe tbody tr th:only-of-type {\n",
              "        vertical-align: middle;\n",
              "    }\n",
              "\n",
              "    .dataframe tbody tr th {\n",
              "        vertical-align: top;\n",
              "    }\n",
              "\n",
              "    .dataframe thead th {\n",
              "        text-align: right;\n",
              "    }\n",
              "</style>\n",
              "<table border=\"1\" class=\"dataframe\">\n",
              "  <thead>\n",
              "    <tr style=\"text-align: right;\">\n",
              "      <th></th>\n",
              "      <th>Id</th>\n",
              "      <th>SepalLengthCm</th>\n",
              "      <th>SepalWidthCm</th>\n",
              "      <th>PetalLengthCm</th>\n",
              "      <th>PetalWidthCm</th>\n",
              "    </tr>\n",
              "  </thead>\n",
              "  <tbody>\n",
              "    <tr>\n",
              "      <th>Id</th>\n",
              "      <td>1.000000</td>\n",
              "      <td>0.716676</td>\n",
              "      <td>-0.397729</td>\n",
              "      <td>0.882747</td>\n",
              "      <td>0.899759</td>\n",
              "    </tr>\n",
              "    <tr>\n",
              "      <th>SepalLengthCm</th>\n",
              "      <td>0.716676</td>\n",
              "      <td>1.000000</td>\n",
              "      <td>-0.109369</td>\n",
              "      <td>0.871754</td>\n",
              "      <td>0.817954</td>\n",
              "    </tr>\n",
              "    <tr>\n",
              "      <th>SepalWidthCm</th>\n",
              "      <td>-0.397729</td>\n",
              "      <td>-0.109369</td>\n",
              "      <td>1.000000</td>\n",
              "      <td>-0.420516</td>\n",
              "      <td>-0.356544</td>\n",
              "    </tr>\n",
              "    <tr>\n",
              "      <th>PetalLengthCm</th>\n",
              "      <td>0.882747</td>\n",
              "      <td>0.871754</td>\n",
              "      <td>-0.420516</td>\n",
              "      <td>1.000000</td>\n",
              "      <td>0.962757</td>\n",
              "    </tr>\n",
              "    <tr>\n",
              "      <th>PetalWidthCm</th>\n",
              "      <td>0.899759</td>\n",
              "      <td>0.817954</td>\n",
              "      <td>-0.356544</td>\n",
              "      <td>0.962757</td>\n",
              "      <td>1.000000</td>\n",
              "    </tr>\n",
              "  </tbody>\n",
              "</table>\n",
              "</div>\n",
              "    <div class=\"colab-df-buttons\">\n",
              "\n",
              "  <div class=\"colab-df-container\">\n",
              "    <button class=\"colab-df-convert\" onclick=\"convertToInteractive('df-186c1034-27b1-4a3b-849d-f77d3ac563a9')\"\n",
              "            title=\"Convert this dataframe to an interactive table.\"\n",
              "            style=\"display:none;\">\n",
              "\n",
              "  <svg xmlns=\"http://www.w3.org/2000/svg\" height=\"24px\" viewBox=\"0 -960 960 960\">\n",
              "    <path d=\"M120-120v-720h720v720H120Zm60-500h600v-160H180v160Zm220 220h160v-160H400v160Zm0 220h160v-160H400v160ZM180-400h160v-160H180v160Zm440 0h160v-160H620v160ZM180-180h160v-160H180v160Zm440 0h160v-160H620v160Z\"/>\n",
              "  </svg>\n",
              "    </button>\n",
              "\n",
              "  <style>\n",
              "    .colab-df-container {\n",
              "      display:flex;\n",
              "      gap: 12px;\n",
              "    }\n",
              "\n",
              "    .colab-df-convert {\n",
              "      background-color: #E8F0FE;\n",
              "      border: none;\n",
              "      border-radius: 50%;\n",
              "      cursor: pointer;\n",
              "      display: none;\n",
              "      fill: #1967D2;\n",
              "      height: 32px;\n",
              "      padding: 0 0 0 0;\n",
              "      width: 32px;\n",
              "    }\n",
              "\n",
              "    .colab-df-convert:hover {\n",
              "      background-color: #E2EBFA;\n",
              "      box-shadow: 0px 1px 2px rgba(60, 64, 67, 0.3), 0px 1px 3px 1px rgba(60, 64, 67, 0.15);\n",
              "      fill: #174EA6;\n",
              "    }\n",
              "\n",
              "    .colab-df-buttons div {\n",
              "      margin-bottom: 4px;\n",
              "    }\n",
              "\n",
              "    [theme=dark] .colab-df-convert {\n",
              "      background-color: #3B4455;\n",
              "      fill: #D2E3FC;\n",
              "    }\n",
              "\n",
              "    [theme=dark] .colab-df-convert:hover {\n",
              "      background-color: #434B5C;\n",
              "      box-shadow: 0px 1px 3px 1px rgba(0, 0, 0, 0.15);\n",
              "      filter: drop-shadow(0px 1px 2px rgba(0, 0, 0, 0.3));\n",
              "      fill: #FFFFFF;\n",
              "    }\n",
              "  </style>\n",
              "\n",
              "    <script>\n",
              "      const buttonEl =\n",
              "        document.querySelector('#df-186c1034-27b1-4a3b-849d-f77d3ac563a9 button.colab-df-convert');\n",
              "      buttonEl.style.display =\n",
              "        google.colab.kernel.accessAllowed ? 'block' : 'none';\n",
              "\n",
              "      async function convertToInteractive(key) {\n",
              "        const element = document.querySelector('#df-186c1034-27b1-4a3b-849d-f77d3ac563a9');\n",
              "        const dataTable =\n",
              "          await google.colab.kernel.invokeFunction('convertToInteractive',\n",
              "                                                    [key], {});\n",
              "        if (!dataTable) return;\n",
              "\n",
              "        const docLinkHtml = 'Like what you see? Visit the ' +\n",
              "          '<a target=\"_blank\" href=https://colab.research.google.com/notebooks/data_table.ipynb>data table notebook</a>'\n",
              "          + ' to learn more about interactive tables.';\n",
              "        element.innerHTML = '';\n",
              "        dataTable['output_type'] = 'display_data';\n",
              "        await google.colab.output.renderOutput(dataTable, element);\n",
              "        const docLink = document.createElement('div');\n",
              "        docLink.innerHTML = docLinkHtml;\n",
              "        element.appendChild(docLink);\n",
              "      }\n",
              "    </script>\n",
              "  </div>\n",
              "\n",
              "\n",
              "<div id=\"df-2f75f22e-31a4-4529-b7f1-ca50f208ef82\">\n",
              "  <button class=\"colab-df-quickchart\" onclick=\"quickchart('df-2f75f22e-31a4-4529-b7f1-ca50f208ef82')\"\n",
              "            title=\"Suggest charts\"\n",
              "            style=\"display:none;\">\n",
              "\n",
              "<svg xmlns=\"http://www.w3.org/2000/svg\" height=\"24px\"viewBox=\"0 0 24 24\"\n",
              "     width=\"24px\">\n",
              "    <g>\n",
              "        <path d=\"M19 3H5c-1.1 0-2 .9-2 2v14c0 1.1.9 2 2 2h14c1.1 0 2-.9 2-2V5c0-1.1-.9-2-2-2zM9 17H7v-7h2v7zm4 0h-2V7h2v10zm4 0h-2v-4h2v4z\"/>\n",
              "    </g>\n",
              "</svg>\n",
              "  </button>\n",
              "\n",
              "<style>\n",
              "  .colab-df-quickchart {\n",
              "      --bg-color: #E8F0FE;\n",
              "      --fill-color: #1967D2;\n",
              "      --hover-bg-color: #E2EBFA;\n",
              "      --hover-fill-color: #174EA6;\n",
              "      --disabled-fill-color: #AAA;\n",
              "      --disabled-bg-color: #DDD;\n",
              "  }\n",
              "\n",
              "  [theme=dark] .colab-df-quickchart {\n",
              "      --bg-color: #3B4455;\n",
              "      --fill-color: #D2E3FC;\n",
              "      --hover-bg-color: #434B5C;\n",
              "      --hover-fill-color: #FFFFFF;\n",
              "      --disabled-bg-color: #3B4455;\n",
              "      --disabled-fill-color: #666;\n",
              "  }\n",
              "\n",
              "  .colab-df-quickchart {\n",
              "    background-color: var(--bg-color);\n",
              "    border: none;\n",
              "    border-radius: 50%;\n",
              "    cursor: pointer;\n",
              "    display: none;\n",
              "    fill: var(--fill-color);\n",
              "    height: 32px;\n",
              "    padding: 0;\n",
              "    width: 32px;\n",
              "  }\n",
              "\n",
              "  .colab-df-quickchart:hover {\n",
              "    background-color: var(--hover-bg-color);\n",
              "    box-shadow: 0 1px 2px rgba(60, 64, 67, 0.3), 0 1px 3px 1px rgba(60, 64, 67, 0.15);\n",
              "    fill: var(--button-hover-fill-color);\n",
              "  }\n",
              "\n",
              "  .colab-df-quickchart-complete:disabled,\n",
              "  .colab-df-quickchart-complete:disabled:hover {\n",
              "    background-color: var(--disabled-bg-color);\n",
              "    fill: var(--disabled-fill-color);\n",
              "    box-shadow: none;\n",
              "  }\n",
              "\n",
              "  .colab-df-spinner {\n",
              "    border: 2px solid var(--fill-color);\n",
              "    border-color: transparent;\n",
              "    border-bottom-color: var(--fill-color);\n",
              "    animation:\n",
              "      spin 1s steps(1) infinite;\n",
              "  }\n",
              "\n",
              "  @keyframes spin {\n",
              "    0% {\n",
              "      border-color: transparent;\n",
              "      border-bottom-color: var(--fill-color);\n",
              "      border-left-color: var(--fill-color);\n",
              "    }\n",
              "    20% {\n",
              "      border-color: transparent;\n",
              "      border-left-color: var(--fill-color);\n",
              "      border-top-color: var(--fill-color);\n",
              "    }\n",
              "    30% {\n",
              "      border-color: transparent;\n",
              "      border-left-color: var(--fill-color);\n",
              "      border-top-color: var(--fill-color);\n",
              "      border-right-color: var(--fill-color);\n",
              "    }\n",
              "    40% {\n",
              "      border-color: transparent;\n",
              "      border-right-color: var(--fill-color);\n",
              "      border-top-color: var(--fill-color);\n",
              "    }\n",
              "    60% {\n",
              "      border-color: transparent;\n",
              "      border-right-color: var(--fill-color);\n",
              "    }\n",
              "    80% {\n",
              "      border-color: transparent;\n",
              "      border-right-color: var(--fill-color);\n",
              "      border-bottom-color: var(--fill-color);\n",
              "    }\n",
              "    90% {\n",
              "      border-color: transparent;\n",
              "      border-bottom-color: var(--fill-color);\n",
              "    }\n",
              "  }\n",
              "</style>\n",
              "\n",
              "  <script>\n",
              "    async function quickchart(key) {\n",
              "      const quickchartButtonEl =\n",
              "        document.querySelector('#' + key + ' button');\n",
              "      quickchartButtonEl.disabled = true;  // To prevent multiple clicks.\n",
              "      quickchartButtonEl.classList.add('colab-df-spinner');\n",
              "      try {\n",
              "        const charts = await google.colab.kernel.invokeFunction(\n",
              "            'suggestCharts', [key], {});\n",
              "      } catch (error) {\n",
              "        console.error('Error during call to suggestCharts:', error);\n",
              "      }\n",
              "      quickchartButtonEl.classList.remove('colab-df-spinner');\n",
              "      quickchartButtonEl.classList.add('colab-df-quickchart-complete');\n",
              "    }\n",
              "    (() => {\n",
              "      let quickchartButtonEl =\n",
              "        document.querySelector('#df-2f75f22e-31a4-4529-b7f1-ca50f208ef82 button');\n",
              "      quickchartButtonEl.style.display =\n",
              "        google.colab.kernel.accessAllowed ? 'block' : 'none';\n",
              "    })();\n",
              "  </script>\n",
              "</div>\n",
              "\n",
              "    </div>\n",
              "  </div>\n"
            ],
            "application/vnd.google.colaboratory.intrinsic+json": {
              "type": "dataframe",
              "summary": "{\n  \"name\": \"data\",\n  \"rows\": 5,\n  \"fields\": [\n    {\n      \"column\": \"Id\",\n      \"properties\": {\n        \"dtype\": \"number\",\n        \"std\": 0.578104408307496,\n        \"min\": -0.39772881146592737,\n        \"max\": 1.0,\n        \"num_unique_values\": 5,\n        \"samples\": [\n          0.7166762728539005,\n          0.8997585770933499,\n          -0.39772881146592737\n        ],\n        \"semantic_type\": \"\",\n        \"description\": \"\"\n      }\n    },\n    {\n      \"column\": \"SepalLengthCm\",\n      \"properties\": {\n        \"dtype\": \"number\",\n        \"std\": 0.4417376579591827,\n        \"min\": -0.10936924995064931,\n        \"max\": 1.0,\n        \"num_unique_values\": 5,\n        \"samples\": [\n          1.0,\n          0.8179536333691642,\n          -0.10936924995064931\n        ],\n        \"semantic_type\": \"\",\n        \"description\": \"\"\n      }\n    },\n    {\n      \"column\": \"SepalWidthCm\",\n      \"properties\": {\n        \"dtype\": \"number\",\n        \"std\": 0.6037296856953441,\n        \"min\": -0.4205160964011539,\n        \"max\": 1.0,\n        \"num_unique_values\": 5,\n        \"samples\": [\n          -0.10936924995064931,\n          -0.35654408961380507,\n          1.0\n        ],\n        \"semantic_type\": \"\",\n        \"description\": \"\"\n      }\n    },\n    {\n      \"column\": \"PetalLengthCm\",\n      \"properties\": {\n        \"dtype\": \"number\",\n        \"std\": 0.6060591891429322,\n        \"min\": -0.4205160964011539,\n        \"max\": 1.0,\n        \"num_unique_values\": 5,\n        \"samples\": [\n          0.8717541573048716,\n          0.9627570970509662,\n          -0.4205160964011539\n        ],\n        \"semantic_type\": \"\",\n        \"description\": \"\"\n      }\n    },\n    {\n      \"column\": \"PetalWidthCm\",\n      \"properties\": {\n        \"dtype\": \"number\",\n        \"std\": 0.5750962502741447,\n        \"min\": -0.35654408961380507,\n        \"max\": 1.0,\n        \"num_unique_values\": 5,\n        \"samples\": [\n          0.8179536333691642,\n          1.0,\n          -0.35654408961380507\n        ],\n        \"semantic_type\": \"\",\n        \"description\": \"\"\n      }\n    }\n  ]\n}"
            }
          },
          "metadata": {},
          "execution_count": 29
        }
      ]
    },
    {
      "cell_type": "markdown",
      "metadata": {
        "id": "1ePNNkIzU4Y3"
      },
      "source": [
        "**Para responder**: ¿Cuáles variables están correlacionadas entre sí?¿Por qué los elementos de la diagonal son exactamente uno (1.0)?\n",
        "\n",
        "Dentro de dos encuentros veremos una forma más eficiente de visualizar esta información, ¡pero ya puedes aplicarla!"
      ]
    },
    {
      "cell_type": "markdown",
      "source": [
        "Todas las variables del archivo 'Iris.csv' tendrán en todo momento una correlación perfecta entre ellas mismas.\n",
        "Porque tal y como se mencionó en el párrafo anterior, los elementos de la diagonal principal siempre son iguales a 1 porque representan la correlación de cada variable consigo misma.\n"
      ],
      "metadata": {
        "id": "EsNnzhhg64H9"
      }
    }
  ]
}