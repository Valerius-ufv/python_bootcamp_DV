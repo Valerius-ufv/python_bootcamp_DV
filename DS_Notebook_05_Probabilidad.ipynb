{
  "nbformat": 4,
  "nbformat_minor": 0,
  "metadata": {
    "kernelspec": {
      "display_name": "Python 3",
      "language": "python",
      "name": "python3"
    },
    "language_info": {
      "codemirror_mode": {
        "name": "ipython",
        "version": 3
      },
      "file_extension": ".py",
      "mimetype": "text/x-python",
      "name": "python",
      "nbconvert_exporter": "python",
      "pygments_lexer": "ipython3",
      "version": "3.7.3"
    },
    "colab": {
      "provenance": [],
      "include_colab_link": true
    }
  },
  "cells": [
    {
      "cell_type": "markdown",
      "metadata": {
        "id": "view-in-github",
        "colab_type": "text"
      },
      "source": [
        "<a href=\"https://colab.research.google.com/github/Valerius-ufv/python_bootcamp_DV/blob/main/DS_Notebook_05_Probabilidad.ipynb\" target=\"_parent\"><img src=\"https://colab.research.google.com/assets/colab-badge.svg\" alt=\"Open In Colab\"/></a>"
      ]
    },
    {
      "cell_type": "markdown",
      "metadata": {
        "id": "GEFRqVgwU4TH"
      },
      "source": [
        "# Probabilidad y Estadística\n",
        "\n",
        "El objetivo del siguiente notebook es afianzar algunos conceptos de Probabilidad y, de paso, empezar a ver cómo se hacen gráficos con Matplotlib, una nueva librería que veremos más en detalle en los próximos encuentros. Por ahora, solamente tienen que instalarla y correr las celdas. ¡No te preocupes si no entiendes lo que hacen esas celdas! Lo importante es que prestes atención a sus resultados.\n",
        "\n",
        "## 1. Distribuciones de probabilidad\n",
        "\n",
        "El concepto de distribución de probabilidad es un concepto central en probabilidad y estadística y, por lo tanto, hay mucho para decir. Nos limitamos acá a los puntos más importantes.\n",
        "\n",
        "\n",
        "### 1.1 Distrubución Uniforme Discreta\n",
        "\n",
        "Comencemos por un ejemplo: un dado de seis caras. La probabilidad de que al tirar el dado *salga* una cara es $1/6$. Si graficamos la probabilidad para cada resultado posible de tirar un dado, obtendríamos un gráfico como el siguiente:"
      ]
    },
    {
      "cell_type": "code",
      "metadata": {
        "id": "J-fHqWnzU4TR"
      },
      "source": [
        "import numpy as np\n",
        "import matplotlib.pyplot as plt"
      ],
      "execution_count": 2,
      "outputs": []
    },
    {
      "cell_type": "code",
      "metadata": {
        "id": "VSbq4R-aU4Tt",
        "colab": {
          "base_uri": "https://localhost:8080/",
          "height": 453
        },
        "outputId": "7ea71f59-ec8b-462b-d763-585191885369"
      },
      "source": [
        "valores = np.arange(1,7)\n",
        "probas = np.zeros(6) + 1/6\n",
        "plt.bar(valores, probas)\n",
        "plt.title('Distribución de probabilidad uniforme: lanzamiento de un dado')\n",
        "plt.savefig('distribucion_dado.png', dpi = 1400)\n",
        "plt.show()"
      ],
      "execution_count": null,
      "outputs": [
        {
          "output_type": "display_data",
          "data": {
            "text/plain": [
              "<Figure size 640x480 with 1 Axes>"
            ],
            "image/png": "[encoded data removed]"
          },
          "metadata": {}
        }
      ]
    },
    {
      "cell_type": "markdown",
      "metadata": {
        "id": "Hl-vXlaCU4T_"
      },
      "source": [
        "En este caso, decimos que la distribución de probabilidad es *uniforme discreta*, ya que le asigna la misma probabilidad a los seis valores que pueden salir al tirar el dado. Si el dado estuviera cargado, ya no sería uniforme.\n",
        "\n",
        "**Algunos detalles**:\n",
        "1. El resultado de tirar un dado es un ejemplo de una *variable aleatoria*.\n",
        "2. En el caso del dado, la variable aleatoria puede tomar valores *discretos* y *acotados* (limitados): 1, 2, 3, 4, 5 y 6\n",
        "3. Existen variables aleatorias donde los posibles valores que puede tomar son continuos y no acotados. Veremos la distribución más famosa de ellas a continuación."
      ]
    },
    {
      "cell_type": "markdown",
      "metadata": {
        "id": "mIXL9A1yU4UE"
      },
      "source": [
        "### 1.2 Distribución Normal o Gaussiana\n",
        "\n",
        "La distribución normal o gaussiana debe ser la distribución más famosa dentro de las distribuciones. Es una distribución de variable continua y aparece en una infinidad de ámbitos de la ciencia. Muchas variables asociadas a fenómenos naturales siguen una distribución gaussiana; un ejemplo típico es la estatura de las personas. La forma que tiene esta distribución está dada por la siguiente fórmula:\n",
        "\n",
        "$$f(x|\\mu, \\sigma^2)=\\frac{1}{\\sqrt{2 \\pi \\sigma^2}}e^{\\frac{-(x - \\mu)^2}{2\\sigma^2}}$$\n",
        "\n",
        "¡No te asustes si no la entiendes! Durante el encuentro, veremos más en detalle algunos aspectos de esta distribución. Pero es importante resaltar que tiene sólo dos parámetros: su valor medio $\\mu$ y su desviacíon estándar $\\sigma$. Estos valores son *teóricos*, es decir, son propios de la distribución de probabilidad.\n",
        "\n",
        "Recomendamos entrar en la página de Wikipedia de la [Distribución Normal](https://es.wikipedia.org/wiki/Distribuci%C3%B3n_normal) y prestar atención al primer gráfico - dónde podrán ver la forma teórica de la distribución - y a la sección \"Propiedades\".\n",
        "\n",
        "\n",
        "**Distribución Normal en NumPy**\n",
        "\n",
        "Como mencionamos en el encuentro anterior, NumPy nos provee de herramientas para generar valores aleatorios de distribuciones. A continuación generamos, usando `np.random.normal()`, muestras de dos distribuciones normales, con el mismo valor medio pero distinta desviación estándar. **Consultar** la ayuda de la función para entender bien qué hace."
      ]
    },
    {
      "cell_type": "code",
      "metadata": {
        "scrolled": true,
        "id": "mnQ6ZwhAU4UJ",
        "colab": {
          "base_uri": "https://localhost:8080/"
        },
        "outputId": "36f9d5fc-5e4d-46ea-fd97-83c0f480b0c8"
      },
      "source": [
        "mu = 2.0\n",
        "sigma_1 = 5.0\n",
        "sigma_2 = 2.0\n",
        "muestras_1 = np.random.normal(loc = mu, scale = sigma_1, size = 400)\n",
        "muestras_2 = np.random.normal(loc = mu, scale = sigma_2, size = 400)\n",
        "print(muestras_1, muestras_2)"
      ],
      "execution_count": null,
      "outputs": [
        {
          "output_type": "stream",
          "name": "stdout",
          "text": [
            "[ 5.73444056e+00  1.79556039e+00 -2.15869134e+00  4.28357338e+00\n",
            "  4.24953178e+00  1.00484361e+01  1.95512779e+00 -3.46249051e+00\n",
            " -4.92757222e+00 -4.74998604e+00 -7.07413576e+00  1.37768486e+00\n",
            "  9.17462616e-01 -8.11276126e-01  5.01989953e+00 -7.28064807e+00\n",
            "  3.46965305e+00 -1.08518521e+00  9.55741631e+00  5.09086214e+00\n",
            " -1.88795445e+00  1.19334390e+01  6.85026543e+00  3.08835926e+00\n",
            " -7.47910146e+00  5.28701949e+00  3.61947956e+00 -2.32000198e+00\n",
            "  7.91933148e-01  4.99220832e+00 -9.90052013e-01 -3.83198862e+00\n",
            "  9.05297425e+00  8.01580714e+00  2.93577887e+00  8.10577500e+00\n",
            "  1.19826564e+01  7.80189526e+00  1.21237047e+00 -2.39922962e+00\n",
            "  3.52024857e+00  7.42456381e+00  5.00632071e+00 -3.43763045e+00\n",
            "  4.42357370e-01  1.78910497e+00 -4.86982319e+00  6.43427346e-01\n",
            " -7.70824410e+00  9.22408097e-01 -6.05137085e+00  4.07422787e+00\n",
            "  4.47024098e+00  4.55778034e+00 -8.97676778e-02  4.14809065e+00\n",
            " -4.99042321e+00  2.42655960e+00  9.12121922e+00  4.82829778e+00\n",
            "  1.15394362e+00 -5.43811645e+00  1.14700999e+01  8.75131130e+00\n",
            " -1.32319600e+00 -2.78798523e+00  6.97337806e+00  7.66120798e+00\n",
            "  4.55145181e+00  5.27621883e+00  7.02232796e+00  4.40992958e+00\n",
            "  1.81809813e+00  8.62420081e+00  7.78306603e-01  3.12141931e+00\n",
            " -1.14362460e+00  2.77627806e+00  2.95736771e-01 -6.75150232e+00\n",
            "  1.69019322e+00 -3.65583342e+00 -1.52469734e+00  1.48741953e+00\n",
            "  2.66172423e+00 -2.85669109e+00  8.80979249e+00  2.96976880e+00\n",
            "  5.65379164e+00  3.57647443e+00  1.07196709e+01  1.50944655e+00\n",
            " -2.60901808e+00 -1.90752199e+00  6.44986218e+00  2.27147526e+00\n",
            "  1.00309862e+01  2.18918063e+00  4.32267600e+00  4.48175982e+00\n",
            " -3.97009145e+00 -2.71497610e-01  1.23738223e+00 -2.04947332e+00\n",
            " -7.27497292e+00  4.35086806e+00  1.28262254e-02  8.60326943e-01\n",
            "  4.79088575e+00 -4.48680362e+00 -2.04235650e+00  4.49912137e-01\n",
            "  1.80374354e+00 -2.89586730e+00  6.40682544e+00  4.90019794e-01\n",
            "  5.56393161e+00 -4.35025700e+00  2.98867356e-01  6.44066973e-01\n",
            " -1.11457359e+01 -4.65481436e+00 -6.37169403e+00 -1.12889259e+00\n",
            "  5.69079044e-01  1.64241824e+01  6.98508045e+00  3.60335758e+00\n",
            "  2.37241801e-02  6.66788198e+00 -1.12333996e-01  7.04741923e+00\n",
            "  3.96060959e+00  1.24916435e+00  2.04272214e+00  5.28668290e-01\n",
            "  2.45424291e+00  9.85932387e-01  7.51458754e+00 -4.56587545e+00\n",
            " -1.27672335e+00 -2.93415408e+00  1.30715157e+00  5.90794147e+00\n",
            " -1.59278307e+00  4.64073682e+00 -3.66932726e-01 -6.81313377e-01\n",
            " -8.93053271e+00  6.40907486e-01 -5.92228806e-01  2.40214787e+00\n",
            "  4.97906828e+00  1.23139332e+01  1.03316944e+00  9.71808055e+00\n",
            "  1.59507262e+01 -8.97165852e-01 -1.12929724e+00 -4.33861863e+00\n",
            " -3.33797035e+00  1.80924473e+00  5.68225074e+00  7.90124439e+00\n",
            " -4.06995368e+00  5.66568129e+00  4.09427160e+00  2.58607555e+00\n",
            " -3.11140590e+00 -5.82766854e+00 -5.02376993e+00  4.95595021e+00\n",
            "  7.03228104e+00  6.38460225e+00  5.57939395e+00  1.20101903e+01\n",
            " -8.02806383e-01  5.07359291e+00  7.78461580e+00  3.42663901e+00\n",
            " -4.73024778e+00 -1.19162169e+00  2.39472997e+00 -5.56067459e+00\n",
            "  4.85371682e+00  1.03220191e+00  5.40817959e+00  1.35232050e+00\n",
            "  1.06024764e+01  5.98435857e+00  4.04033683e-01  5.48570902e-02\n",
            " -7.57928067e-01 -3.09527295e+00 -3.84800839e-01  7.83235208e+00\n",
            " -1.45689874e-01  2.71683691e+00 -7.28833954e+00 -3.09087936e+00\n",
            "  1.58019971e+00  1.51634433e+01  3.91146926e+00  2.82495084e+00\n",
            "  9.30220787e-01  5.07759393e+00  2.96729124e+00  3.55571566e+00\n",
            " -5.04733548e+00  5.09473093e+00  4.69951925e+00  1.15506293e+00\n",
            "  3.47157654e+00  1.22144652e+01  1.50245314e+01 -2.63083855e+00\n",
            "  6.26523941e+00  3.01781696e+00 -4.10570240e+00  6.30865522e+00\n",
            " -3.95731825e+00  7.36707400e+00  1.97787387e+00 -3.55533752e+00\n",
            " -6.14162663e+00  7.94062085e+00 -8.06315364e-01  2.27272470e+00\n",
            " -6.76809243e+00 -7.77280835e+00  7.55545970e+00  2.97451061e+00\n",
            "  5.06745132e+00  5.02837835e+00 -3.09019699e-01 -2.09950618e+00\n",
            "  5.33363528e+00  1.07799296e+01  9.41901034e+00  4.43999792e+00\n",
            "  4.63190966e+00  7.19735959e+00 -1.34935798e+00  1.51207518e+00\n",
            "  6.07151758e+00  2.48705331e+00  3.63772187e+00  1.22061108e+00\n",
            " -2.44830568e+00  4.49718414e+00  2.26285468e+00  3.25566843e+00\n",
            "  6.08592574e+00  4.61827982e+00 -2.84375928e+00  4.47390133e+00\n",
            "  4.01384264e+00  8.83912898e+00  1.21960229e+00  1.64858649e-01\n",
            "  4.57961764e-01  5.91450367e+00  5.23591687e+00  3.71926028e-02\n",
            "  2.87532848e-01 -2.80978140e+00  8.31490980e+00  7.59281436e+00\n",
            "  2.34995219e+00 -3.90399533e+00  2.30786783e+00 -2.60379771e+00\n",
            "  6.41542656e+00 -2.71304043e-01 -5.93275648e-01 -2.86122613e+00\n",
            "  2.08631671e-01  8.46255318e-01  1.14870811e+00  3.51890189e+00\n",
            "  5.35635696e+00  6.47229583e+00 -2.30131686e+00 -1.64105589e+01\n",
            "  1.09321944e+00  2.84348781e+00 -2.02569088e+00  1.15741341e+00\n",
            " -8.58532185e-01 -4.28849587e+00  5.61475590e+00  5.84945951e+00\n",
            " -4.14904089e+00  5.17737702e+00  9.69472364e+00  4.69830177e+00\n",
            " -1.90036508e+00  1.09313416e+01  2.27681960e+00  7.65365259e+00\n",
            "  8.49617223e+00  1.84588928e+00 -6.98801369e+00  3.54236649e+00\n",
            "  1.00612711e+00 -2.01850496e+00 -4.14551902e+00  1.80097644e+00\n",
            "  1.14987552e+01  7.19986757e+00  7.40748179e+00 -9.67228931e-01\n",
            " -1.40264071e+00  9.27266988e+00  5.92057942e+00 -1.50280939e+00\n",
            " -4.24041155e+00  2.70928667e+00  4.36176116e+00  7.33181367e+00\n",
            "  1.05107406e+01  3.98258686e+00 -4.60820894e+00  8.61152993e+00\n",
            "  2.43129578e+00  3.06250004e+00  5.68191279e+00  5.87427946e+00\n",
            "  2.51192093e+00 -5.84475224e+00  2.64538352e+00  3.72796951e+00\n",
            " -3.57098890e+00 -6.50993824e+00  1.82836533e+00  3.37457988e+00\n",
            " -1.90404869e-01  4.31900863e+00 -3.70964287e+00  3.55198910e+00\n",
            "  3.36903968e+00 -9.30751306e-01  2.85414433e+00  5.93138350e-01\n",
            "  5.52362807e+00  1.14647063e+00  6.38518901e-01  1.05030438e+00\n",
            "  2.36093730e+00 -2.73473224e+00 -3.67976203e-01 -1.42593593e+00\n",
            "  9.92067961e+00  3.42429092e+00 -3.22133303e+00  1.03592583e+01\n",
            "  3.61644694e+00 -3.94738280e+00  1.10585973e+00  1.23985649e+00\n",
            " -3.72800229e-01 -7.35531664e+00 -1.07700751e+01  5.31750626e+00\n",
            "  1.23248598e+00  1.05437076e+00 -5.42653683e-01  9.86433140e+00\n",
            " -8.30187484e-01  2.41104114e+00 -1.22451370e-01  8.34949256e+00\n",
            " -2.05359064e-01  4.05519527e+00 -3.20333592e+00 -2.40128749e+00\n",
            "  8.22884851e+00  4.89937122e+00  1.56076249e+00  4.51010149e-01\n",
            " -6.87706547e+00  1.18584133e+00  3.33015224e+00 -1.17701287e-01\n",
            " -1.02212176e-02  4.71964295e+00 -5.10179908e+00  6.30235522e+00\n",
            "  1.03708391e+01 -1.96038876e+00 -4.55926985e+00  3.65917061e-01\n",
            "  8.75458702e+00  7.21650849e-01  4.58470380e+00 -6.10977348e+00\n",
            " -3.62578387e-01  5.03424187e+00 -5.11430912e+00 -3.22810523e+00] [ 1.66445001  1.78066944  4.93084031  0.22328948  3.95107576  1.81222279\n",
            "  3.14569609  4.85534975  6.29936798 -1.59993501  0.69779884  1.24912725\n",
            " -0.22033915  3.50359303  1.26525564  1.61969915  2.51018284 -1.77141401\n",
            "  2.64238361 -0.47625515  1.29741648  0.40772087  1.93760576  4.35583707\n",
            "  1.93817532  3.71480258  3.47153384  0.48823192  3.15784319  0.58590261\n",
            "  4.52679753  1.31387173  3.39008695  0.52104701  1.74008363  2.43273448\n",
            "  1.85302595  1.42597836  3.74706755  2.64387074  2.43112412  1.42522096\n",
            "  3.72449409  1.28331607 -0.88764837  5.02315691  0.22901391 -0.52714758\n",
            "  1.06545125  1.58779371 -3.62081193  1.53131105 -1.74047432 -0.33870405\n",
            " -0.86259703  1.63934294 -0.71492307  3.92532823  1.53056128 -4.28138302\n",
            "  2.4873157   3.21209136  4.64891658  1.56187564 -0.96994476  5.46353705\n",
            "  1.46140866 -0.41703168  2.17165964  5.42283509  3.33043042  5.06659857\n",
            " -0.36664231  2.2388654   2.41850221  2.4587358   2.4876441  -1.07439826\n",
            "  1.73410628  0.8286058   2.63597268  5.90304744 -1.00803415  3.16735561\n",
            "  4.98707222  1.02161294  3.88747696  2.7253407   2.79575985  1.47388708\n",
            " -2.08869682  4.22506029 -0.6439074   3.87616673  0.98230714 -0.6757464\n",
            "  2.6353671   5.15540729  3.1939109   2.55890753  2.83020941 -0.34216808\n",
            "  1.48410445  0.16043945  2.16432318  1.00578158  2.3529385   3.62108775\n",
            "  3.3097953  -0.75768232  3.57981977  0.22647649 -0.20733038  1.15213371\n",
            "  2.89785104  1.41551009  3.72031597 -0.70673764  3.03675035  4.51158836\n",
            " -1.73465196  2.46530457  7.45849763 -0.70988189  1.44750262  0.45635016\n",
            "  2.31308361  2.24740535  0.81785209  4.20663509  4.1932629   4.82494803\n",
            "  2.95823765  1.92643178  4.44192246 -1.56146104  1.66592022  3.33917372\n",
            "  2.5201676  -0.62896688  8.23564192  1.5069455  -0.70994233  2.32689052\n",
            "  2.91870763 -0.93802528  1.71562892 -2.00363909  0.18277667  1.0993938\n",
            "  4.44195801  1.83776575  3.53760268  2.15570991  1.84956739  2.40425167\n",
            "  3.3088032   5.7515349   4.10030105  0.53164063  2.75375731  2.69714722\n",
            "  4.39379712  3.02695222 -0.97584789  2.39109582  1.87935663  1.77562688\n",
            "  2.61079968 -0.7383867   0.13870508  4.94327328  2.49574714 -2.12372768\n",
            " -0.90603844  1.54800877  4.30254199 -1.03505431  5.76209811 -0.67531463\n",
            "  2.53099146  1.24924041 -0.97746066  4.25532902  2.06264108  2.10617101\n",
            "  1.31139715  1.4470237   3.60166569  3.8778702   4.4674316  -0.35761456\n",
            "  2.65271115 -0.27727473  2.75862338 -0.58085827  2.64666083  1.70383178\n",
            "  1.0921976   3.857494    1.22754131  4.10033462  5.52391395 -0.3492663\n",
            "  3.33119571  1.87485501  0.48450535 -1.60483137 -0.54108208  2.6501511\n",
            " -0.13198059 -0.27919851  1.70086636  4.05442018 -2.52702993  0.98700379\n",
            " -0.30794199 -0.6176092   2.31981951  2.42995878  0.77709457  3.59582672\n",
            " -0.22192029  0.26156652  0.98604492  0.30876509  3.65363971  1.99071062\n",
            "  3.87854283  3.60786395 -0.16072448  4.22239526  6.49123509  5.64831076\n",
            "  1.34413442  3.62344784  0.37950265  0.5160549   0.71020298  3.32409389\n",
            "  2.9466742   4.69507621  3.63769262  0.32609399  1.53033955  3.96308869\n",
            "  3.09929015  1.89222477  0.34061823  3.65615784  3.5149142   1.23011111\n",
            " -1.39528024  2.61364308 -1.6950539   4.01710282  0.37518922  0.92837779\n",
            "  4.93111965  4.41943379  2.78331828  3.06266632  3.56418019  4.66765547\n",
            " -0.67939772 -0.65415046  6.2449275   1.07911573  1.37051715  5.09931272\n",
            "  2.01487424  4.7413636   2.31883883 -1.28992812 -0.81701463  1.69787571\n",
            "  2.21633103  2.79339154  3.15880915  2.39376236  3.31614827  4.95926847\n",
            "  2.88762964  3.09912496  0.77620134  3.29188855  6.69915958  3.58480926\n",
            "  4.57574434  0.95785731  0.72941018  0.7684452   4.82358286  0.5746582\n",
            "  4.32443523 -0.53991103 -1.64662708  2.05598315  4.95527097  2.57710961\n",
            "  0.08808081 -1.24222357 -1.24737148  1.84427106 -3.2066508   4.24667199\n",
            "  2.74446636  6.06908224  0.57068034  2.85271537  2.07265723  3.25996062\n",
            " -1.20722806  1.02529776  4.33622606 -1.34483337  4.81814527  4.27664369\n",
            "  1.01963183  3.36405246 -1.82201401 -1.46198053  5.26815387  1.21544035\n",
            "  7.7262603   1.3034703   2.59040101  2.46450178  2.89235576  1.47929493\n",
            "  0.3594758   3.09770769 -0.48628557  1.36723261  2.56073419  3.6962716\n",
            " -1.84027919  0.78623497  2.3596824   1.86179216  0.63246651  3.58809472\n",
            "  3.63095297  2.57822967  1.64085162  6.72893792  7.91601116  1.96699467\n",
            "  3.01973982  3.65079891 -0.88586843 -0.53000087  0.75985882  2.31055148\n",
            " -0.04981264  0.30255493  1.83800979  5.58405205  2.22802146  2.29184371\n",
            "  1.44929488  0.5550333   7.71998459  3.23913421  0.17394137  2.08267529\n",
            " -0.20807094  2.85720332  1.82931713  0.69689843  1.83404288  0.29024237\n",
            "  0.76954691  3.01309178 -2.29055874  3.15485439  2.90187237  5.91828011\n",
            "  2.43792477  1.12952328  0.74058933 -0.40614121  1.21165774  2.18842693\n",
            " -1.03472225  0.73611194  2.25072067  1.97280396  8.01756301 -1.94585454\n",
            "  4.21996539 -1.37287565  1.66473809  2.66004812  0.48608368  3.32627852\n",
            "  0.79991201  1.00875719  4.4248954   2.17845046]\n"
          ]
        }
      ]
    },
    {
      "cell_type": "markdown",
      "metadata": {
        "id": "OHFxZhG0U4Ub"
      },
      "source": [
        "Notar que son dos \"tiras\" de números, bastante largas y que a simple vista no nos dicen mucho. Mejor, podemos graficar su histograma. Veremos bien qué es un histograma en la próxima clase. Por ahora, basta saber que es una forma de visualizar cómo está distribuida una tira de números. Lo que hace es tomar un número determinado de intervalos (`bins = 20`) y contar cuántas muestras caen en cada intervalo."
      ]
    },
    {
      "cell_type": "code",
      "metadata": {
        "id": "4nu_9GbwU4Uf",
        "colab": {
          "base_uri": "https://localhost:8080/",
          "height": 430
        },
        "outputId": "2c85a054-327d-4556-f877-8405a4ebc8b2"
      },
      "source": [
        "plt.hist(muestras_1, bins = 20, alpha = 0.5, label = 'Histograma Muestra 1')\n",
        "plt.hist(muestras_2, bins = 20, alpha = 0.5, label = 'Histograma Muestra 2')\n",
        "plt.legend()\n",
        "plt.grid(alpha=0.5)\n",
        "plt.show()"
      ],
      "execution_count": null,
      "outputs": [
        {
          "output_type": "display_data",
          "data": {
            "text/plain": [
              "<Figure size 640x480 with 1 Axes>"
            ],
            "image/png": "[encoded data removed]"
          },
          "metadata": {}
        }
      ]
    },
    {
      "cell_type": "markdown",
      "metadata": {
        "id": "_Ez12LcZU4Uu"
      },
      "source": [
        "**Ejercicio:** Volver a \"generar\" las muestas y hacer sus histogramas. ¿Cambió?¿Por qué? Googlear que es una *semilla* (`seed`) en NumPy e implementar. También, cambiar la cantidad de muestras, modificando el argumento `size`.\n",
        "\n",
        "### 1.3 Relación entre Probabilidad y Estadística\n",
        "\n",
        "**Promedio y desviación estándar en una distribución Normal**\n",
        "\n",
        "En una distribución normal, el promedio de las muestras obtenidas *tiende* al valor medio $\\mu$ de la distribución, y la desviación estándar *tiende* a la desviacíon estándar $\\sigma$ de la distribución. Notar, entonces, que existen valores calculados (promedio, desviación estándar) y valores teóricos ($\\mu$ y $\\sigma$). Confundirlos entre sí es un error común.\n",
        "\n",
        "Veamos un ejemplo. Nuevamente, obtenemos muestras de una distribución normal:"
      ]
    },
    {
      "cell_type": "code",
      "metadata": {
        "id": "55UHxgsWU4Uy"
      },
      "source": [
        "mu = 8.5\n",
        "sigma = 3.0\n",
        "muestras = np.random.normal(loc = mu, scale = sigma, size = 100)"
      ],
      "execution_count": null,
      "outputs": []
    },
    {
      "cell_type": "markdown",
      "metadata": {
        "id": "IrLpnkqqU4U9"
      },
      "source": [
        "Y calculamos su promedio y desviación estándar, y comparamos con $\\mu$ y $\\sigma$."
      ]
    },
    {
      "cell_type": "code",
      "metadata": {
        "id": "k1JKKz5eU4VC",
        "colab": {
          "base_uri": "https://localhost:8080/"
        },
        "outputId": "2b861705-1087-478f-d2fd-60cd74946c9d"
      },
      "source": [
        "print('Valor medio teorico:', mu, '. Valor medio calculado:', muestras.mean())\n",
        "print('Desviacion estandar teorica:', sigma, '. Desviacion estandar calculada:', muestras.std())"
      ],
      "execution_count": null,
      "outputs": [
        {
          "output_type": "stream",
          "name": "stdout",
          "text": [
            "Valor medio teorico: 8.5 . Valor medio calculado: 8.250068693354683\n",
            "Desviacion estandar teorica: 3.0 . Desviacion estandar calculada: 3.110814992618112\n"
          ]
        }
      ]
    },
    {
      "cell_type": "markdown",
      "metadata": {
        "id": "YqQs6D_YU4VQ"
      },
      "source": [
        "Comparemos el histograma de las muestras y la distribución teórica, que graficaremos haciendo uso de la librería `SciPy`:"
      ]
    },
    {
      "cell_type": "code",
      "metadata": {
        "id": "bf31AbLMU4VU",
        "colab": {
          "base_uri": "https://localhost:8080/",
          "height": 453
        },
        "outputId": "51530100-ddfe-4896-b86a-ecfd5e4e53e5"
      },
      "source": [
        "from scipy.stats import norm\n",
        "\n",
        "plt.hist(muestras, bins=20, density=True, alpha=0.6, color='r')\n",
        "\n",
        "xmin, xmax = plt.xlim()\n",
        "x = np.linspace(xmin, xmax, 100)\n",
        "p = norm.pdf(x, mu, sigma)\n",
        "plt.plot(x, p, 'k', linewidth=2, label = 'Distribución Teórica')\n",
        "\n",
        "title = \"Muestras obtenidas de una distribución normal con mu = %.2f,  sigma = %.2f\" % (mu, sigma)\n",
        "\n",
        "plt.title(title)\n",
        "plt.legend()\n",
        "plt.show()"
      ],
      "execution_count": null,
      "outputs": [
        {
          "output_type": "display_data",
          "data": {
            "text/plain": [
              "<Figure size 640x480 with 1 Axes>"
            ],
            "image/png": "[encoded data removed]"
          },
          "metadata": {}
        }
      ]
    },
    {
      "cell_type": "markdown",
      "metadata": {
        "id": "RTOjCCEQU4Vi"
      },
      "source": [
        "**Nota:** si estás atento/a a la escala en el eje *y*, notarás que es distinta a la escala de los histogramas anteriores. Esto se debe a que, en un histograma, además de graficar la cantidad de muestras que entran en cada intervalo, podemos también graficar la **proporción** de muestras que entran en cada intervalo.\n",
        "\n",
        "**Para pensar y probar:**\n",
        "1. ¿Por qué no coinciden $\\mu$ y $\\sigma$ con los valores calculados?¿Qué podemos hacer para que se parezcan cada vez más?¿Y qué ocurre en ese caso con el histograma y la distribución teórica?\n",
        "2. Con respecto al ejercicio que acabamos de hacer, ¿cuáles son los *parámetros* asociados al mundo de las probabilidades y cuáles son los *valores estadísticos* asociados al mundo de la estadística?\n",
        "\n",
        "\n",
        "### Ejercitación\n",
        "\n",
        "Los siguientes ejercicios pueden parecer muy difíciles, pero te aseguramos que no lo son tanto. ¡Lo importante es que los intentes!\n",
        "\n",
        "**Ejercicio 1 - Challenge:** Muchos juegos de mesa requieren tirar dados y sumar sus resultados. Por ejemplo, el [Catán](https://es.wikipedia.org/wiki/Los_Colonos_de_Cat%C3%A1n). Es evidente que, mientras en un dado la probabilidad de que salga cada cara es la misma, en esta variable aleatoria todos los resultados no son igual de probables (¿Cuáles son los posibles resultados?). Entonces, para mejorar tu estrategia en estos juegos, es útil saber cuál es la probabilidad asociada a cada resultado. Para ello, debes calcular su distribución de probabilidad. Entonces,\n",
        "\n",
        "Obtener la distribución de la variable aleatoria *suma del resultado de tirar dos dados*. Para ello puedes intentar alguna o ambas de las siguientes opciones:\n",
        "1. **Obtener la distribución teórica:** para ello, basta contar los casos *a mano* con lápiz y papel. Por ejemplo:\n",
        "    1. Uno (1) es un resultado imposible\n",
        "    2. Dos (2) solamente puede ser obtenida con ambos dados en 1, 1 + 1\n",
        "    3. Tres (3) tiene dos opciones, 2 + 1 y 1 + 2\n",
        "    4. Cuatro (4) tiene tres opciones: 3 + 1, 2 + 2, 1 + 3\n",
        "    \n",
        "    y así para el resto de los posibles resultados. Completa la lista hasta el 12 y cuenta cuántas combinaciones existen para cada resultado. ¿Cuántos combinaciones debe haber en total, teniendo en cuenta que cada dado tiene seis caras? Al final, debes llevarlos a porcentaje. Por ejemplo, si en total son 100 posibles combinaciones, y el 12 tiene 10 posibles combinaciones, su probabilidad es 10/100 = 0.1\n",
        "    \n",
        "2. **Simular y obtener una distribución aproximada:** otra opción es simular esta situación. Viste en el notebook anterior cómo simular un dado. Ahora simula dos dados y obtiene la suma de sus resultados.\n",
        "\n",
        "¿Te animas a comparar ambos métodos?"
      ]
    },
    {
      "cell_type": "code",
      "metadata": {
        "id": "327V3n7oU4Vm",
        "colab": {
          "base_uri": "https://localhost:8080/",
          "height": 430
        },
        "outputId": "64c7b661-2362-466e-e66e-418e8ca18eb3"
      },
      "source": [
        "# Vamos a calcular la distribución de probabilidad para la suma de dos dados de 6 caras.\n",
        "\n",
        "# Las posibles sumas van de 2 a 12\n",
        "suma_frecuencia = {suma: 0 for suma in range(2, 13)}\n",
        "\n",
        "# Recorremos cada posible combinación de dos dados\n",
        "for dado1 in range(1, 7):\n",
        "    for dado2 in range(1, 7):\n",
        "        suma = dado1 + dado2\n",
        "        suma_frecuencia[suma] += 1\n",
        "\n",
        "# Calculamos el total de combinaciones\n",
        "total_combinaciones = sum(suma_frecuencia.values())\n",
        "\n",
        "# Calculamos la probabilidad de cada suma en porcentaje\n",
        "suma_probabilidad = {suma: (frecuencia / total_combinaciones) * 100 for suma, frecuencia in suma_frecuencia.items()}\n",
        "\n",
        "suma_frecuencia, suma_probabilidad, total_combinaciones\n",
        "\n",
        "plt.hist(suma, bins = np.arange(1.5,13.5,1), density=True, rwidth = 0.8,)\n",
        "plt.show()"
      ],
      "execution_count": 15,
      "outputs": [
        {
          "output_type": "display_data",
          "data": {
            "text/plain": [
              "<Figure size 640x480 with 1 Axes>"
            ],
            "image/png": "[encoded data removed]"
          },
          "metadata": {}
        }
      ]
    },
    {
      "cell_type": "markdown",
      "metadata": {
        "id": "EkNiPekCU4V0"
      },
      "source": [
        "**Ejercicio 2:** Obtiene, simulando, la distribución de la variable aleatoria *máximo valor obtenido al tirar dos dados.* Por ejemplo, si obtenemos 2 y 5, el resultado es 5. Nuevamente, si lo deseas, también puedes contar casos y obtener la distribución teórica."
      ]
    },
    {
      "cell_type": "code",
      "metadata": {
        "id": "tzyvWre3U4V4",
        "colab": {
          "base_uri": "https://localhost:8080/",
          "height": 430
        },
        "outputId": "af5a11af-e3c3-47dd-f2f7-cc7f5d96a6e3"
      },
      "source": [
        "import random\n",
        "from collections import Counter\n",
        "\n",
        "# Configuración de la simulación\n",
        "num_simulaciones = 30  # Número de tiradas para simular la distribución\n",
        "\n",
        "# Simulamos las tiradas y calculamos el máximo valor de cada tirada\n",
        "resultados_max = [max(random.randint(1, 6), random.randint(1, 6)) for _ in range(num_simulaciones)]\n",
        "\n",
        "# Contamos la frecuencia de cada posible resultado de máximo valor\n",
        "frecuencia_max = Counter(resultados_max)\n",
        "\n",
        "# Convertimos las frecuencias a probabilidades en porcentaje\n",
        "total_simulaciones = sum(frecuencia_max.values())\n",
        "probabilidad_max = {resultado: (frecuencia / total_simulaciones) * 100 for resultado, frecuencia in frecuencia_max.items()}\n",
        "\n",
        "frecuencia_max, probabilidad_max\n",
        "\n",
        "plt.hist(frecuencia_max, bins = np.arange(0.5,7.5,1), density=True, rwidth = 0.8)\n",
        "plt.show()"
      ],
      "execution_count": 20,
      "outputs": [
        {
          "output_type": "display_data",
          "data": {
            "text/plain": [
              "<Figure size 640x480 with 1 Axes>"
            ],
            "image/png": "[encoded data removed]"
          },
          "metadata": {}
        }
      ]
    },
    {
      "cell_type": "markdown",
      "metadata": {
        "id": "Iu_y4bliU4WK"
      },
      "source": [
        "## 2. Correlación\n",
        "\n",
        "El objetivo de esta sección es que te familiarices con los conceptos de **Covarianza** y **Correlación**. Si bien las fórmulas parecen difíciles, esperemos que veas que nada es tan grave como parece. También que prestes atención a cómo a veces es útil simular datos para aprender o acercarse a algunas técnicas.\n",
        "\n",
        "Tenemos dos variables aleatorias $X$ e $Y$, de las cuales tenemos $n$ muestras de cada una, $x_1,x_2,..., x_n$ e $y_1,y_2,..., y_n$. Sus valores medios son $\\bar{x}$ e $\\bar{y}$, respectivamente. Definimos la Covarianza como\n",
        "\n",
        "$$Cov(X,Y) = \\sum_{i=1}^{n} \\frac{(x_i - \\bar{x})(y_i - \\bar{y})}{n}$$\n",
        "\n",
        "A veces verás que, en lugar de dividir por $n$, se divide por $n - 1$ ó $n - 2$, pero eso no es importante ahora. Según Wikipedia, \"la covarianza es un valor que indica el grado de variación conjunta de dos variables aleatorias respecto a sus medias. Es el dato básico para determinar si existe una dependencia entre ambas variables y además es el dato necesario para estimar otros parámetros básicos, como el coeficiente de correlación lineal o la recta de regresión.\".\n",
        "\n",
        "Si bien la fórmula puede parecer difícil, veamos qué nos dice de nuestros datos simulando algunos casos sencillos.\n",
        "\n",
        "Empezamos generandos muestras al azar de dos variables aleatorias no relacionadas entre sí."
      ]
    },
    {
      "cell_type": "code",
      "metadata": {
        "id": "q66jDC_IU4WO"
      },
      "source": [
        "import matplotlib.pyplot as plt\n",
        "import numpy as np"
      ],
      "execution_count": 22,
      "outputs": []
    },
    {
      "cell_type": "code",
      "metadata": {
        "id": "dWwL1LZ7U4Wa",
        "colab": {
          "base_uri": "https://localhost:8080/",
          "height": 435
        },
        "outputId": "f090c498-4b7f-4e59-c4fe-ae8a84f03691"
      },
      "source": [
        "n = 1000\n",
        "sigma_1 = 2\n",
        "sigma_2 = 20\n",
        "x = np.random.normal(size = n, scale = sigma_1)\n",
        "y = np.random.normal(size = n, scale = sigma_2)\n",
        "\n",
        "# Graficamos\n",
        "plt.scatter(x, y)\n",
        "plt.grid()\n",
        "plt.xlim([-60,60])\n",
        "plt.ylim([-60,60])\n",
        "plt.show()"
      ],
      "execution_count": 23,
      "outputs": [
        {
          "output_type": "display_data",
          "data": {
            "text/plain": [
              "<Figure size 640x480 with 1 Axes>"
            ],
            "image/png": "[encoded data removed]"
          },
          "metadata": {}
        }
      ]
    },
    {
      "cell_type": "markdown",
      "metadata": {
        "id": "w44BW3CCU4Wl"
      },
      "source": [
        "¿Hay alguna relación entre ellos? Por relación nos referimos a \"variación conjunta\". Y por \"variación conjunta\" podemos imaginarnos que si una de las variables aumenta, la otra también lo hace. Y si una variable disminuye su valor, la otra también lo hace. La covarianza intenta cuantificar esa relación."
      ]
    },
    {
      "cell_type": "code",
      "metadata": {
        "id": "3wX-H3y-U4Wo",
        "colab": {
          "base_uri": "https://localhost:8080/"
        },
        "outputId": "b9068880-494b-4989-9d17-e99741a32d43"
      },
      "source": [
        "cov = np.sum((x - x.mean())*(y - y.mean()))/x.size\n",
        "print(cov)"
      ],
      "execution_count": 24,
      "outputs": [
        {
          "output_type": "stream",
          "name": "stdout",
          "text": [
            "1.1028712464083936\n"
          ]
        }
      ]
    },
    {
      "cell_type": "markdown",
      "metadata": {
        "id": "zzbRb7kmU4W0"
      },
      "source": [
        "La covarianza, sin embargo, tiene un pequeño problema: depende de la escala de nuestros datos. Entonces, para deshacernos de la escala, se puede definir la Correlación, que no es otra cosa que la covarianza dividida la desviación estándar de cada variable aletaria.\n",
        "\n",
        "$$Corr(X,Y) = \\frac{Cov(X,Y)}{\\sigma_X \\sigma_Y}$$"
      ]
    },
    {
      "cell_type": "code",
      "metadata": {
        "id": "wW2-EG20U4W2",
        "colab": {
          "base_uri": "https://localhost:8080/"
        },
        "outputId": "8caa19b1-417f-49c3-f5d1-0b2c73324b00"
      },
      "source": [
        "corr = cov/(x.std()*y.std())\n",
        "print(corr)"
      ],
      "execution_count": 25,
      "outputs": [
        {
          "output_type": "stream",
          "name": "stdout",
          "text": [
            "0.02775578027952762\n"
          ]
        }
      ]
    },
    {
      "cell_type": "markdown",
      "metadata": {
        "id": "UHClidVeU4XC"
      },
      "source": [
        "Y con eso nos deshacemos de la escala. Un valor cercano a cero nos indica que no existe una relación (¿lineal?) entre las variables.\n",
        "\n",
        "**Probar** con distintas escalas (modificando `sigma_1` y `sigma_2`) y verán que `cov` tomará valores en un rango muy amplio, mientras que `corr` se mantendrá cercana a cero.\n",
        "\n",
        "### 2.1 Relación lineal\n",
        "\n",
        "Veamos otro ejemplo: sabemos que existe una relación lineal entre $X$ e $Y$, es decir, podemos aproximar $Y =aX+b$, donde $a$ y $b$ son la pendiente y la ordenada al origen."
      ]
    },
    {
      "cell_type": "code",
      "metadata": {
        "id": "JV0TUTcCU4XE",
        "colab": {
          "base_uri": "https://localhost:8080/",
          "height": 430
        },
        "outputId": "6bf20a45-4055-4944-aa2d-e535d89b0592"
      },
      "source": [
        "n = 100\n",
        "x = np.linspace(-1,1,n) + 0.25*np.random.normal(size = n)\n",
        "y = 2.5*x + 0.25*np.random.normal(size = n)\n",
        "\n",
        "# Graficamos\n",
        "plt.scatter(x, y)\n",
        "plt.grid()\n",
        "plt.show()"
      ],
      "execution_count": 28,
      "outputs": [
        {
          "output_type": "display_data",
          "data": {
            "text/plain": [
              "<Figure size 640x480 with 1 Axes>"
            ],
            "image/png": "[encoded data removed]"
          },
          "metadata": {}
        }
      ]
    },
    {
      "cell_type": "markdown",
      "metadata": {
        "id": "SpN-9JFmU4XM"
      },
      "source": [
        "La covarianza nos da"
      ]
    },
    {
      "cell_type": "code",
      "metadata": {
        "id": "LEzzOeFtU4XR"
      },
      "source": [
        "cov = np.sum((x - x.mean())*(y - y.mean()))/x.size\n",
        "print(cov)"
      ],
      "execution_count": null,
      "outputs": []
    },
    {
      "cell_type": "code",
      "metadata": {
        "id": "ofbVUp7xU4Xa"
      },
      "source": [
        "corr = cov/(x.std()*y.std())\n",
        "corr"
      ],
      "execution_count": null,
      "outputs": []
    },
    {
      "cell_type": "markdown",
      "metadata": {
        "id": "3O19qjolU4Xi"
      },
      "source": [
        "Ahora, en cambio, el valor es cercano a uno, indicando una relación lineal creciente entre ambas variables.\n",
        "\n",
        "**Probar** cambiando la pendiente de la función lineal (el número que multiplica a `x` en `y = ...`) y mirar qué pasa. ¿Qué pasa si la pendiente es negativa?"
      ]
    },
    {
      "cell_type": "markdown",
      "metadata": {
        "id": "vjgjstKaU4Xm"
      },
      "source": [
        "#### Conclusiones\n",
        "\n",
        "1. La covarianza es una medida de la variación conjunta de dos variables. Pero tiene un problema: depende de la escala.\n",
        "2. Para \"deshacernos\" de la escala, definimos la correlación, que es simplemente la covarianza dividida por el producto de la desviación estándar de cada variable. **Para pensar:** ¿por qué la desviación estándar está asociada a la escala de una variable?\n",
        "3. La correlación es un valor entre -1 y 1. La correlación toma un valor cercano a uno cuando hay una relación lineal creciente entre las variables, cero cuando no hay relación y -1 cuando hay una relación lineal decreciente.\n",
        "4. Esta correlación tiene un nombre particular: **Correlación de Pearson**."
      ]
    },
    {
      "cell_type": "markdown",
      "metadata": {
        "id": "piVs0Av1U4Xp"
      },
      "source": [
        "### 2.2 Covarianza y Correlación con NumPy\n",
        "\n",
        "**Esta sección es opcional**\n",
        "\n",
        "NumPy ya tiene incorporadas funciones que calculan la covarianza y la correlación entre dos variables. La única diferencia es que, en lugar de devolver un único valor, devuelve cuatro valores, que corresponden a la covarianza/correlación entre $X$ con $X$, $X$ con $Y$, $Y$ con $X$, e $Y$ con $Y$. ¿Por qué, en la correlación, algunos valores son exactamente uno (1.)?"
      ]
    },
    {
      "cell_type": "code",
      "metadata": {
        "id": "frlmIIkKU4Xr",
        "colab": {
          "base_uri": "https://localhost:8080/"
        },
        "outputId": "0515c7a2-8f2c-4d12-f72e-cd6f4b077b9d"
      },
      "source": [
        "np.cov([x,y])"
      ],
      "execution_count": 29,
      "outputs": [
        {
          "output_type": "execute_result",
          "data": {
            "text/plain": [
              "array([[0.4041767 , 0.99943158],\n",
              "       [0.99943158, 2.54658185]])"
            ]
          },
          "metadata": {},
          "execution_count": 29
        }
      ]
    },
    {
      "cell_type": "code",
      "metadata": {
        "id": "AWJOKo6sU4Xz",
        "colab": {
          "base_uri": "https://localhost:8080/"
        },
        "outputId": "774eb3b6-ca40-41c1-db51-3caa66586edd"
      },
      "source": [
        "np.corrcoef([x,y])"
      ],
      "execution_count": 30,
      "outputs": [
        {
          "output_type": "execute_result",
          "data": {
            "text/plain": [
              "array([[1.        , 0.98511881],\n",
              "       [0.98511881, 1.        ]])"
            ]
          },
          "metadata": {},
          "execution_count": 30
        }
      ]
    },
    {
      "cell_type": "markdown",
      "metadata": {
        "id": "MyrooOHbU4X8"
      },
      "source": [
        "### 2.3 Relación No-Lineal entre variables\n",
        "\n",
        "**Esta sección es opcional, pero recomendamos leerla**\n",
        "\n",
        "¿Qué ocurre cuando la relación no es lineal entre las variables? Veámoslo con un ejemplo.\n"
      ]
    },
    {
      "cell_type": "code",
      "metadata": {
        "id": "iW2lL_d8U4X-",
        "colab": {
          "base_uri": "https://localhost:8080/",
          "height": 430
        },
        "outputId": "9c0812ee-7c27-4a9b-99b8-1b15e1cbe43e"
      },
      "source": [
        "n = 1000\n",
        "x = np.linspace(-5,5,n) + 0.25*np.random.normal(size = n)\n",
        "y = x**2 + 0.25*np.random.normal(size = n)\n",
        "\n",
        "# Graficamos\n",
        "plt.scatter(x, y)\n",
        "plt.grid()\n",
        "plt.show()"
      ],
      "execution_count": 31,
      "outputs": [
        {
          "output_type": "display_data",
          "data": {
            "text/plain": [
              "<Figure size 640x480 with 1 Axes>"
            ],
            "image/png": "[encoded data removed]"
          },
          "metadata": {}
        }
      ]
    },
    {
      "cell_type": "markdown",
      "metadata": {
        "id": "x0f8gozSU4YF"
      },
      "source": [
        "La covarianza nos da"
      ]
    },
    {
      "cell_type": "code",
      "metadata": {
        "id": "qyOWwrbQU4YH",
        "colab": {
          "base_uri": "https://localhost:8080/"
        },
        "outputId": "ec73ddbf-4aaf-4820-ab0a-334846626a52"
      },
      "source": [
        "cov = np.sum((x - x.mean())*(y - y.mean()))/x.size\n",
        "print(cov)"
      ],
      "execution_count": 32,
      "outputs": [
        {
          "output_type": "stream",
          "name": "stdout",
          "text": [
            "0.12021698890672997\n"
          ]
        }
      ]
    },
    {
      "cell_type": "code",
      "metadata": {
        "id": "_90NldnwU4YP",
        "colab": {
          "base_uri": "https://localhost:8080/"
        },
        "outputId": "b8b25d4f-60e9-480a-f1a0-5bb6d0cd285e"
      },
      "source": [
        "corr = cov/(x.std()*y.std())\n",
        "corr"
      ],
      "execution_count": 33,
      "outputs": [
        {
          "output_type": "execute_result",
          "data": {
            "text/plain": [
              "0.005613183939612153"
            ]
          },
          "metadata": {},
          "execution_count": 33
        }
      ]
    },
    {
      "cell_type": "markdown",
      "metadata": {
        "id": "9XiFp1CZU4YX"
      },
      "source": [
        "Notar que la correlación de un valor alrededor de cero, indicando que no hay una correlación entre ambas variables. Pero esto NO indica que no hay una *relación* entre esas variables, solamente nos dice que no es lineal. Por eso es muy importante graficar.\n",
        "\n",
        "**Probar** cambiando la relación matemática entre `x` e `y` y mirar qué pasa.\n",
        "\n",
        "Para tratar con relaciones no lineal entre variables, existen otros tipos de correlaciones. La que vimos se llama **Correlación de Pearson**, que es la más famosa. Pero también existen otras, Spearman y Kendall, que son muy útiles cuando existe una relación no lineal entre variables.\n",
        "\n",
        "### 3. Correlación en Pandas\n",
        "\n",
        "Probablemente ya estés un poco mareado/a con tantos términos, conceptos y líneas de código. Si no entendiste del todo lo anterior, no te preocupes. Vamos a ver cómo lo aplicamos en un conjunto de datos. ¡Verás que es muy sencillo!\n",
        "\n",
        "Para eso, volvemos a usar el Iris Dataset del encuentro anterior."
      ]
    },
    {
      "cell_type": "code",
      "metadata": {
        "id": "jwu9X-67U4Ya"
      },
      "source": [
        "import pandas as pd"
      ],
      "execution_count": 44,
      "outputs": []
    },
    {
      "cell_type": "code",
      "metadata": {
        "id": "QSWYv0_WU4Yk",
        "colab": {
          "base_uri": "https://localhost:8080/",
          "height": 206
        },
        "outputId": "3b4f1eb8-ece2-4995-fefa-7f371cc03a51"
      },
      "source": [
        "pd.read_data= ('iris.csv')\n",
        "# data.drop(columns = 'Id', inplace = True)\n",
        "data.head()"
      ],
      "execution_count": 47,
      "outputs": [
        {
          "output_type": "execute_result",
          "data": {
            "text/plain": [
              "   Id  SepalLengthCm  SepalWidthCm  PetalLengthCm  PetalWidthCm      Species\n",
              "0   1            5.1           3.5            1.4           0.2  Iris-setosa\n",
              "1   2            4.9           3.0            1.4           0.2  Iris-setosa\n",
              "2   3            4.7           3.2            1.3           0.2  Iris-setosa\n",
              "3   4            4.6           3.1            1.5           0.2  Iris-setosa\n",
              "4   5            5.0           3.6            1.4           0.2  Iris-setosa"
            ],
            "text/html": [
              "\n",
              "  <div id=\"df-1c801f7e-2218-41a4-b79b-92fd697a8833\" class=\"colab-df-container\">\n",
              "    <div>\n",
              "<style scoped>\n",
              "    .dataframe tbody tr th:only-of-type {\n",
              "        vertical-align: middle;\n",
              "    }\n",
              "\n",
              "    .dataframe tbody tr th {\n",
              "        vertical-align: top;\n",
              "    }\n",
              "\n",
              "    .dataframe thead th {\n",
              "        text-align: right;\n",
              "    }\n",
              "</style>\n",
              "<table border=\"1\" class=\"dataframe\">\n",
              "  <thead>\n",
              "    <tr style=\"text-align: right;\">\n",
              "      <th></th>\n",
              "      <th>Id</th>\n",
              "      <th>SepalLengthCm</th>\n",
              "      <th>SepalWidthCm</th>\n",
              "      <th>PetalLengthCm</th>\n",
              "      <th>PetalWidthCm</th>\n",
              "      <th>Species</th>\n",
              "    </tr>\n",
              "  </thead>\n",
              "  <tbody>\n",
              "    <tr>\n",
              "      <th>0</th>\n",
              "      <td>1</td>\n",
              "      <td>5.1</td>\n",
              "      <td>3.5</td>\n",
              "      <td>1.4</td>\n",
              "      <td>0.2</td>\n",
              "      <td>Iris-setosa</td>\n",
              "    </tr>\n",
              "    <tr>\n",
              "      <th>1</th>\n",
              "      <td>2</td>\n",
              "      <td>4.9</td>\n",
              "      <td>3.0</td>\n",
              "      <td>1.4</td>\n",
              "      <td>0.2</td>\n",
              "      <td>Iris-setosa</td>\n",
              "    </tr>\n",
              "    <tr>\n",
              "      <th>2</th>\n",
              "      <td>3</td>\n",
              "      <td>4.7</td>\n",
              "      <td>3.2</td>\n",
              "      <td>1.3</td>\n",
              "      <td>0.2</td>\n",
              "      <td>Iris-setosa</td>\n",
              "    </tr>\n",
              "    <tr>\n",
              "      <th>3</th>\n",
              "      <td>4</td>\n",
              "      <td>4.6</td>\n",
              "      <td>3.1</td>\n",
              "      <td>1.5</td>\n",
              "      <td>0.2</td>\n",
              "      <td>Iris-setosa</td>\n",
              "    </tr>\n",
              "    <tr>\n",
              "      <th>4</th>\n",
              "      <td>5</td>\n",
              "      <td>5.0</td>\n",
              "      <td>3.6</td>\n",
              "      <td>1.4</td>\n",
              "      <td>0.2</td>\n",
              "      <td>Iris-setosa</td>\n",
              "    </tr>\n",
              "  </tbody>\n",
              "</table>\n",
              "</div>\n",
              "    <div class=\"colab-df-buttons\">\n",
              "\n",
              "  <div class=\"colab-df-container\">\n",
              "    <button class=\"colab-df-convert\" onclick=\"convertToInteractive('df-1c801f7e-2218-41a4-b79b-92fd697a8833')\"\n",
              "            title=\"Convert this dataframe to an interactive table.\"\n",
              "            style=\"display:none;\">\n",
              "\n",
              "  <svg xmlns=\"http://www.w3.org/2000/svg\" height=\"24px\" viewBox=\"0 -960 960 960\">\n",
              "    <path d=\"M120-120v-720h720v720H120Zm60-500h600v-160H180v160Zm220 220h160v-160H400v160Zm0 220h160v-160H400v160ZM180-400h160v-160H180v160Zm440 0h160v-160H620v160ZM180-180h160v-160H180v160Zm440 0h160v-160H620v160Z\"/>\n",
              "  </svg>\n",
              "    </button>\n",
              "\n",
              "  <style>\n",
              "    .colab-df-container {\n",
              "      display:flex;\n",
              "      gap: 12px;\n",
              "    }\n",
              "\n",
              "    .colab-df-convert {\n",
              "      background-color: #E8F0FE;\n",
              "      border: none;\n",
              "      border-radius: 50%;\n",
              "      cursor: pointer;\n",
              "      display: none;\n",
              "      fill: #1967D2;\n",
              "      height: 32px;\n",
              "      padding: 0 0 0 0;\n",
              "      width: 32px;\n",
              "    }\n",
              "\n",
              "    .colab-df-convert:hover {\n",
              "      background-color: #E2EBFA;\n",
              "      box-shadow: 0px 1px 2px rgba(60, 64, 67, 0.3), 0px 1px 3px 1px rgba(60, 64, 67, 0.15);\n",
              "      fill: #174EA6;\n",
              "    }\n",
              "\n",
              "    .colab-df-buttons div {\n",
              "      margin-bottom: 4px;\n",
              "    }\n",
              "\n",
              "    [theme=dark] .colab-df-convert {\n",
              "      background-color: #3B4455;\n",
              "      fill: #D2E3FC;\n",
              "    }\n",
              "\n",
              "    [theme=dark] .colab-df-convert:hover {\n",
              "      background-color: #434B5C;\n",
              "      box-shadow: 0px 1px 3px 1px rgba(0, 0, 0, 0.15);\n",
              "      filter: drop-shadow(0px 1px 2px rgba(0, 0, 0, 0.3));\n",
              "      fill: #FFFFFF;\n",
              "    }\n",
              "  </style>\n",
              "\n",
              "    <script>\n",
              "      const buttonEl =\n",
              "        document.querySelector('#df-1c801f7e-2218-41a4-b79b-92fd697a8833 button.colab-df-convert');\n",
              "      buttonEl.style.display =\n",
              "        google.colab.kernel.accessAllowed ? 'block' : 'none';\n",
              "\n",
              "      async function convertToInteractive(key) {\n",
              "        const element = document.querySelector('#df-1c801f7e-2218-41a4-b79b-92fd697a8833');\n",
              "        const dataTable =\n",
              "          await google.colab.kernel.invokeFunction('convertToInteractive',\n",
              "                                                    [key], {});\n",
              "        if (!dataTable) return;\n",
              "\n",
              "        const docLinkHtml = 'Like what you see? Visit the ' +\n",
              "          '<a target=\"_blank\" href=https://colab.research.google.com/notebooks/data_table.ipynb>data table notebook</a>'\n",
              "          + ' to learn more about interactive tables.';\n",
              "        element.innerHTML = '';\n",
              "        dataTable['output_type'] = 'display_data';\n",
              "        await google.colab.output.renderOutput(dataTable, element);\n",
              "        const docLink = document.createElement('div');\n",
              "        docLink.innerHTML = docLinkHtml;\n",
              "        element.appendChild(docLink);\n",
              "      }\n",
              "    </script>\n",
              "  </div>\n",
              "\n",
              "\n",
              "<div id=\"df-86f7d49f-5a4d-4547-a251-825cdf743ba4\">\n",
              "  <button class=\"colab-df-quickchart\" onclick=\"quickchart('df-86f7d49f-5a4d-4547-a251-825cdf743ba4')\"\n",
              "            title=\"Suggest charts\"\n",
              "            style=\"display:none;\">\n",
              "\n",
              "<svg xmlns=\"http://www.w3.org/2000/svg\" height=\"24px\"viewBox=\"0 0 24 24\"\n",
              "     width=\"24px\">\n",
              "    <g>\n",
              "        <path d=\"M19 3H5c-1.1 0-2 .9-2 2v14c0 1.1.9 2 2 2h14c1.1 0 2-.9 2-2V5c0-1.1-.9-2-2-2zM9 17H7v-7h2v7zm4 0h-2V7h2v10zm4 0h-2v-4h2v4z\"/>\n",
              "    </g>\n",
              "</svg>\n",
              "  </button>\n",
              "\n",
              "<style>\n",
              "  .colab-df-quickchart {\n",
              "      --bg-color: #E8F0FE;\n",
              "      --fill-color: #1967D2;\n",
              "      --hover-bg-color: #E2EBFA;\n",
              "      --hover-fill-color: #174EA6;\n",
              "      --disabled-fill-color: #AAA;\n",
              "      --disabled-bg-color: #DDD;\n",
              "  }\n",
              "\n",
              "  [theme=dark] .colab-df-quickchart {\n",
              "      --bg-color: #3B4455;\n",
              "      --fill-color: #D2E3FC;\n",
              "      --hover-bg-color: #434B5C;\n",
              "      --hover-fill-color: #FFFFFF;\n",
              "      --disabled-bg-color: #3B4455;\n",
              "      --disabled-fill-color: #666;\n",
              "  }\n",
              "\n",
              "  .colab-df-quickchart {\n",
              "    background-color: var(--bg-color);\n",
              "    border: none;\n",
              "    border-radius: 50%;\n",
              "    cursor: pointer;\n",
              "    display: none;\n",
              "    fill: var(--fill-color);\n",
              "    height: 32px;\n",
              "    padding: 0;\n",
              "    width: 32px;\n",
              "  }\n",
              "\n",
              "  .colab-df-quickchart:hover {\n",
              "    background-color: var(--hover-bg-color);\n",
              "    box-shadow: 0 1px 2px rgba(60, 64, 67, 0.3), 0 1px 3px 1px rgba(60, 64, 67, 0.15);\n",
              "    fill: var(--button-hover-fill-color);\n",
              "  }\n",
              "\n",
              "  .colab-df-quickchart-complete:disabled,\n",
              "  .colab-df-quickchart-complete:disabled:hover {\n",
              "    background-color: var(--disabled-bg-color);\n",
              "    fill: var(--disabled-fill-color);\n",
              "    box-shadow: none;\n",
              "  }\n",
              "\n",
              "  .colab-df-spinner {\n",
              "    border: 2px solid var(--fill-color);\n",
              "    border-color: transparent;\n",
              "    border-bottom-color: var(--fill-color);\n",
              "    animation:\n",
              "      spin 1s steps(1) infinite;\n",
              "  }\n",
              "\n",
              "  @keyframes spin {\n",
              "    0% {\n",
              "      border-color: transparent;\n",
              "      border-bottom-color: var(--fill-color);\n",
              "      border-left-color: var(--fill-color);\n",
              "    }\n",
              "    20% {\n",
              "      border-color: transparent;\n",
              "      border-left-color: var(--fill-color);\n",
              "      border-top-color: var(--fill-color);\n",
              "    }\n",
              "    30% {\n",
              "      border-color: transparent;\n",
              "      border-left-color: var(--fill-color);\n",
              "      border-top-color: var(--fill-color);\n",
              "      border-right-color: var(--fill-color);\n",
              "    }\n",
              "    40% {\n",
              "      border-color: transparent;\n",
              "      border-right-color: var(--fill-color);\n",
              "      border-top-color: var(--fill-color);\n",
              "    }\n",
              "    60% {\n",
              "      border-color: transparent;\n",
              "      border-right-color: var(--fill-color);\n",
              "    }\n",
              "    80% {\n",
              "      border-color: transparent;\n",
              "      border-right-color: var(--fill-color);\n",
              "      border-bottom-color: var(--fill-color);\n",
              "    }\n",
              "    90% {\n",
              "      border-color: transparent;\n",
              "      border-bottom-color: var(--fill-color);\n",
              "    }\n",
              "  }\n",
              "</style>\n",
              "\n",
              "  <script>\n",
              "    async function quickchart(key) {\n",
              "      const quickchartButtonEl =\n",
              "        document.querySelector('#' + key + ' button');\n",
              "      quickchartButtonEl.disabled = true;  // To prevent multiple clicks.\n",
              "      quickchartButtonEl.classList.add('colab-df-spinner');\n",
              "      try {\n",
              "        const charts = await google.colab.kernel.invokeFunction(\n",
              "            'suggestCharts', [key], {});\n",
              "      } catch (error) {\n",
              "        console.error('Error during call to suggestCharts:', error);\n",
              "      }\n",
              "      quickchartButtonEl.classList.remove('colab-df-spinner');\n",
              "      quickchartButtonEl.classList.add('colab-df-quickchart-complete');\n",
              "    }\n",
              "    (() => {\n",
              "      let quickchartButtonEl =\n",
              "        document.querySelector('#df-86f7d49f-5a4d-4547-a251-825cdf743ba4 button');\n",
              "      quickchartButtonEl.style.display =\n",
              "        google.colab.kernel.accessAllowed ? 'block' : 'none';\n",
              "    })();\n",
              "  </script>\n",
              "</div>\n",
              "\n",
              "    </div>\n",
              "  </div>\n"
            ],
            "application/vnd.google.colaboratory.intrinsic+json": {
              "type": "dataframe",
              "variable_name": "data",
              "summary": "{\n  \"name\": \"data\",\n  \"rows\": 150,\n  \"fields\": [\n    {\n      \"column\": \"Id\",\n      \"properties\": {\n        \"dtype\": \"number\",\n        \"std\": 43,\n        \"min\": 1,\n        \"max\": 150,\n        \"num_unique_values\": 150,\n        \"samples\": [\n          74,\n          19,\n          119\n        ],\n        \"semantic_type\": \"\",\n        \"description\": \"\"\n      }\n    },\n    {\n      \"column\": \"SepalLengthCm\",\n      \"properties\": {\n        \"dtype\": \"number\",\n        \"std\": 0.8280661279778629,\n        \"min\": 4.3,\n        \"max\": 7.9,\n        \"num_unique_values\": 35,\n        \"samples\": [\n          6.2,\n          4.5,\n          5.6\n        ],\n        \"semantic_type\": \"\",\n        \"description\": \"\"\n      }\n    },\n    {\n      \"column\": \"SepalWidthCm\",\n      \"properties\": {\n        \"dtype\": \"number\",\n        \"std\": 0.4335943113621737,\n        \"min\": 2.0,\n        \"max\": 4.4,\n        \"num_unique_values\": 23,\n        \"samples\": [\n          2.3,\n          4.0,\n          3.5\n        ],\n        \"semantic_type\": \"\",\n        \"description\": \"\"\n      }\n    },\n    {\n      \"column\": \"PetalLengthCm\",\n      \"properties\": {\n        \"dtype\": \"number\",\n        \"std\": 1.7644204199522617,\n        \"min\": 1.0,\n        \"max\": 6.9,\n        \"num_unique_values\": 43,\n        \"samples\": [\n          6.7,\n          3.8,\n          3.7\n        ],\n        \"semantic_type\": \"\",\n        \"description\": \"\"\n      }\n    },\n    {\n      \"column\": \"PetalWidthCm\",\n      \"properties\": {\n        \"dtype\": \"number\",\n        \"std\": 0.7631607417008414,\n        \"min\": 0.1,\n        \"max\": 2.5,\n        \"num_unique_values\": 22,\n        \"samples\": [\n          0.2,\n          1.2,\n          1.3\n        ],\n        \"semantic_type\": \"\",\n        \"description\": \"\"\n      }\n    },\n    {\n      \"column\": \"Species\",\n      \"properties\": {\n        \"dtype\": \"category\",\n        \"num_unique_values\": 3,\n        \"samples\": [\n          \"Iris-setosa\",\n          \"Iris-versicolor\",\n          \"Iris-virginica\"\n        ],\n        \"semantic_type\": \"\",\n        \"description\": \"\"\n      }\n    }\n  ]\n}"
            }
          },
          "metadata": {},
          "execution_count": 47
        }
      ]
    },
    {
      "cell_type": "markdown",
      "metadata": {
        "id": "_hpR90jUU4Yr"
      },
      "source": [
        "Para obtener las correlaciones entre las distintas variables, simplemente tenemos que hacer:"
      ]
    },
    {
      "cell_type": "code",
      "metadata": {
        "id": "j24K4utyU4Yw",
        "colab": {
          "base_uri": "https://localhost:8080/",
          "height": 297
        },
        "outputId": "5a0cc657-e965-4673-83c1-abb04f1e5267"
      },
      "source": [
        "data.corr(Spec"
      ],
      "execution_count": 48,
      "outputs": [
        {
          "output_type": "error",
          "ename": "ValueError",
          "evalue": "could not convert string to float: 'Iris-setosa'",
          "traceback": [
            "\u001b[0;31m---------------------------------------------------------------------------\u001b[0m",
            "\u001b[0;31mValueError\u001b[0m                                Traceback (most recent call last)",
            "\u001b[0;32m<ipython-input-48-c44ded798807>\u001b[0m in \u001b[0;36m<cell line: 1>\u001b[0;34m()\u001b[0m\n\u001b[0;32m----> 1\u001b[0;31m \u001b[0mdata\u001b[0m\u001b[0;34m.\u001b[0m\u001b[0mcorr\u001b[0m\u001b[0;34m(\u001b[0m\u001b[0;34m)\u001b[0m\u001b[0;34m\u001b[0m\u001b[0;34m\u001b[0m\u001b[0m\n\u001b[0m",
            "\u001b[0;32m/usr/local/lib/python3.10/dist-packages/pandas/core/frame.py\u001b[0m in \u001b[0;36mcorr\u001b[0;34m(self, method, min_periods, numeric_only)\u001b[0m\n\u001b[1;32m  11047\u001b[0m         \u001b[0mcols\u001b[0m \u001b[0;34m=\u001b[0m \u001b[0mdata\u001b[0m\u001b[0;34m.\u001b[0m\u001b[0mcolumns\u001b[0m\u001b[0;34m\u001b[0m\u001b[0;34m\u001b[0m\u001b[0m\n\u001b[1;32m  11048\u001b[0m         \u001b[0midx\u001b[0m \u001b[0;34m=\u001b[0m \u001b[0mcols\u001b[0m\u001b[0;34m.\u001b[0m\u001b[0mcopy\u001b[0m\u001b[0;34m(\u001b[0m\u001b[0;34m)\u001b[0m\u001b[0;34m\u001b[0m\u001b[0;34m\u001b[0m\u001b[0m\n\u001b[0;32m> 11049\u001b[0;31m         \u001b[0mmat\u001b[0m \u001b[0;34m=\u001b[0m \u001b[0mdata\u001b[0m\u001b[0;34m.\u001b[0m\u001b[0mto_numpy\u001b[0m\u001b[0;34m(\u001b[0m\u001b[0mdtype\u001b[0m\u001b[0;34m=\u001b[0m\u001b[0mfloat\u001b[0m\u001b[0;34m,\u001b[0m \u001b[0mna_value\u001b[0m\u001b[0;34m=\u001b[0m\u001b[0mnp\u001b[0m\u001b[0;34m.\u001b[0m\u001b[0mnan\u001b[0m\u001b[0;34m,\u001b[0m \u001b[0mcopy\u001b[0m\u001b[0;34m=\u001b[0m\u001b[0;32mFalse\u001b[0m\u001b[0;34m)\u001b[0m\u001b[0;34m\u001b[0m\u001b[0;34m\u001b[0m\u001b[0m\n\u001b[0m\u001b[1;32m  11050\u001b[0m \u001b[0;34m\u001b[0m\u001b[0m\n\u001b[1;32m  11051\u001b[0m         \u001b[0;32mif\u001b[0m \u001b[0mmethod\u001b[0m \u001b[0;34m==\u001b[0m \u001b[0;34m\"pearson\"\u001b[0m\u001b[0;34m:\u001b[0m\u001b[0;34m\u001b[0m\u001b[0;34m\u001b[0m\u001b[0m\n",
            "\u001b[0;32m/usr/local/lib/python3.10/dist-packages/pandas/core/frame.py\u001b[0m in \u001b[0;36mto_numpy\u001b[0;34m(self, dtype, copy, na_value)\u001b[0m\n\u001b[1;32m   1991\u001b[0m         \u001b[0;32mif\u001b[0m \u001b[0mdtype\u001b[0m \u001b[0;32mis\u001b[0m \u001b[0;32mnot\u001b[0m \u001b[0;32mNone\u001b[0m\u001b[0;34m:\u001b[0m\u001b[0;34m\u001b[0m\u001b[0;34m\u001b[0m\u001b[0m\n\u001b[1;32m   1992\u001b[0m             \u001b[0mdtype\u001b[0m \u001b[0;34m=\u001b[0m \u001b[0mnp\u001b[0m\u001b[0;34m.\u001b[0m\u001b[0mdtype\u001b[0m\u001b[0;34m(\u001b[0m\u001b[0mdtype\u001b[0m\u001b[0;34m)\u001b[0m\u001b[0;34m\u001b[0m\u001b[0;34m\u001b[0m\u001b[0m\n\u001b[0;32m-> 1993\u001b[0;31m         \u001b[0mresult\u001b[0m \u001b[0;34m=\u001b[0m \u001b[0mself\u001b[0m\u001b[0;34m.\u001b[0m\u001b[0m_mgr\u001b[0m\u001b[0;34m.\u001b[0m\u001b[0mas_array\u001b[0m\u001b[0;34m(\u001b[0m\u001b[0mdtype\u001b[0m\u001b[0;34m=\u001b[0m\u001b[0mdtype\u001b[0m\u001b[0;34m,\u001b[0m \u001b[0mcopy\u001b[0m\u001b[0;34m=\u001b[0m\u001b[0mcopy\u001b[0m\u001b[0;34m,\u001b[0m \u001b[0mna_value\u001b[0m\u001b[0;34m=\u001b[0m\u001b[0mna_value\u001b[0m\u001b[0;34m)\u001b[0m\u001b[0;34m\u001b[0m\u001b[0;34m\u001b[0m\u001b[0m\n\u001b[0m\u001b[1;32m   1994\u001b[0m         \u001b[0;32mif\u001b[0m \u001b[0mresult\u001b[0m\u001b[0;34m.\u001b[0m\u001b[0mdtype\u001b[0m \u001b[0;32mis\u001b[0m \u001b[0;32mnot\u001b[0m \u001b[0mdtype\u001b[0m\u001b[0;34m:\u001b[0m\u001b[0;34m\u001b[0m\u001b[0;34m\u001b[0m\u001b[0m\n\u001b[1;32m   1995\u001b[0m             \u001b[0mresult\u001b[0m \u001b[0;34m=\u001b[0m \u001b[0mnp\u001b[0m\u001b[0;34m.\u001b[0m\u001b[0masarray\u001b[0m\u001b[0;34m(\u001b[0m\u001b[0mresult\u001b[0m\u001b[0;34m,\u001b[0m \u001b[0mdtype\u001b[0m\u001b[0;34m=\u001b[0m\u001b[0mdtype\u001b[0m\u001b[0;34m)\u001b[0m\u001b[0;34m\u001b[0m\u001b[0;34m\u001b[0m\u001b[0m\n",
            "\u001b[0;32m/usr/local/lib/python3.10/dist-packages/pandas/core/internals/managers.py\u001b[0m in \u001b[0;36mas_array\u001b[0;34m(self, dtype, copy, na_value)\u001b[0m\n\u001b[1;32m   1692\u001b[0m                 \u001b[0marr\u001b[0m\u001b[0;34m.\u001b[0m\u001b[0mflags\u001b[0m\u001b[0;34m.\u001b[0m\u001b[0mwriteable\u001b[0m \u001b[0;34m=\u001b[0m \u001b[0;32mFalse\u001b[0m\u001b[0;34m\u001b[0m\u001b[0;34m\u001b[0m\u001b[0m\n\u001b[1;32m   1693\u001b[0m         \u001b[0;32melse\u001b[0m\u001b[0;34m:\u001b[0m\u001b[0;34m\u001b[0m\u001b[0;34m\u001b[0m\u001b[0m\n\u001b[0;32m-> 1694\u001b[0;31m             \u001b[0marr\u001b[0m \u001b[0;34m=\u001b[0m \u001b[0mself\u001b[0m\u001b[0;34m.\u001b[0m\u001b[0m_interleave\u001b[0m\u001b[0;34m(\u001b[0m\u001b[0mdtype\u001b[0m\u001b[0;34m=\u001b[0m\u001b[0mdtype\u001b[0m\u001b[0;34m,\u001b[0m \u001b[0mna_value\u001b[0m\u001b[0;34m=\u001b[0m\u001b[0mna_value\u001b[0m\u001b[0;34m)\u001b[0m\u001b[0;34m\u001b[0m\u001b[0;34m\u001b[0m\u001b[0m\n\u001b[0m\u001b[1;32m   1695\u001b[0m             \u001b[0;31m# The underlying data was copied within _interleave, so no need\u001b[0m\u001b[0;34m\u001b[0m\u001b[0;34m\u001b[0m\u001b[0m\n\u001b[1;32m   1696\u001b[0m             \u001b[0;31m# to further copy if copy=True or setting na_value\u001b[0m\u001b[0;34m\u001b[0m\u001b[0;34m\u001b[0m\u001b[0m\n",
            "\u001b[0;32m/usr/local/lib/python3.10/dist-packages/pandas/core/internals/managers.py\u001b[0m in \u001b[0;36m_interleave\u001b[0;34m(self, dtype, na_value)\u001b[0m\n\u001b[1;32m   1751\u001b[0m             \u001b[0;32melse\u001b[0m\u001b[0;34m:\u001b[0m\u001b[0;34m\u001b[0m\u001b[0;34m\u001b[0m\u001b[0m\n\u001b[1;32m   1752\u001b[0m                 \u001b[0marr\u001b[0m \u001b[0;34m=\u001b[0m \u001b[0mblk\u001b[0m\u001b[0;34m.\u001b[0m\u001b[0mget_values\u001b[0m\u001b[0;34m(\u001b[0m\u001b[0mdtype\u001b[0m\u001b[0;34m)\u001b[0m\u001b[0;34m\u001b[0m\u001b[0;34m\u001b[0m\u001b[0m\n\u001b[0;32m-> 1753\u001b[0;31m             \u001b[0mresult\u001b[0m\u001b[0;34m[\u001b[0m\u001b[0mrl\u001b[0m\u001b[0;34m.\u001b[0m\u001b[0mindexer\u001b[0m\u001b[0;34m]\u001b[0m \u001b[0;34m=\u001b[0m \u001b[0marr\u001b[0m\u001b[0;34m\u001b[0m\u001b[0;34m\u001b[0m\u001b[0m\n\u001b[0m\u001b[1;32m   1754\u001b[0m             \u001b[0mitemmask\u001b[0m\u001b[0;34m[\u001b[0m\u001b[0mrl\u001b[0m\u001b[0;34m.\u001b[0m\u001b[0mindexer\u001b[0m\u001b[0;34m]\u001b[0m \u001b[0;34m=\u001b[0m \u001b[0;36m1\u001b[0m\u001b[0;34m\u001b[0m\u001b[0;34m\u001b[0m\u001b[0m\n\u001b[1;32m   1755\u001b[0m \u001b[0;34m\u001b[0m\u001b[0m\n",
            "\u001b[0;31mValueError\u001b[0m: could not convert string to float: 'Iris-setosa'"
          ]
        }
      ]
    },
    {
      "cell_type": "markdown",
      "metadata": {
        "id": "1ePNNkIzU4Y3"
      },
      "source": [
        "**Para responder**: ¿Cuáles variables están correlacionadas entre sí?¿Por qué los elementos de la diagonal son exactamente uno (1.0)?\n",
        "\n",
        "Dentro de dos encuentros veremos una forma más eficiente de visualizar esta información, ¡pero ya puedes aplicarla!"
      ]
    }
  ]
}