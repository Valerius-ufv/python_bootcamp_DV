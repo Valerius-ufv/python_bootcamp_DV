{
  "nbformat": 4,
  "nbformat_minor": 0,
  "metadata": {
    "kernelspec": {
      "display_name": "Python 3",
      "language": "python",
      "name": "python3"
    },
    "language_info": {
      "codemirror_mode": {
        "name": "ipython",
        "version": 3
      },
      "file_extension": ".py",
      "mimetype": "text/x-python",
      "name": "python",
      "nbconvert_exporter": "python",
      "pygments_lexer": "ipython3",
      "version": "3.7.3"
    },
    "colab": {
      "provenance": [],
      "include_colab_link": true
    }
  },
  "cells": [
    {
      "cell_type": "markdown",
      "metadata": {
        "id": "view-in-github",
        "colab_type": "text"
      },
      "source": [
        "<a href=\"https://colab.research.google.com/github/Valerius-ufv/python_bootcamp_DV/blob/main/DS_Notebook_05_Probabilidad.ipynb\" target=\"_parent\"><img src=\"https://colab.research.google.com/assets/colab-badge.svg\" alt=\"Open In Colab\"/></a>"
      ]
    },
    {
      "cell_type": "markdown",
      "metadata": {
        "id": "GEFRqVgwU4TH"
      },
      "source": [
        "# Probabilidad y Estadística\n",
        "\n",
        "El objetivo del siguiente notebook es afianzar algunos conceptos de Probabilidad y, de paso, empezar a ver cómo se hacen gráficos con Matplotlib, una nueva librería que veremos más en detalle en los próximos encuentros. Por ahora, solamente tienen que instalarla y correr las celdas. ¡No te preocupes si no entiendes lo que hacen esas celdas! Lo importante es que prestes atención a sus resultados.\n",
        "\n",
        "## 1. Distribuciones de probabilidad\n",
        "\n",
        "El concepto de distribución de probabilidad es un concepto central en probabilidad y estadística y, por lo tanto, hay mucho para decir. Nos limitamos acá a los puntos más importantes.\n",
        "\n",
        "\n",
        "### 1.1 Distrubución Uniforme Discreta\n",
        "\n",
        "Comencemos por un ejemplo: un dado de seis caras. La probabilidad de que al tirar el dado *salga* una cara es $1/6$. Si graficamos la probabilidad para cada resultado posible de tirar un dado, obtendríamos un gráfico como el siguiente:"
      ]
    },
    {
      "cell_type": "code",
      "metadata": {
        "id": "J-fHqWnzU4TR"
      },
      "source": [
        "import numpy as np\n",
        "import matplotlib.pyplot as plt"
      ],
      "execution_count": 2,
      "outputs": []
    },
    {
      "cell_type": "code",
      "metadata": {
        "id": "VSbq4R-aU4Tt",
        "colab": {
          "base_uri": "https://localhost:8080/",
          "height": 453
        },
        "outputId": "5b061e45-71b3-4c2b-f9cb-90dd96c9541f"
      },
      "source": [
        "valores = np.arange(1,7)\n",
        "probas = np.zeros(6) + 1/6\n",
        "plt.bar(valores, probas)\n",
        "plt.title('Distribución de probabilidad uniforme: lanzamiento de un dado')\n",
        "# plt.savefig('distribucion_dado.png', dpi = 400)\n",
        "plt.show()"
      ],
      "execution_count": 3,
      "outputs": [
        {
          "output_type": "display_data",
          "data": {
            "text/plain": [
              "<Figure size 640x480 with 1 Axes>"
            ],
            "image/png": "[encoded data removed]"
          },
          "metadata": {}
        }
      ]
    },
    {
      "cell_type": "markdown",
      "metadata": {
        "id": "Hl-vXlaCU4T_"
      },
      "source": [
        "En este caso, decimos que la distribución de probabilidad es *uniforme discreta*, ya que le asigna la misma probabilidad a los seis valores que pueden salir al tirar el dado. Si el dado estuviera cargado, ya no sería uniforme.\n",
        "\n",
        "**Algunos detalles**:\n",
        "1. El resultado de tirar un dado es un ejemplo de una *variable aleatoria*.\n",
        "2. En el caso del dado, la variable aleatoria puede tomar valores *discretos* y *acotados* (limitados): 1, 2, 3, 4, 5 y 6\n",
        "3. Existen variables aleatorias donde los posibles valores que puede tomar son continuos y no acotados. Veremos la distribución más famosa de ellas a continuación."
      ]
    },
    {
      "cell_type": "markdown",
      "metadata": {
        "id": "mIXL9A1yU4UE"
      },
      "source": [
        "### 1.2 Distribución Normal o Gaussiana\n",
        "\n",
        "La distribución normal o gaussiana debe ser la distribución más famosa dentro de las distribuciones. Es una distribución de variable continua y aparece en una infinidad de ámbitos de la ciencia. Muchas variables asociadas a fenómenos naturales siguen una distribución gaussiana; un ejemplo típico es la estatura de las personas. La forma que tiene esta distribución está dada por la siguiente fórmula:\n",
        "\n",
        "$$f(x|\\mu, \\sigma^2)=\\frac{1}{\\sqrt{2 \\pi \\sigma^2}}e^{\\frac{-(x - \\mu)^2}{2\\sigma^2}}$$\n",
        "\n",
        "¡No te asustes si no la entiendes! Durante el encuentro, veremos más en detalle algunos aspectos de esta distribución. Pero es importante resaltar que tiene sólo dos parámetros: su valor medio $\\mu$ y su desviacíon estándar $\\sigma$. Estos valores son *teóricos*, es decir, son propios de la distribución de probabilidad.\n",
        "\n",
        "Recomendamos entrar en la página de Wikipedia de la [Distribución Normal](https://es.wikipedia.org/wiki/Distribuci%C3%B3n_normal) y prestar atención al primer gráfico - dónde podrán ver la forma teórica de la distribución - y a la sección \"Propiedades\".\n",
        "\n",
        "\n",
        "**Distribución Normal en NumPy**\n",
        "\n",
        "Como mencionamos en el encuentro anterior, NumPy nos provee de herramientas para generar valores aleatorios de distribuciones. A continuación generamos, usando `np.random.normal()`, muestras de dos distribuciones normales, con el mismo valor medio pero distinta desviación estándar. **Consultar** la ayuda de la función para entender bien qué hace."
      ]
    },
    {
      "cell_type": "code",
      "metadata": {
        "scrolled": true,
        "id": "mnQ6ZwhAU4UJ",
        "colab": {
          "base_uri": "https://localhost:8080/"
        },
        "outputId": "709ee8e0-87f0-4dac-cc35-ee81810c5c88"
      },
      "source": [
        "mu = 2.0\n",
        "sigma_1 = 5.0\n",
        "sigma_2 = 2.0\n",
        "muestras_1 = np.random.normal(loc = mu, scale = sigma_1, size = 400)\n",
        "muestras_2 = np.random.normal(loc = mu, scale = sigma_2, size = 400)\n",
        "print(muestras_1, muestras_2)"
      ],
      "execution_count": 4,
      "outputs": [
        {
          "output_type": "stream",
          "name": "stdout",
          "text": [
            "[-8.29631759e+00 -3.51239393e+00  1.67648704e+00  5.87471709e+00\n",
            " -3.49933097e+00  1.68017608e+00 -1.95442491e+00  8.53833158e+00\n",
            "  1.30003514e+01 -1.61448369e+00  3.88582188e+00  2.50443316e+00\n",
            "  3.25081870e+00 -6.21878939e+00  5.33422422e+00 -4.12483616e+00\n",
            " -4.99605753e-01  1.73481256e+00 -3.92481306e-01  6.46270138e+00\n",
            "  3.38706414e+00  9.64948476e+00  1.18423950e+01  7.42599207e+00\n",
            "  5.31544110e+00  4.09223222e-01 -1.82273399e+00  8.36129460e+00\n",
            "  4.63462552e+00  1.94467877e+00  2.87939297e+00  5.83521799e+00\n",
            "  4.56146163e+00  1.28473626e+01  2.41303498e+00  4.25941618e+00\n",
            "  7.55466272e+00  2.51841906e+00  5.35191107e+00  1.18285069e+00\n",
            "  4.68058293e+00 -4.76518837e+00  4.57407241e+00  7.03875036e+00\n",
            " -3.08623149e-02  4.78349540e+00 -5.58655707e-01  5.05718028e+00\n",
            "  9.26772123e+00  3.21994231e-01 -5.40339284e-02 -7.17608868e-01\n",
            "  9.43974423e+00 -2.53525059e+00 -1.19869645e+00  7.27160468e+00\n",
            " -3.02323929e-01 -1.02399686e+01  1.36768080e+01  8.29293352e-01\n",
            " -3.25930254e+00  3.88095873e+00  2.74824551e+00 -2.09534050e+00\n",
            "  5.69107272e+00  7.28294029e+00 -5.47720300e-02 -4.76139888e-02\n",
            " -4.80369248e-01  1.03520852e+01  2.48647463e+00 -2.03778865e+00\n",
            "  4.90357878e+00  6.32803697e+00  8.73540481e-01  3.10125169e+00\n",
            " -1.31595329e+00 -7.24990443e-01  6.04229700e-02  5.82434833e-01\n",
            "  2.57344504e+00  5.17184673e+00 -6.74933656e-01  6.47706430e+00\n",
            "  4.98861997e+00  3.04047803e+00  2.72851431e+00  9.67171448e+00\n",
            "  1.54768335e+01 -2.94194420e+00  4.81239395e+00  5.83117670e+00\n",
            "  6.41917973e+00  2.90462614e+00  1.07484085e+01 -5.43499052e+00\n",
            " -5.29368773e+00  4.73503791e+00 -1.24017340e+00  9.21633393e+00\n",
            " -2.96452845e+00 -2.05866247e-01 -6.26734976e-02  2.56174363e+00\n",
            "  1.04441468e+01  3.49235422e+00 -4.58720581e-01  3.74861909e+00\n",
            "  4.75404874e+00 -7.04815172e-01  1.97590084e+00  2.69488472e+00\n",
            "  1.94368687e+00  2.97816916e+00 -2.38125504e-01 -1.12194282e+00\n",
            " -2.73400816e+00 -6.58752987e+00  4.57684445e+00  1.73756627e+00\n",
            " -6.37848748e-01  1.27940006e+00  3.24200375e+00  5.92809799e+00\n",
            "  7.48216385e+00 -6.14098464e+00  3.35106715e+00 -8.30953228e-01\n",
            "  7.28295043e+00  8.76748425e-01 -3.19269423e+00 -3.21734874e+00\n",
            "  5.43643263e+00 -5.02623387e+00  9.97120882e+00 -5.57240192e+00\n",
            " -6.47711810e-01 -1.00409257e+01  6.40808909e+00  4.21016017e+00\n",
            "  6.29707704e+00  2.65189613e+00  2.82554256e-01  2.14091839e+00\n",
            "  5.58052565e+00  9.69086943e-01 -7.18210929e-01  8.70515291e+00\n",
            " -2.11308865e+00 -1.49762815e+00  5.31362888e+00  9.82536420e+00\n",
            "  8.37176714e-01  9.17986151e+00  5.13394966e+00  1.43964170e+01\n",
            "  1.32157769e+00 -7.59344821e+00 -9.18906569e+00  4.69023850e+00\n",
            "  7.61962494e-02  5.91408022e-01 -2.19429355e+00  1.04246278e+01\n",
            "  9.59774694e+00 -1.58211128e+00 -9.90535494e+00 -6.83915070e+00\n",
            " -9.63577832e-01 -5.92513944e+00  7.32544800e+00 -4.00253669e+00\n",
            " -1.58163500e+00  8.77990522e+00 -3.17479147e+00  1.09794155e+01\n",
            "  2.23954883e-02  1.00918305e+01  1.02703451e+01  3.84123220e+00\n",
            " -1.53964054e+00  4.33327443e+00 -3.84422001e-01 -2.60104894e+00\n",
            "  4.05969288e+00 -4.45346228e+00  5.86535724e+00  3.40988359e+00\n",
            "  3.55486653e+00 -6.40206960e+00 -4.78206856e+00  1.02678983e+01\n",
            "  4.14799917e+00  1.21323361e+00 -2.85440849e+00 -3.91672425e-01\n",
            " -8.93916642e-01  1.89202148e+00  1.83999625e-01  8.63505392e+00\n",
            "  5.51591068e+00  7.19497592e+00 -2.11935263e+00  4.47732023e+00\n",
            "  9.59378034e+00  5.30889223e+00  5.80692457e+00  3.16758019e+00\n",
            " -3.06916988e+00  6.02576144e+00  7.24841703e+00  5.64428531e-01\n",
            "  1.39839341e+00  7.16293808e+00  1.35008028e+01 -1.18864817e+00\n",
            " -1.26327612e+00  6.90655351e+00 -2.51883081e-02 -1.38599911e+00\n",
            "  7.93233638e+00  1.49531465e+00  9.72618041e+00  7.83940772e+00\n",
            "  6.34430179e+00 -4.49091676e+00  6.69225577e-01  5.83383350e+00\n",
            "  3.91357857e+00  9.02069668e+00  3.65967344e+00  1.10287251e+00\n",
            " -9.75156937e+00  6.25168086e+00  6.55082729e+00  9.14133438e-01\n",
            "  3.05091977e+00 -2.81764118e+00  3.74484500e+00 -1.95690615e+00\n",
            "  7.45778351e+00  1.04134771e+00  6.46013427e+00 -1.32902385e+00\n",
            "  8.90058954e+00  2.79774145e+00  8.12552728e+00  1.30487727e+00\n",
            "  1.25372250e+01  3.20256112e+00  4.19634291e+00  9.55029746e+00\n",
            " -1.77286864e+00  1.19330529e+01  4.99629883e+00 -7.79142884e+00\n",
            " -2.72194209e+00  2.96925446e+00  2.23884875e+00  6.19715846e+00\n",
            "  1.83634539e+00  1.59748786e+00  3.41742165e+00 -3.36667616e-01\n",
            " -4.07829499e+00  8.57876858e+00  1.56788762e-02 -7.79214576e-01\n",
            " -2.80522940e+00  3.95907105e+00 -4.95893315e+00 -1.62167718e-02\n",
            "  8.18924020e+00  9.00259459e+00  5.27720119e+00  6.41540231e-01\n",
            " -1.24408261e+00  3.48089246e+00 -1.30968849e-01  5.97595881e+00\n",
            "  3.82200328e+00  7.35045465e+00  6.89230529e+00 -2.14606804e+00\n",
            " -7.29612121e+00  6.25022834e+00  2.55453489e+00  5.06039996e+00\n",
            " -1.36609631e-01  7.97432324e+00  1.08805196e+00 -6.33412235e+00\n",
            "  1.16471663e+01  1.90835320e-01 -1.42033694e+00  4.37768025e+00\n",
            " -4.00119915e+00  2.00723132e-02  6.50667228e+00  4.70273208e+00\n",
            " -1.42577982e+00  1.02231576e+01  7.97165484e+00  4.61008577e+00\n",
            "  3.50830089e-01  3.35189528e+00  6.43041435e+00 -6.88314018e+00\n",
            " -7.01959436e+00 -1.19786854e+00  2.86476523e+00  5.70740883e+00\n",
            "  7.42638737e+00  2.73354479e-01  4.57431182e+00  7.60190192e+00\n",
            "  5.52692951e+00  3.43913484e+00  5.08586256e+00  9.66263324e+00\n",
            "  5.84703944e+00  6.03321698e+00  8.60649473e-01  2.94808611e+00\n",
            "  2.40677340e+00  1.27562789e+01 -4.29832834e-01 -1.87066193e+00\n",
            " -8.11071118e-01 -7.66561823e+00 -3.23843717e+00  1.86262503e+00\n",
            " -9.03529752e+00  5.64024153e+00 -2.03180420e+00 -4.05649727e-01\n",
            " -3.66459170e+00  8.11728310e+00  1.87429835e+00  2.21587004e+00\n",
            " -1.27784633e+01  1.07813750e+01 -9.62829060e-01  1.54829100e+00\n",
            " -2.82506449e+00  1.69779676e+00 -3.49527326e+00  1.09283799e+00\n",
            " -4.32141442e-01 -3.35494124e+00  5.08316900e+00  6.41715005e+00\n",
            "  1.84152545e+00 -7.16748230e+00  7.77085067e+00 -3.61154880e-01\n",
            "  1.01525815e+01  7.75346702e+00  9.34575436e-01  4.88327966e-01\n",
            "  1.10742692e+01 -3.48597304e+00  4.07901983e+00  9.86937107e-01\n",
            "  4.46136202e+00  7.81127814e+00  3.35817808e+00 -5.01508057e+00\n",
            " -3.57502670e+00  5.67706387e+00  3.24951417e+00  4.52564739e+00\n",
            " -3.95938854e+00  5.71040464e+00  6.67758420e-01 -2.47601542e+00\n",
            " -4.08876970e+00 -1.10237113e+00  9.30796682e+00  1.04851263e+01\n",
            "  7.94338340e+00  2.43456395e+00 -1.15233458e+00  4.60805546e+00\n",
            " -5.90038183e-01  9.62193539e-01  7.03400489e+00 -3.92278367e+00\n",
            "  5.64144601e+00 -2.23370995e-03 -1.61738577e-01  9.95791415e-01\n",
            "  3.63988794e+00  3.81916984e+00  2.59426032e+00 -3.41936300e+00\n",
            " -3.14415782e+00  4.56386367e+00  6.28903610e+00  5.00969582e+00] [ 1.07789804e+00  5.21860193e+00 -1.15779638e+00  7.04171314e-01\n",
            "  8.79525192e-01  2.68803215e+00  2.36211553e+00  2.04607126e+00\n",
            "  9.54208157e-01  5.14966858e+00  5.17493672e-01  1.52505852e+00\n",
            "  3.79246741e+00  2.57818771e-01  7.02596791e-01  1.25633125e+00\n",
            "  6.28811483e-01  4.14124889e+00  2.36252667e+00 -2.36341375e+00\n",
            "  2.23365745e+00  2.53198767e+00  2.31388456e+00  2.57806995e+00\n",
            "  3.13593719e+00  3.57520499e+00  3.43829291e+00  4.35224901e+00\n",
            "  3.76373099e-01  5.94706328e+00  3.99884925e+00  1.13674528e+00\n",
            "  2.01178215e+00  6.05791160e-01  1.78605826e+00  2.88915088e+00\n",
            " -9.89818675e-01 -2.01008624e+00  4.01030730e+00  4.61204483e+00\n",
            "  8.02684268e-01 -1.12866108e-01  1.11938231e+00 -2.06898782e+00\n",
            "  4.30154407e+00  2.99699606e-01  3.67231697e-01  1.22527270e+00\n",
            "  1.85849426e+00  2.57551363e+00  1.36164644e+00  3.59750063e+00\n",
            "  1.71429739e+00  3.81245635e-01  2.40219895e+00  1.36674747e+00\n",
            "  2.77087664e+00  3.55820786e+00  2.87062486e+00  1.55986609e+00\n",
            "  4.01223575e+00  1.95441381e+00  4.30344797e+00  1.95634415e+00\n",
            " -4.64930426e-02 -2.30245637e+00  6.53115725e-01  3.51088533e+00\n",
            " -1.89519539e+00 -3.79824269e-01  2.03814524e+00  3.39312269e+00\n",
            "  3.88603017e+00  1.27574736e+00  1.94213053e+00  1.37070953e+00\n",
            "  8.89235456e-01  2.80476536e+00  1.17074366e+00  1.52190851e+00\n",
            "  1.13475070e+00  1.17008679e+00  1.86160918e+00  1.77567460e+00\n",
            " -1.18476895e+00  2.66715701e+00  2.09620437e+00  3.31719215e+00\n",
            "  2.82838082e+00  1.30727302e+00  3.47165497e+00  7.97219949e-01\n",
            "  4.03931396e+00  4.93742589e+00  5.57068633e+00  1.15826055e+00\n",
            "  2.89152690e+00  2.26234521e+00  2.42014400e+00  1.62152409e+00\n",
            "  3.02229183e+00  3.54680109e+00  4.61357009e+00  1.64527541e+00\n",
            "  3.78607999e+00 -1.45196518e-01  1.98140053e+00  4.22329546e+00\n",
            "  3.37810719e+00  2.41038368e-01  4.71795137e+00  4.67517515e+00\n",
            "  3.00105103e+00 -8.74823832e-01  1.88895441e+00  4.60380815e-01\n",
            " -5.57084543e-01 -1.05646958e+00  4.88499410e+00  2.32401302e+00\n",
            " -1.24763590e+00  7.69383287e+00  4.82456782e+00  4.01477597e+00\n",
            "  4.32329524e+00  2.72371156e+00  1.55154550e+00 -1.52066684e+00\n",
            "  3.92647800e-01 -3.37615702e-01  3.05829693e+00  2.21133443e+00\n",
            " -7.12357731e-03  3.78013183e+00  1.77420671e+00  6.93006917e-01\n",
            "  3.27582789e+00  5.29835172e+00  1.63293329e+00  2.17642362e+00\n",
            "  2.65621402e+00  2.88859638e+00  3.25189866e+00  3.57308518e-01\n",
            "  2.60030463e+00 -2.11156278e+00  2.13782849e+00  1.74635139e+00\n",
            "  4.38870133e+00  5.76741610e-01  4.18709959e+00  2.74482134e+00\n",
            " -1.38511861e+00  1.67068659e-01  1.61943120e+00  2.14483010e+00\n",
            " -1.00407359e+00 -9.82720903e-01 -2.88318836e+00  2.29823138e+00\n",
            "  1.48373163e+00  4.80773280e+00  3.13300014e+00  3.30690004e+00\n",
            "  4.70640353e+00 -7.27330190e-02  2.82115928e+00  2.12429191e+00\n",
            "  2.67068577e+00 -6.06871220e-02  3.06455745e+00  2.99311530e+00\n",
            "  1.28236057e+00  2.27988755e+00  4.57232810e+00 -2.34860515e+00\n",
            "  2.27273286e+00 -2.75894793e+00  2.17615530e+00  4.16642484e+00\n",
            "  2.89108743e+00  2.97733635e+00  2.80844099e+00  2.39564559e+00\n",
            "  3.95463797e+00  2.08714258e+00  2.72818927e+00  7.52705383e-01\n",
            "  2.79463516e+00  4.98429862e+00  1.02966771e+00  1.74557271e+00\n",
            "  5.25596263e+00  2.54130426e+00  4.17935978e+00  3.22122582e+00\n",
            "  1.16898232e+00 -1.77229978e-01  4.12679600e+00  3.14126384e+00\n",
            "  3.20288888e-02  1.79946860e+00 -6.36421568e-01  1.39320565e-01\n",
            "  5.77681281e-01 -2.20942439e+00 -5.04461420e-01  2.03362943e+00\n",
            "  2.15472373e+00 -1.09183321e+00  4.39913465e-01  1.65561266e+00\n",
            "  4.71681744e+00  6.27417396e+00  2.01205696e+00  1.18024553e+00\n",
            "  3.47552568e+00  6.81882309e-01 -5.22629053e-02  4.99868755e-01\n",
            "  3.05413880e+00  1.06964549e+00  3.67207042e+00  2.71627208e+00\n",
            "  6.26277927e+00  6.54076310e+00  3.64304756e+00  1.72935972e+00\n",
            "  1.35692318e+00  2.99011954e+00  2.27393818e-01  1.95651279e+00\n",
            "  1.58467674e+00 -1.26842349e+00  1.69436884e+00  3.25282994e+00\n",
            "  2.70194303e+00  1.59014830e+00  2.26508500e+00  2.90989002e+00\n",
            " -7.54079697e-01  1.34968112e+00  2.83983952e+00  2.38568337e+00\n",
            " -4.95736013e+00  2.29398242e+00  1.80988151e+00 -7.55606642e-02\n",
            "  1.88405234e+00 -3.50721140e-01  2.24458850e+00  5.61719863e+00\n",
            "  6.95992005e-01  2.28065882e+00  1.70872358e+00 -4.48439335e-01\n",
            "  5.43414580e+00  2.77604032e+00  7.57557853e-01 -1.86004603e-01\n",
            "  2.29754256e+00  1.59592930e+00 -2.93558134e-01  2.85483164e-01\n",
            "  2.61307363e-01  6.08023578e-01  7.77190266e+00  3.06833715e+00\n",
            "  3.42640126e+00  1.33818001e+00  4.05146328e+00  1.19166897e+00\n",
            "  1.81259665e+00  2.97252419e+00  2.37184900e+00  2.37928625e+00\n",
            "  8.42697995e-01  3.71371487e+00  1.75967478e+00  3.16461066e+00\n",
            "  1.05056232e+00  6.36444779e+00  2.87341632e+00  5.77668469e-02\n",
            "  4.33260723e+00  5.81965093e+00  6.44898950e-01  2.14652802e+00\n",
            "  2.33531041e+00  1.97461199e+00  1.49365565e+00  2.06289624e+00\n",
            "  2.99563608e+00  3.03230207e+00  3.74942869e+00  1.08873270e+00\n",
            "  3.03861105e+00 -6.89783731e-01  1.66398526e+00  3.68635037e-01\n",
            "  2.42092656e+00  1.17091719e+00  1.95939508e+00  1.84500600e+00\n",
            "  7.02343995e-01  9.82929911e-01  1.52588609e+00  6.33906106e+00\n",
            "  1.39718839e+00  2.78009130e+00  1.51767763e+00  4.56362338e+00\n",
            "  1.08335941e+00  1.08347712e+00  2.05494670e+00 -1.12964880e+00\n",
            "  1.53597929e+00  3.88569236e+00 -2.51808698e-01  4.86252018e+00\n",
            "  1.25030524e+00  3.05879281e+00  2.10188623e+00  3.83665590e+00\n",
            "  3.08560266e+00  1.07312672e+00  7.43875698e-01  4.24955581e+00\n",
            "  1.09215053e+00  3.47832776e+00  3.52891116e+00  3.84144815e+00\n",
            "  3.00527015e+00  1.02262056e+00  2.12370786e+00  2.98011721e+00\n",
            "  1.71809372e+00  4.91664286e+00  2.43638584e+00 -8.95601576e-01\n",
            "  2.74496547e+00 -1.54467595e+00  4.67203093e+00  1.20200594e+00\n",
            "  7.29771353e-01  3.73190242e+00  2.44841645e+00  2.33311566e+00\n",
            "  2.84363059e+00  3.47544656e+00  7.59980372e+00  2.07728703e+00\n",
            "  8.43772707e-02  1.91865848e+00  2.64981416e+00  1.20454862e+00\n",
            "  4.37208005e+00 -1.52603482e-02  2.61143476e+00 -1.62050851e+00\n",
            "  1.38022346e+00  3.82729120e+00  2.28875647e-01  2.62864633e+00\n",
            "  6.46551462e-01  5.09780495e+00  7.05535280e+00  3.90274218e+00\n",
            "  1.83158721e+00  3.40500086e-01  4.45992723e+00  4.21884101e+00\n",
            "  3.31283348e+00  2.04906811e+00  3.07174877e+00  9.79931958e-01\n",
            "  1.82457941e+00  2.77544907e+00  5.42747220e+00 -1.05636110e+00\n",
            "  2.41154386e+00  1.61917478e+00 -1.08802871e-01  2.34592337e+00\n",
            "  2.65714854e+00 -1.12013998e+00  6.91289516e-01 -1.95271086e+00\n",
            "  1.16243967e-02  2.22858069e+00  3.91433480e+00  1.89317084e+00\n",
            "  2.19090637e+00  9.66908128e-01  5.03634890e+00  3.30305483e+00\n",
            "  4.22038646e+00 -2.23819230e+00  7.11390603e-01 -5.51410045e-01]\n"
          ]
        }
      ]
    },
    {
      "cell_type": "markdown",
      "metadata": {
        "id": "OHFxZhG0U4Ub"
      },
      "source": [
        "Notar que son dos \"tiras\" de números, bastante largas y que a simple vista no nos dicen mucho. Mejor, podemos graficar su histograma. Veremos bien qué es un histograma en la próxima clase. Por ahora, basta saber que es una forma de visualizar cómo está distribuida una tira de números. Lo que hace es tomar un número determinado de intervalos (`bins = 20`) y contar cuántas muestras caen en cada intervalo."
      ]
    },
    {
      "cell_type": "code",
      "metadata": {
        "id": "4nu_9GbwU4Uf",
        "colab": {
          "base_uri": "https://localhost:8080/",
          "height": 430
        },
        "outputId": "28585322-cdea-475f-88f2-23c65a745c06"
      },
      "source": [
        "plt.hist(muestras_1, bins = 20, alpha = 0.5, label = 'Histograma Muestra 1')\n",
        "plt.hist(muestras_2, bins = 20, alpha = 0.5, label = 'Histograma Muestra 2')\n",
        "plt.legend()\n",
        "plt.grid(alpha = 0.5)\n",
        "plt.show()"
      ],
      "execution_count": 8,
      "outputs": [
        {
          "output_type": "display_data",
          "data": {
            "text/plain": [
              "<Figure size 640x480 with 1 Axes>"
            ],
            "image/png": "[encoded data removed]"
          },
          "metadata": {}
        }
      ]
    },
    {
      "cell_type": "code",
      "source": [],
      "metadata": {
        "id": "ywBXIjYkWbB2"
      },
      "execution_count": null,
      "outputs": []
    },
    {
      "cell_type": "markdown",
      "metadata": {
        "id": "_Ez12LcZU4Uu"
      },
      "source": [
        "**Ejercicio:** Volver a \"generar\" las muestas y hacer sus histogramas. ¿Cambió?¿Por qué? Googlear que es una *semilla* (`seed`) en NumPy e implementar. También, cambiar la cantidad de muestras, modificando el argumento `size`.\n",
        "\n",
        "### 1.3 Relación entre Probabilidad y Estadística\n",
        "\n",
        "**Promedio y desviación estándar en una distribución Normal**\n",
        "\n",
        "En una distribución normal, el promedio de las muestras obtenidas *tiende* al valor medio $\\mu$ de la distribución, y la desviación estándar *tiende* a la desviacíon estándar $\\sigma$ de la distribución. Notar, entonces, que existen valores calculados (promedio, desviación estándar) y valores teóricos ($\\mu$ y $\\sigma$). Confundirlos entre sí es un error común.\n",
        "\n",
        "Veamos un ejemplo. Nuevamente, obtenemos muestras de una distribución normal:"
      ]
    },
    {
      "cell_type": "code",
      "metadata": {
        "id": "55UHxgsWU4Uy"
      },
      "source": [
        "mu = 8.5\n",
        "sigma = 3.0\n",
        "muestras = np.random.normal(loc = mu, scale = sigma, size = 10000)"
      ],
      "execution_count": 11,
      "outputs": []
    },
    {
      "cell_type": "markdown",
      "metadata": {
        "id": "IrLpnkqqU4U9"
      },
      "source": [
        "Y calculamos su promedio y desviación estándar, y comparamos con $\\mu$ y $\\sigma$."
      ]
    },
    {
      "cell_type": "code",
      "metadata": {
        "id": "k1JKKz5eU4VC",
        "colab": {
          "base_uri": "https://localhost:8080/"
        },
        "outputId": "fa8ba1e9-ebe8-499a-c896-15dfbb100b77"
      },
      "source": [
        "print('Valor medio teorico:', mu, '. Valor medio calculado:', muestras.mean())\n",
        "print('Desviacion estandar teorica:', sigma, '. Desviacion estandar calculada:', muestras.std())"
      ],
      "execution_count": 12,
      "outputs": [
        {
          "output_type": "stream",
          "name": "stdout",
          "text": [
            "Valor medio teorico: 8.5 . Valor medio calculado: 8.47049343381061\n",
            "Desviacion estandar teorica: 3.0 . Desviacion estandar calculada: 3.0357187842485067\n"
          ]
        }
      ]
    },
    {
      "cell_type": "markdown",
      "metadata": {
        "id": "YqQs6D_YU4VQ"
      },
      "source": [
        "Comparemos el histograma de las muestras y la distribución teórica, que graficaremos haciendo uso de la librería `SciPy`:"
      ]
    },
    {
      "cell_type": "code",
      "metadata": {
        "id": "bf31AbLMU4VU",
        "colab": {
          "base_uri": "https://localhost:8080/",
          "height": 453
        },
        "outputId": "22b64179-0e59-4605-e7bc-b5024fd553c0"
      },
      "source": [
        "from scipy.stats import norm\n",
        "\n",
        "plt.hist(muestras, bins=20, density=True, alpha=0.6, color='g')\n",
        "\n",
        "xmin, xmax = plt.xlim()\n",
        "x = np.linspace(xmin, xmax, 100)\n",
        "p = norm.pdf(x, mu, sigma)\n",
        "plt.plot(x, p, 'k', linewidth=2, label = 'Distribución Teórica')\n",
        "\n",
        "title = \"Muestras obtenidas de una distribución normal con mu = %.2f,  sigma = %.2f\" % (mu, sigma)\n",
        "\n",
        "plt.title(title)\n",
        "plt.legend()\n",
        "plt.show()"
      ],
      "execution_count": 13,
      "outputs": [
        {
          "output_type": "display_data",
          "data": {
            "text/plain": [
              "<Figure size 640x480 with 1 Axes>"
            ],
            "image/png": "[encoded data removed]"
          },
          "metadata": {}
        }
      ]
    },
    {
      "cell_type": "markdown",
      "metadata": {
        "id": "RTOjCCEQU4Vi"
      },
      "source": [
        "**Nota:** si estás atento/a a la escala en el eje *y*, notarás que es distinta a la escala de los histogramas anteriores. Esto se debe a que, en un histograma, además de graficar la cantidad de muestras que entran en cada intervalo, podemos también graficar la **proporción** de muestras que entran en cada intervalo.\n",
        "\n",
        "**Para pensar y probar:**\n",
        "1. ¿Por qué no coinciden $\\mu$ y $\\sigma$ con los valores calculados?¿Qué podemos hacer para que se parezcan cada vez más?¿Y qué ocurre en ese caso con el histograma y la distribución teórica?\n",
        "2. Con respecto al ejercicio que acabamos de hacer, ¿cuáles son los *parámetros* asociados al mundo de las probabilidades y cuáles son los *valores estadísticos* asociados al mundo de la estadística?\n",
        "\n",
        "\n",
        "### Ejercitación\n",
        "\n",
        "Los siguientes ejercicios pueden parecer muy difíciles, pero te aseguramos que no lo son tanto. ¡Lo importante es que los intentes!\n",
        "\n",
        "**Ejercicio 1 - Challenge:** Muchos juegos de mesa requieren tirar dados y sumar sus resultados. Por ejemplo, el [Catán](https://es.wikipedia.org/wiki/Los_Colonos_de_Cat%C3%A1n). Es evidente que, mientras en un dado la probabilidad de que salga cada cara es la misma, en esta variable aleatoria todos los resultados no son igual de probables (¿Cuáles son los posibles resultados?). Entonces, para mejorar tu estrategia en estos juegos, es útil saber cuál es la probabilidad asociada a cada resultado. Para ello, debes calcular su distribución de probabilidad. Entonces,\n",
        "\n",
        "Obtener la distribución de la variable aleatoria *suma del resultado de tirar dos dados*. Para ello puedes intentar alguna o ambas de las siguientes opciones:\n",
        "1. **Obtener la distribución teórica:** para ello, basta contar los casos *a mano* con lápiz y papel. Por ejemplo:\n",
        "    1. Uno (1) es un resultado imposible\n",
        "    2. Dos (2) solamente puede ser obtenida con ambos dados en 1, 1 + 1\n",
        "    3. Tres (3) tiene dos opciones, 2 + 1 y 1 + 2\n",
        "    4. Cuatro (4) tiene tres opciones: 3 + 1, 2 + 2, 1 + 3\n",
        "    \n",
        "    y así para el resto de los posibles resultados. Completa la lista hasta el 12 y cuenta cuántas combinaciones existen para cada resultado. ¿Cuántos combinaciones debe haber en total, teniendo en cuenta que cada dado tiene seis caras? Al final, debes llevarlos a porcentaje. Por ejemplo, si en total son 100 posibles combinaciones, y el 12 tiene 10 posibles combinaciones, su probabilidad es 10/100 = 0.1\n",
        "    \n",
        "2. **Simular y obtener una distribución aproximada:** otra opción es simular esta situación. Viste en el notebook anterior cómo simular un dado. Ahora simula dos dados y obtiene la suma de sus resultados.\n",
        "\n",
        "¿Te animas a comparar ambos métodos?"
      ]
    },
    {
      "cell_type": "code",
      "metadata": {
        "id": "327V3n7oU4Vm"
      },
      "source": [
        "# COMPLETAR: UNA LINEA DE CODIGO\n",
        "# COMPLETAR: OTRA LINEA DE CODIGO\n",
        "\n",
        "suma = # COMPLETAR\n",
        "\n",
        "plt.hist(suma, bins = np.arange(1.5,13.5,1), density=True, rwidth = 0.8,)\n",
        "plt.show()"
      ],
      "execution_count": null,
      "outputs": []
    },
    {
      "cell_type": "markdown",
      "metadata": {
        "id": "EkNiPekCU4V0"
      },
      "source": [
        "**Ejercicio 2:** Obtiene, simulando, la distribución de la variable aleatoria *máximo valor obtenido al tirar dos dados.* Por ejemplo, si obtenemos 2 y 5, el resultado es 5. Nuevamente, si lo deseas, también puedes contar casos y obtener la distribución teórica."
      ]
    },
    {
      "cell_type": "code",
      "metadata": {
        "id": "tzyvWre3U4V4"
      },
      "source": [
        "# COMPLETAR: UNA LINEA DE CODIGO\n",
        "# COMPLETAR: OTRA LINEA DE CODIGO\n",
        "\n",
        "'''Combinamos las muestras obtenidas en un arreglo de dos filas, donde\n",
        "cada columna corresponde a una tirada'''\n",
        "muestras = np.array([COMPLETAR,COMPLETAR])\n",
        "print(muestras.shape)\n",
        "\n",
        "\n",
        "'''Obtenemos el máximo de cada tirada. Recordar obtener el máximo\n",
        "en el eje (axis) correspondiente'''\n",
        "maximos = np.max(COMPLETAR, axis = COMPLETAR)\n",
        "\n",
        "plt.hist(COMPLETAR, bins = np.arange(0.5,7.5,1), density=True, rwidth = 0.8)\n",
        "plt.show()"
      ],
      "execution_count": null,
      "outputs": []
    },
    {
      "cell_type": "markdown",
      "metadata": {
        "id": "Iu_y4bliU4WK"
      },
      "source": [
        "## 2. Correlación\n",
        "\n",
        "El objetivo de esta sección es que te familiarices con los conceptos de **Covarianza** y **Correlación**. Si bien las fórmulas parecen difíciles, esperemos que veas que nada es tan grave como parece. También que prestes atención a cómo a veces es útil simular datos para aprender o acercarse a algunas técnicas.\n",
        "\n",
        "Tenemos dos variables aleatorias $X$ e $Y$, de las cuales tenemos $n$ muestras de cada una, $x_1,x_2,..., x_n$ e $y_1,y_2,..., y_n$. Sus valores medios son $\\bar{x}$ e $\\bar{y}$, respectivamente. Definimos la Covarianza como\n",
        "\n",
        "$$Cov(X,Y) = \\sum_{i=1}^{n} \\frac{(x_i - \\bar{x})(y_i - \\bar{y})}{n}$$\n",
        "\n",
        "A veces verás que, en lugar de dividir por $n$, se divide por $n - 1$ ó $n - 2$, pero eso no es importante ahora. Según Wikipedia, \"la covarianza es un valor que indica el grado de variación conjunta de dos variables aleatorias respecto a sus medias. Es el dato básico para determinar si existe una dependencia entre ambas variables y además es el dato necesario para estimar otros parámetros básicos, como el coeficiente de correlación lineal o la recta de regresión.\".\n",
        "\n",
        "Si bien la fórmula puede parecer difícil, veamos qué nos dice de nuestros datos simulando algunos casos sencillos.\n",
        "\n",
        "Empezamos generandos muestras al azar de dos variables aleatorias no relacionadas entre sí."
      ]
    },
    {
      "cell_type": "code",
      "metadata": {
        "id": "q66jDC_IU4WO"
      },
      "source": [
        "import matplotlib.pyplot as plt\n",
        "import numpy as np"
      ],
      "execution_count": 14,
      "outputs": []
    },
    {
      "cell_type": "code",
      "metadata": {
        "id": "dWwL1LZ7U4Wa",
        "colab": {
          "base_uri": "https://localhost:8080/",
          "height": 435
        },
        "outputId": "3dd3ee61-029d-4839-8394-dae4c1363d82"
      },
      "source": [
        "n = 1000\n",
        "sigma_1 = 2\n",
        "sigma_2 = 20\n",
        "x = np.random.normal(size = n, scale = sigma_1)\n",
        "y = np.random.normal(size = n, scale = sigma_2)\n",
        "\n",
        "# Graficamos\n",
        "plt.scatter(x, y)\n",
        "plt.grid()\n",
        "plt.xlim([-60,60])\n",
        "plt.ylim([-60,60])\n",
        "plt.show()"
      ],
      "execution_count": 15,
      "outputs": [
        {
          "output_type": "display_data",
          "data": {
            "text/plain": [
              "<Figure size 640x480 with 1 Axes>"
            ],
            "image/png": "[encoded data removed]"
          },
          "metadata": {}
        }
      ]
    },
    {
      "cell_type": "markdown",
      "metadata": {
        "id": "w44BW3CCU4Wl"
      },
      "source": [
        "¿Hay alguna relación entre ellos? Por relación nos referimos a \"variación conjunta\". Y por \"variación conjunta\" podemos imaginarnos que si una de las variables aumenta, la otra también lo hace. Y si una variable disminuye su valor, la otra también lo hace. La covarianza intenta cuantificar esa relación."
      ]
    },
    {
      "cell_type": "code",
      "metadata": {
        "id": "3wX-H3y-U4Wo",
        "colab": {
          "base_uri": "https://localhost:8080/"
        },
        "outputId": "b3696368-3814-4937-d4fa-d1a02d0f34db"
      },
      "source": [
        "cov = np.sum((x - x.mean())*(y - y.mean()))/x.size\n",
        "print(cov)"
      ],
      "execution_count": 16,
      "outputs": [
        {
          "output_type": "stream",
          "name": "stdout",
          "text": [
            "-0.7323138442959585\n"
          ]
        }
      ]
    },
    {
      "cell_type": "markdown",
      "metadata": {
        "id": "zzbRb7kmU4W0"
      },
      "source": [
        "La covarianza, sin embargo, tiene un pequeño problema: depende de la escala de nuestros datos. Entonces, para deshacernos de la escala, se puede definir la Correlación, que no es otra cosa que la covarianza dividida la desviación estándar de cada variable aletaria.\n",
        "\n",
        "$$Corr(X,Y) = \\frac{Cov(X,Y)}{\\sigma_X \\sigma_Y}$$"
      ]
    },
    {
      "cell_type": "code",
      "metadata": {
        "id": "wW2-EG20U4W2",
        "colab": {
          "base_uri": "https://localhost:8080/"
        },
        "outputId": "694f13be-bb48-4fc5-9028-bcc4a59b8e78"
      },
      "source": [
        "corr = cov/(x.std()*y.std())\n",
        "print(corr)"
      ],
      "execution_count": 17,
      "outputs": [
        {
          "output_type": "stream",
          "name": "stdout",
          "text": [
            "-0.018829427444677454\n"
          ]
        }
      ]
    },
    {
      "cell_type": "markdown",
      "metadata": {
        "id": "UHClidVeU4XC"
      },
      "source": [
        "Y con eso nos deshacemos de la escala. Un valor cercano a cero nos indica que no existe una relación (¿lineal?) entre las variables.\n",
        "\n",
        "**Probar** con distintas escalas (modificando `sigma_1` y `sigma_2`) y verán que `cov` tomará valores en un rango muy amplio, mientras que `corr` se mantendrá cercana a cero.\n",
        "\n",
        "### 2.1 Relación lineal\n",
        "\n",
        "Veamos otro ejemplo: sabemos que existe una relación lineal entre $X$ e $Y$, es decir, podemos aproximar $Y =aX+b$, donde $a$ y $b$ son la pendiente y la ordenada al origen."
      ]
    },
    {
      "cell_type": "code",
      "metadata": {
        "id": "JV0TUTcCU4XE",
        "colab": {
          "base_uri": "https://localhost:8080/",
          "height": 430
        },
        "outputId": "b858ad94-4a12-4052-aa97-082812b81d19"
      },
      "source": [
        "n = 100\n",
        "x = np.linspace(-1,1,n) + 0.25*np.random.normal(size = n)\n",
        "y = 4.5*x + 0.25*np.random.normal(size = n)\n",
        "\n",
        "# Graficamos\n",
        "plt.scatter(x, y)\n",
        "plt.grid()\n",
        "plt.show()"
      ],
      "execution_count": 18,
      "outputs": [
        {
          "output_type": "display_data",
          "data": {
            "text/plain": [
              "<Figure size 640x480 with 1 Axes>"
            ],
            "image/png": "[encoded data removed]"
          },
          "metadata": {}
        }
      ]
    },
    {
      "cell_type": "markdown",
      "metadata": {
        "id": "SpN-9JFmU4XM"
      },
      "source": [
        "La covarianza nos da"
      ]
    },
    {
      "cell_type": "code",
      "metadata": {
        "id": "LEzzOeFtU4XR",
        "colab": {
          "base_uri": "https://localhost:8080/"
        },
        "outputId": "daf5e897-04c1-418e-8dc3-3aaa996a70aa"
      },
      "source": [
        "cov = np.sum((x - x.mean())*(y - y.mean()))/x.size\n",
        "print(cov)"
      ],
      "execution_count": 19,
      "outputs": [
        {
          "output_type": "stream",
          "name": "stdout",
          "text": [
            "1.681688800289104\n"
          ]
        }
      ]
    },
    {
      "cell_type": "code",
      "metadata": {
        "id": "ofbVUp7xU4Xa",
        "colab": {
          "base_uri": "https://localhost:8080/"
        },
        "outputId": "5fd017bd-5a76-4c90-fcf3-0a75ffc1afcb"
      },
      "source": [
        "corr = cov/(x.std()*y.std())\n",
        "corr"
      ],
      "execution_count": 20,
      "outputs": [
        {
          "output_type": "execute_result",
          "data": {
            "text/plain": [
              "0.9958595872144106"
            ]
          },
          "metadata": {},
          "execution_count": 20
        }
      ]
    },
    {
      "cell_type": "markdown",
      "metadata": {
        "id": "3O19qjolU4Xi"
      },
      "source": [
        "Ahora, en cambio, el valor es cercano a uno, indicando una relación lineal creciente entre ambas variables.\n",
        "\n",
        "**Probar** cambiando la pendiente de la función lineal (el número que multiplica a `x` en `y = ...`) y mirar qué pasa. ¿Qué pasa si la pendiente es negativa?"
      ]
    },
    {
      "cell_type": "markdown",
      "metadata": {
        "id": "vjgjstKaU4Xm"
      },
      "source": [
        "#### Conclusiones\n",
        "\n",
        "1. La covarianza es una medida de la variación conjunta de dos variables. Pero tiene un problema: depende de la escala.\n",
        "2. Para \"deshacernos\" de la escala, definimos la correlación, que es simplemente la covarianza dividida por el producto de la desviación estándar de cada variable. **Para pensar:** ¿por qué la desviación estándar está asociada a la escala de una variable?\n",
        "3. La correlación es un valor entre -1 y 1. La correlación toma un valor cercano a uno cuando hay una relación lineal creciente entre las variables, cero cuando no hay relación y -1 cuando hay una relación lineal decreciente.\n",
        "4. Esta correlación tiene un nombre particular: **Correlación de Pearson**."
      ]
    },
    {
      "cell_type": "markdown",
      "metadata": {
        "id": "piVs0Av1U4Xp"
      },
      "source": [
        "### 2.2 Covarianza y Correlación con NumPy\n",
        "\n",
        "**Esta sección es opcional**\n",
        "\n",
        "NumPy ya tiene incorporadas funciones que calculan la covarianza y la correlación entre dos variables. La única diferencia es que, en lugar de devolver un único valor, devuelve cuatro valores, que corresponden a la covarianza/correlación entre $X$ con $X$, $X$ con $Y$, $Y$ con $X$, e $Y$ con $Y$. ¿Por qué, en la correlación, algunos valores son exactamente uno (1.)?"
      ]
    },
    {
      "cell_type": "code",
      "metadata": {
        "id": "frlmIIkKU4Xr",
        "colab": {
          "base_uri": "https://localhost:8080/"
        },
        "outputId": "d76c7bf5-4fa5-4b89-891e-9a34476b2925"
      },
      "source": [
        "np.cov([x,y])"
      ],
      "execution_count": 21,
      "outputs": [
        {
          "output_type": "execute_result",
          "data": {
            "text/plain": [
              "array([[0.37525218, 1.69867556],\n",
              "       [1.69867556, 7.75356506]])"
            ]
          },
          "metadata": {},
          "execution_count": 21
        }
      ]
    },
    {
      "cell_type": "code",
      "metadata": {
        "id": "AWJOKo6sU4Xz",
        "colab": {
          "base_uri": "https://localhost:8080/"
        },
        "outputId": "e3cc519d-deb1-4a3b-83be-9aa7b76ce387"
      },
      "source": [
        "np.corrcoef([x,y])"
      ],
      "execution_count": 22,
      "outputs": [
        {
          "output_type": "execute_result",
          "data": {
            "text/plain": [
              "array([[1.        , 0.99585959],\n",
              "       [0.99585959, 1.        ]])"
            ]
          },
          "metadata": {},
          "execution_count": 22
        }
      ]
    },
    {
      "cell_type": "markdown",
      "metadata": {
        "id": "MyrooOHbU4X8"
      },
      "source": [
        "### 2.3 Relación No-Lineal entre variables\n",
        "\n",
        "**Esta sección es opcional, pero recomendamos leerla**\n",
        "\n",
        "¿Qué ocurre cuando la relación no es lineal entre las variables? Veámoslo con un ejemplo.\n"
      ]
    },
    {
      "cell_type": "code",
      "metadata": {
        "id": "iW2lL_d8U4X-",
        "colab": {
          "base_uri": "https://localhost:8080/",
          "height": 430
        },
        "outputId": "8f719750-992f-4028-8107-77e62f328ef0"
      },
      "source": [
        "n = 1000\n",
        "x = np.linspace(-5,5,n) + 0.25*np.random.normal(size = n)\n",
        "y = x**2 + 0.25*np.random.normal(size = n)\n",
        "\n",
        "# Graficamos\n",
        "plt.scatter(x, y)\n",
        "plt.grid()\n",
        "plt.show()"
      ],
      "execution_count": 23,
      "outputs": [
        {
          "output_type": "display_data",
          "data": {
            "text/plain": [
              "<Figure size 640x480 with 1 Axes>"
            ],
            "image/png": "[encoded data removed]"
          },
          "metadata": {}
        }
      ]
    },
    {
      "cell_type": "markdown",
      "metadata": {
        "id": "x0f8gozSU4YF"
      },
      "source": [
        "La covarianza nos da"
      ]
    },
    {
      "cell_type": "code",
      "metadata": {
        "id": "qyOWwrbQU4YH",
        "colab": {
          "base_uri": "https://localhost:8080/"
        },
        "outputId": "0bde21c6-9804-4fb3-aa77-0744d430e787"
      },
      "source": [
        "cov = np.sum((x - x.mean())*(y - y.mean()))/x.size\n",
        "print(cov)"
      ],
      "execution_count": 24,
      "outputs": [
        {
          "output_type": "stream",
          "name": "stdout",
          "text": [
            "-0.022309038670991866\n"
          ]
        }
      ]
    },
    {
      "cell_type": "code",
      "metadata": {
        "id": "_90NldnwU4YP",
        "colab": {
          "base_uri": "https://localhost:8080/"
        },
        "outputId": "5ceb6166-02f2-4e11-8c8a-5826e24d845f"
      },
      "source": [
        "corr = cov/(x.std()*y.std())\n",
        "corr"
      ],
      "execution_count": 25,
      "outputs": [
        {
          "output_type": "execute_result",
          "data": {
            "text/plain": [
              "-0.001006736071524324"
            ]
          },
          "metadata": {},
          "execution_count": 25
        }
      ]
    },
    {
      "cell_type": "markdown",
      "metadata": {
        "id": "9XiFp1CZU4YX"
      },
      "source": [
        "Notar que la correlación de un valor alrededor de cero, indicando que no hay una correlación entre ambas variables. Pero esto NO indica que no hay una *relación* entre esas variables, solamente nos dice que no es lineal. Por eso es muy importante graficar.\n",
        "\n",
        "**Probar** cambiando la relación matemática entre `x` e `y` y mirar qué pasa.\n",
        "\n",
        "Para tratar con relaciones no lineal entre variables, existen otros tipos de correlaciones. La que vimos se llama **Correlación de Pearson**, que es la más famosa. Pero también existen otras, Spearman y Kendall, que son muy útiles cuando existe una relación no lineal entre variables.\n",
        "\n",
        "### 3. Correlación en Pandas\n",
        "\n",
        "Probablemente ya estés un poco mareado/a con tantos términos, conceptos y líneas de código. Si no entendiste del todo lo anterior, no te preocupes. Vamos a ver cómo lo aplicamos en un conjunto de datos. ¡Verás que es muy sencillo!\n",
        "\n",
        "Para eso, volvemos a usar el Iris Dataset del encuentro anterior."
      ]
    },
    {
      "cell_type": "code",
      "metadata": {
        "id": "jwu9X-67U4Ya"
      },
      "source": [
        "import pandas as pd"
      ],
      "execution_count": 26,
      "outputs": []
    },
    {
      "cell_type": "code",
      "metadata": {
        "id": "QSWYv0_WU4Yk"
      },
      "source": [
        "data = pd.read_csv('iris.csv')\n",
        "# data.drop(columns = 'Id', inplace = True)\n",
        "data.head()"
      ],
      "execution_count": null,
      "outputs": []
    },
    {
      "cell_type": "markdown",
      "metadata": {
        "id": "_hpR90jUU4Yr"
      },
      "source": [
        "Para obtener las correlaciones entre las distintas variables, simplemente tenemos que hacer:"
      ]
    },
    {
      "cell_type": "code",
      "metadata": {
        "id": "j24K4utyU4Yw"
      },
      "source": [
        "data.corr()"
      ],
      "execution_count": null,
      "outputs": []
    },
    {
      "cell_type": "markdown",
      "metadata": {
        "id": "1ePNNkIzU4Y3"
      },
      "source": [
        "**Para responder**: ¿Cuáles variables están correlacionadas entre sí?¿Por qué los elementos de la diagonal son exactamente uno (1.0)?\n",
        "\n",
        "Dentro de dos encuentros veremos una forma más eficiente de visualizar esta información, ¡pero ya puedes aplicarla!"
      ]
    }
  ]
}