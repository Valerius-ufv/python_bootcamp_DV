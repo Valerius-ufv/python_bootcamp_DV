{
  "nbformat": 4,
  "nbformat_minor": 0,
  "metadata": {
    "kernelspec": {
      "display_name": "Python 3",
      "language": "python",
      "name": "python3"
    },
    "language_info": {
      "codemirror_mode": {
        "name": "ipython",
        "version": 3
      },
      "file_extension": ".py",
      "mimetype": "text/x-python",
      "name": "python",
      "nbconvert_exporter": "python",
      "pygments_lexer": "ipython3",
      "version": "3.7.6"
    },
    "colab": {
      "provenance": [],
      "include_colab_link": true
    }
  },
  "cells": [
    {
      "cell_type": "markdown",
      "metadata": {
        "id": "view-in-github",
        "colab_type": "text"
      },
      "source": [
        "<a href=\"https://colab.research.google.com/github/Valerius-ufv/python_bootcamp_DV/blob/main/DS_Notebook_04_Estad%C3%ADstica_y_Pandas_Repaso.ipynb\" target=\"_parent\"><img src=\"https://colab.research.google.com/assets/colab-badge.svg\" alt=\"Open In Colab\"/></a>"
      ]
    },
    {
      "cell_type": "markdown",
      "metadata": {
        "id": "U8zyY9Zz1Py3"
      },
      "source": [
        "# Estadística Descriptiva y Pandas\n",
        "\n",
        "El objetivo del siguiente notebook es, además de repasar conceptos de estadística, que sigas aprendiendo a operar con Numpy y que, además, incorpores Pandas a tu caja de herramientas.\n",
        "\n",
        "## 1. Estadística Descriptiva\n",
        "\n",
        "La Estadística Descriptiva nos sirve para comenzar a analizar y entender un conjunto de datos. En el caso de datos numéricos, lo hace obteniendo *valores estadísticos* que, de alguna forma, reemplazan a nuestros datos. Por ejemplo, es muy difícil leer y *entender* la edad de 1000 personas. Pero con un grupo reducido de valores estadísticos (mínimo, máximo, media y desviación estándar, etc.) podemos aproximarnos a ese conjunto de una manera mucho más comprensible. Veamos dos medidas muy importantes:\n",
        "\n",
        "**Promedio**\n",
        "\n",
        "Dados $n$ números $x_1,x_2,...,x_n$, el promedio o media es\n",
        "\n",
        "$$\\overline{x} = \\frac{1}{n}\\sum_{i=1}^{n} x_i = \\frac{x_1 + x_2 + ... + x_n}{n}$$\n",
        "\n",
        "**Desviación Estándar**\n",
        "\n",
        "La varianza y la desviación estándar nos dan una idea de cuán \"dispersos\" están los valores con respecto a su promedio.\n",
        "\n",
        "$$ Var = \\frac{\\sum_{i=1}^{n} (x_i -\\overline{x})^2}{n - 1}$$\n",
        "\n",
        "La desviación estándar es la raiz cuadrada de la varianza. En general se usa la letra griega $\\sigma$ para representarla o las siglas $SD$:\n",
        "\n",
        "$$ SD = \\sqrt{\\frac{\\sum_{i=1}^{n} (x_i -\\overline{x})^2}{n - 1}}$$\n",
        "\n",
        "$$ SD = \\sqrt{Var}$$\n",
        "\n",
        "\n",
        "**Comentarios**:\n",
        "1. Dado un conjunto de números, el promedio suele ser considerado el número más representativo de ese conjunto. Esto no siempre es así. Pensá o googleá por qué.\n",
        "2. Al conjunto de números $x_1,...,x_n$ los pueden encontrar por el nombre de *población* o *muestra* (¡Ojo que no estamos diciendo que *población* y *muestra* sean lo mismo!).\n",
        "\n",
        "### Challenge:\n",
        "\n",
        "Vamos a utilizar de excusa la estadística descriptiva para hacer un desafío de programación:\n",
        "\n",
        "Dadas la siguiente lista de números, escribir una rutina que calcule su promedio, su varianza y desviación estándar. **Pistas:**\n",
        "* Probablemente te sea muy útil usar lo que hiciste para ejercicios anteriores.\n",
        "* Para calcular la varianza y la desviación estándar, usa el resultado que obtuviste al calcular el promedio."
      ]
    },
    {
      "cell_type": "code",
      "metadata": {
        "id": "lqCdXnSP1PzC"
      },
      "source": [
        "import numpy as np\n",
        "x_s = [1,2,3,1,2,2,3,4,1,2,3,4,1,2,4]\n"
      ],
      "execution_count": 3,
      "outputs": []
    },
    {
      "cell_type": "code",
      "metadata": {
        "id": "PosCOxzC1Pzl",
        "colab": {
          "base_uri": "https://localhost:8080/"
        },
        "outputId": "d829c699-28ad-4832-b4d0-2a4758fb3d77"
      },
      "source": [
        "promedio = sum(x_s)/len(x_s)\n",
        "print(promedio)"
      ],
      "execution_count": 5,
      "outputs": [
        {
          "output_type": "stream",
          "name": "stdout",
          "text": [
            "2.3333333333333335\n"
          ]
        }
      ]
    },
    {
      "cell_type": "code",
      "source": [
        "varianza = sum(promedio**2 for promedio in x_s)/len(x_s) - promedio**2\n",
        "print(varianza)\n",
        "\n",
        "ds = np.sqrt(varianza)\n",
        "print(ds)"
      ],
      "metadata": {
        "colab": {
          "base_uri": "https://localhost:8080/"
        },
        "id": "2rLU-9Xf0tx3",
        "outputId": "63d8ad0f-4c97-49b0-b971-72ab5e758009"
      },
      "execution_count": 9,
      "outputs": [
        {
          "output_type": "stream",
          "name": "stdout",
          "text": [
            "1.1555555555555541\n",
            "1.0749676997731392\n"
          ]
        }
      ]
    },
    {
      "cell_type": "markdown",
      "metadata": {
        "id": "uMmPPSpQ1Pz9"
      },
      "source": [
        "¿Cómo te fue con el Challenge? Si no pudiste resolverlo, no te preocupes. ¡NumPy tiene funciones ya incorporadas que calcula algunos estadísticos sobre un arreglo!\n",
        "\n",
        "### 1.2 Estadística con NumPy\n",
        "\n",
        "Veamos cómo se calculan, en NumPy, el promedio, varianza y desviación estándar sobre un arreglo."
      ]
    },
    {
      "cell_type": "code",
      "metadata": {
        "id": "nyJsUM4j1P0C",
        "colab": {
          "base_uri": "https://localhost:8080/"
        },
        "outputId": "8ab61abb-0d8b-4357-97ab-dda6d7a3e299"
      },
      "source": [
        "import numpy as np\n",
        "\n",
        "x_s = np.array([1,2,3,1,2,2,3,4,1,2,3,4,1,2,4])\n",
        "\n",
        "# Promedio\n",
        "print(x_s.mean())\n",
        "\n",
        "# Varianza\n",
        "print(x_s.var(ddof = 1))\n",
        "\n",
        "# Desviación estándar\n",
        "print(x_s.std(ddof = 1))"
      ],
      "execution_count": 10,
      "outputs": [
        {
          "output_type": "stream",
          "name": "stdout",
          "text": [
            "2.3333333333333335\n",
            "1.238095238095238\n",
            "1.1126972805283735\n"
          ]
        }
      ]
    },
    {
      "cell_type": "markdown",
      "metadata": {
        "id": "NuADSmLC1P0S"
      },
      "source": [
        "**Para investigar**: ¿qué es el parámetro `ddof` de esa función?¿Qué pasa si no lo usas? Esta pregunta es **difícil** y requiere cierto conocimiento previo. Pero intenta, de todas formas, averiguarlo.\n",
        "\n",
        "NumPy también puede calcular percentilos (¡googlear!), cuantilos, mínimos y máximos:"
      ]
    },
    {
      "cell_type": "code",
      "metadata": {
        "id": "BwBr3Gb_1P0Y",
        "colab": {
          "base_uri": "https://localhost:8080/"
        },
        "outputId": "f2e21c50-fea0-4763-b2f1-4b4294b5e797"
      },
      "source": [
        "print(np.percentile(x_s,75))\n",
        "print(np.quantile(x_s,0.5))\n",
        "print(np.min(x_s))\n",
        "print(np.max(x_s))"
      ],
      "execution_count": 11,
      "outputs": [
        {
          "output_type": "stream",
          "name": "stdout",
          "text": [
            "3.0\n",
            "2.0\n",
            "1\n",
            "4\n"
          ]
        }
      ]
    },
    {
      "cell_type": "markdown",
      "metadata": {
        "id": "31cRSU0v1P0n"
      },
      "source": [
        "**Para investigar**: ¿Cuál es la diferencia entre `np.percentile()` y `np.quantile()`?¿Cómo obtendrías los cuartiles a partir de ellos?\n",
        "\n",
        "### 1.3 Generación de muestras al azar\n",
        "\n",
        "Una cosa sumamente útil que podemos hacer con NumPy es generar muestras al azar. Esto nos permite simular situaciones. Estas funciones las encontramos dentro del paquete `random` de NumPy, cuya documentación pueden encontrar [aquí](https://docs.scipy.org/doc/numpy-1.15.0/reference/routines.random.html). Veamos cómo lo podemos hacer:"
      ]
    },
    {
      "cell_type": "code",
      "metadata": {
        "id": "LveHBaed1P0u",
        "colab": {
          "base_uri": "https://localhost:8080/"
        },
        "outputId": "7b5baa7e-e144-4556-b23d-30ab0258df98"
      },
      "source": [
        "muestras_dado = np.random.randint(1,7, size = 15)\n",
        "print(muestras_dado)\n",
        "\n",
        "### También se puede\n",
        "muestras_dado = np.random.choice([1,2,3,4,5,6], size = 15)\n",
        "print(muestras_dado)"
      ],
      "execution_count": 12,
      "outputs": [
        {
          "output_type": "stream",
          "name": "stdout",
          "text": [
            "[6 2 2 5 1 1 1 4 3 5 5 1 1 2 4]\n",
            "[3 6 4 2 5 6 1 4 1 6 2 3 3 5 1]\n"
          ]
        }
      ]
    },
    {
      "cell_type": "markdown",
      "metadata": {
        "id": "iw5KJ1sN1P08"
      },
      "source": [
        "### Ejercitación\n",
        "\n",
        "**Ejercicio 1:** ¿Cuál será el promedio de los valores obtenidos al tirar muchas veces un dado?¿Te animás a averiguar - o calcular - cuánto *debería dar* antes de hacerlo? Vamos a tratar de responder esta pregunta **simulando** un dado. Para ello:\n",
        "* Obtener muestras al azar de un dado usando lo que vimos anteriormente.\n",
        "* Calcular su promedio y desviación estándar.\n",
        "\n",
        "¿A partir de qué cantidad de muestras el promedio se \"estabiliza\"?"
      ]
    },
    {
      "cell_type": "code",
      "metadata": {
        "scrolled": true,
        "id": "x5AP10hv1P1A",
        "colab": {
          "base_uri": "https://localhost:8080/"
        },
        "outputId": "fdde723e-20db-4735-ce30-897f58f23424"
      },
      "source": [
        "print(\"La media es\", muestras_dado.mean())\n",
        "print(\"La DS es\", muestras_dado.std())"
      ],
      "execution_count": 14,
      "outputs": [
        {
          "output_type": "stream",
          "name": "stdout",
          "text": [
            "La media es 3.466666666666667\n",
            "La DS es 1.7838784213679537\n"
          ]
        }
      ]
    },
    {
      "cell_type": "markdown",
      "metadata": {
        "id": "YBg5eGbD1P1P"
      },
      "source": [
        "**Ejercicio 2:** Simular un dado cargado para favorecer un valor de su elección. Por ejemplo, el seis. Para ello, consultar la ayuda de la función `np.random.choice`. ¿Cómo se modifica el promedio y la desviación estándar?"
      ]
    },
    {
      "cell_type": "code",
      "metadata": {
        "id": "bsRijYBY1P1U",
        "colab": {
          "base_uri": "https://localhost:8080/"
        },
        "outputId": "eefa8065-2d36-4952-8239-760fd0787f51"
      },
      "source": [
        "muestras_dado2 = np.random.choice([1,2,3,4,5,6], size = 1500, p=[2/6, 1/12, 1/12, 1/6, 1/6, 1/6])\n",
        "\n",
        "print(\"La media es\", muestras_dado2.mean())\n",
        "print(\"La DS es\", muestras_dado2.std())\n",
        "\n",
        "len(muestras_dado2)\n",
        "print(len(muestras_dado2))"
      ],
      "execution_count": 15,
      "outputs": [
        {
          "output_type": "stream",
          "name": "stdout",
          "text": [
            "La media es 3.187333333333333\n",
            "La DS es 1.9107344719301587\n",
            "1500\n"
          ]
        }
      ]
    },
    {
      "cell_type": "code",
      "source": [
        "muestras_dado2 = np.random.choice([1,2,3,4,5,6], size = 1500, p=[2/6, 1/12, 1/12, 1/6, 1/6, 1/6])\n",
        "print(\"La media es\", muestras_dado2.mean())\n",
        "print(\"La DS es\", muestras_dado2.std())"
      ],
      "metadata": {
        "colab": {
          "base_uri": "https://localhost:8080/"
        },
        "id": "KWrl-crK1heK",
        "outputId": "7991108d-dea6-4086-bc04-db75d8efa84f"
      },
      "execution_count": 16,
      "outputs": [
        {
          "output_type": "stream",
          "name": "stdout",
          "text": [
            "La media es 3.312\n",
            "La DS es 1.915895613022797\n"
          ]
        }
      ]
    },
    {
      "cell_type": "markdown",
      "metadata": {
        "id": "E49i11Xa1P1i"
      },
      "source": [
        "## 2. Pandas\n",
        "\n",
        "Pandas es la librería más conocida de Python para manipular y analizar datos. Está montada sobre NumPy, por lo cual muchas funcionalidades son similares. Utilizaremos Pandas para trabajar con datasets estructurados (y bueno, ¡bastante más!).\n",
        "\n",
        "Así como NumPy nos proveé de los *arreglos* y con ellos accedemos a muchas nuevas funcionalidades, Pandas nos provee de los *Data Frames* y las *Series*. Por lejos, el objeto más utilizados es el primero, los Data Frames.\n",
        "\n",
        "\n",
        "En esta sección empezaremos a:\n",
        "\n",
        "1. Familiarizarnos con los Data Frames de Pandas, manipular sus funciones básicas y entender la lógica de las mismas (¡para después googlearlas!).\n",
        "2. Empezar a trabajar con Datasets.\n",
        "\n",
        "**¡Manos a la obra!**\n",
        "\n",
        "### 2.1 Primeros pasos\n",
        "\n",
        "Importamos la librería."
      ]
    },
    {
      "cell_type": "code",
      "metadata": {
        "id": "j24h6xmv1P1o"
      },
      "source": [
        "import pandas as pd"
      ],
      "execution_count": null,
      "outputs": []
    },
    {
      "cell_type": "markdown",
      "metadata": {
        "id": "FyLT8HgC1P11"
      },
      "source": [
        "Vamos a crear nuestro propio dataset. Es decir, agarrar a mano los datos poblacionales y guardarlos en una variable `data_dic`.¿Qué tipo de variable es, desde el punto de vista de la programación?\n",
        "\n",
        "**Nota**: la población está en número de habitantes y la superficie en km2."
      ]
    },
    {
      "cell_type": "code",
      "metadata": {
        "id": "WQq6LK041P17"
      },
      "source": [
        "data_dic = {\"Jurisdiccion\":['Andalucía', 'Aragón', 'Asturias', 'Baleares', 'Canarias', 'Cantabria', 'Castilla y León', 'Castilla-La Mancha', 'Cataluña',\n",
        "                            'Comunidad de Madrid', 'Comunidad Foral de Navarra', 'Comunidad Valenciana', 'Extremadura', 'Galicia', 'La Rioja', 'País Vasco',\n",
        "                            'Principado de Andorra', 'Región de Murcia', 'Ceuta', 'Melilla'],\n",
        "            \"Poblacion\":[8446561, 1319291, 1028244, 1187805, 2207225, 582206, 2408083, 2032863, 7675217, 6640705,\n",
        "                         661828, 5003769, 1072863, 2698764, 314487, 2207776, 77006, 1493898, 85344, 86487],\n",
        "            \"Superficie\": [87599, 47720, 10603, 4992, 7447, 5321, 94127, 79600, 32114, 8028, 10391, 23255, 41634, 29574, 5045, 7264, 468, 11314, 20, 12]}"
      ],
      "execution_count": null,
      "outputs": []
    },
    {
      "cell_type": "markdown",
      "metadata": {
        "id": "rGxjjI1c1P2H"
      },
      "source": [
        "Así como podemos crear arreglos a partir de listas, podemos crear Data Frames a partir de diccionarios."
      ]
    },
    {
      "cell_type": "code",
      "metadata": {
        "id": "0SMR3d331P2L"
      },
      "source": [
        "# Creamos el DataFrame\n",
        "data_pandas = pd.DataFrame(data_dic)\n",
        "data_pandas"
      ],
      "execution_count": null,
      "outputs": []
    },
    {
      "cell_type": "markdown",
      "metadata": {
        "id": "2UlnyR6O1P2d"
      },
      "source": [
        "**Ejercicio 1:** investigar las funciones que se implementan en la próxima celda. ¿Qué hacen? ¿Para qué piensan que pueden ser útiles?"
      ]
    },
    {
      "cell_type": "code",
      "metadata": {
        "id": "Y5wTHya41P2i"
      },
      "source": [
        "# data_pandas.head()\n",
        "# data_pandas.tail()\n",
        "# data_pandas.count()\n",
        "# data_pandas.shape"
      ],
      "execution_count": null,
      "outputs": []
    },
    {
      "cell_type": "markdown",
      "metadata": {
        "id": "uozfwkNo1P2w"
      },
      "source": [
        "**Ejercicio 2:** agregar al Dataset la información correspondiente a alguna jurisdicción faltante. Recuerden que, al tratarse de una nueva instancia, corresponde a una fila. Pista: googlear \"add row to pandas dataframe\" o similar. No hay una única forma de hacerlo."
      ]
    },
    {
      "cell_type": "code",
      "metadata": {
        "id": "i__cR4Hh1P2z"
      },
      "source": [
        "# COMPLETAR"
      ],
      "execution_count": null,
      "outputs": []
    },
    {
      "cell_type": "markdown",
      "metadata": {
        "id": "3XnYJjid1P2_"
      },
      "source": [
        "**Ejercicio 3:** Investigar las funciones columns e index. ¿Qué hacen? ¿Qué tipo de dato es su salida?¿A qué tipo de dato conocido se parecen?"
      ]
    },
    {
      "cell_type": "code",
      "metadata": {
        "id": "3TypUl1A1P3B"
      },
      "source": [
        "# data_pandas.columns\n",
        "# data_pandas.index"
      ],
      "execution_count": null,
      "outputs": []
    },
    {
      "cell_type": "markdown",
      "metadata": {
        "id": "EK-iDt4a1P3M"
      },
      "source": [
        "**Ejercicio 4:** ¿Qué hacen las siguientes operaciones?"
      ]
    },
    {
      "cell_type": "code",
      "metadata": {
        "id": "UAg6Cz5v1P3P"
      },
      "source": [
        "# data_pandas['Jurisdiccion']\n",
        "# data_pandas[['Jurisdiccion','Poblacion']]\n",
        "# data_pandas.Jurisdiccion\n",
        "# 'Poblacion' in data_pandas"
      ],
      "execution_count": null,
      "outputs": []
    },
    {
      "cell_type": "markdown",
      "metadata": {
        "id": "osTgGkDJ1P3X"
      },
      "source": [
        "**Ejercicio 5:** Agregar una columna al dataframe que corresponda a la densidad de cada jurisdicción. Usar la información que **ya está** en el dataset."
      ]
    },
    {
      "cell_type": "code",
      "metadata": {
        "id": "8E5lnSqG1P3c"
      },
      "source": [
        "# COMPLETAR"
      ],
      "execution_count": null,
      "outputs": []
    },
    {
      "cell_type": "markdown",
      "metadata": {
        "id": "svpqtSdf1P3l"
      },
      "source": [
        "### 2.2 Filtrado por máscara.\n",
        "\n",
        "Lo que veremos a continuación es **muy importante**, ya que es una operación que haremos muchas veces. Su implementación es muy parecida tanto en NumPy como en Pandas, por lo que veremos cómo hacerlo primero en NumPy luego en Pandas.\n",
        "\n",
        "Supongamos que hacemos 50 tiradas de un dado, como hicimos en la sección anterior, pero queremos seleccionar solamente aquellas tiradas que fueron menores que cuatro. ¿Cómo podemos hacerlo?"
      ]
    },
    {
      "cell_type": "code",
      "metadata": {
        "id": "w5IZFKI_1P3o"
      },
      "source": [
        "muestras_dado = np.random.randint(1,7, size = 50)\n",
        "print(muestras_dado)"
      ],
      "execution_count": null,
      "outputs": []
    },
    {
      "cell_type": "markdown",
      "metadata": {
        "id": "0QEABcgZ1P3y"
      },
      "source": [
        "Lo que podemos hacer es crear una máscara:"
      ]
    },
    {
      "cell_type": "code",
      "metadata": {
        "id": "STxwWNOi1P32"
      },
      "source": [
        "mascara = muestras_dado < 4\n",
        "print(mascara)\n",
        "print(type(mascara))"
      ],
      "execution_count": null,
      "outputs": []
    },
    {
      "cell_type": "markdown",
      "metadata": {
        "id": "IuAkOYoe1P4B"
      },
      "source": [
        "Notar que `mascara` es un arreglo de booleanos, con `True` en los valores que cumplen la condición y `False` donde no. Una vez que creamos la máscara, podemos usarla para seleccionar de nuestro arreglo aquellos elementos que queríamos:"
      ]
    },
    {
      "cell_type": "code",
      "metadata": {
        "id": "Cw8ZM97f1P4D"
      },
      "source": [
        "print(muestras_dado[mascara])"
      ],
      "execution_count": null,
      "outputs": []
    },
    {
      "cell_type": "markdown",
      "metadata": {
        "id": "0rjN7J3A1P4M"
      },
      "source": [
        "Notar que con `mascara.sum()` podemos contar cuántas veces se cumple la condición que pedimos."
      ]
    },
    {
      "cell_type": "code",
      "metadata": {
        "id": "cUHV-_OC1P4Q"
      },
      "source": [
        "print(mascara.sum())"
      ],
      "execution_count": null,
      "outputs": []
    },
    {
      "cell_type": "markdown",
      "metadata": {
        "id": "UosUz_mI1P4X"
      },
      "source": [
        "A veces, podemos hacerlo en una sola línea. Supongamos que queremos aquellas tiradas donde salió seis:"
      ]
    },
    {
      "cell_type": "code",
      "metadata": {
        "id": "do9s_9vn1P4Y"
      },
      "source": [
        "print(muestras_dado[muestras_dado == 6])"
      ],
      "execution_count": null,
      "outputs": []
    },
    {
      "cell_type": "markdown",
      "metadata": {
        "id": "ZI1fVYFf1P4g"
      },
      "source": [
        "**En Pandas**\n",
        "\n",
        "Supongamos que queremos seleccionar aquellas jurisdicciones cuya población sea mayor a un millón de habitantes. Podemos hacerlo de la siguiente forma:"
      ]
    },
    {
      "cell_type": "code",
      "metadata": {
        "id": "n2sWVVBz1P4i"
      },
      "source": [
        "data_pandas[data_pandas.Poblacion > 1000000]"
      ],
      "execution_count": null,
      "outputs": []
    },
    {
      "cell_type": "markdown",
      "metadata": {
        "id": "pZo21ebL1P5G"
      },
      "source": [
        "¿Y si queremos seleccionar aquellas jurisdicciones cuya población sea mayor a un millón de habitantes **y** su superficie menor a cien mil km2?"
      ]
    },
    {
      "cell_type": "code",
      "metadata": {
        "id": "Gia9i3AB1P5L"
      },
      "source": [
        "mascara = np.logical_and(data_pandas.Poblacion > 1000000, data_pandas.Superficie < 100000)\n",
        "data_pandas[mascara]\n",
        "\n",
        "### Es equivalente\n",
        "# data_pandas[(data_pandas.Poblacion > 1000000) & (data_pandas.Superficie < 100000)]"
      ],
      "execution_count": null,
      "outputs": []
    },
    {
      "cell_type": "markdown",
      "metadata": {
        "id": "Z057NM351P5W"
      },
      "source": [
        "**Ejercicio:** seleccionar aquellas jurisdicciones cuya población sea menor a 500 mil habitantes **o** su superficie mayor a cien mil km2."
      ]
    },
    {
      "cell_type": "code",
      "metadata": {
        "id": "EWJwPrS61P5Z"
      },
      "source": [
        "# COMPLETAR"
      ],
      "execution_count": null,
      "outputs": []
    },
    {
      "cell_type": "markdown",
      "metadata": {
        "id": "H1nzSLbJ1P5g"
      },
      "source": [
        "## 2.3 Iris dataset\n",
        "\n",
        "¿Pero siempre vamos a tener que crear un diccionario y luego pasarlo a un Data Frame? Evidentemente, esta opción no parece muy cómoda, en particular para conjuntos de datos de gran volumen. Veamos cómo trabajamos con un conjunto de datos preexistente.\n",
        "\n",
        "\n",
        "**Aviso**: Esta sección es, en realidad, un ejercicio. Para hacerlo, debes ir googleando y consultando la documentación que consideres apropiada. Obviamente, también puedes consultar a tu mentor/a.\n",
        "\n",
        "Vamos a trabajar con el Iris Dataset, probablemente uno de los conjuntos de datos más famosos, ya que muchos ejemplos se realizan con él. Es un dataset sencillo pero ilustrativo.\n",
        "\n",
        "\n",
        "1. Abrir con Pandas el archivo 'iris.csv' (¿Qué tipo de archivo es?) e imprimir sus primeros cinco elementos. Pista: `pd.read...()`."
      ]
    },
    {
      "cell_type": "code",
      "metadata": {
        "id": "c6WItGqC1P5i"
      },
      "source": [
        "# COMPLETAR"
      ],
      "execution_count": null,
      "outputs": []
    },
    {
      "cell_type": "markdown",
      "metadata": {
        "id": "IcsJiYe31P5p"
      },
      "source": [
        "2. ¿Cuántas columnas (features) tiene?¿Cuáles son sus nombres?¿Y cuántas filas (instancias)? Pistas: `shape`, `columns`."
      ]
    },
    {
      "cell_type": "code",
      "metadata": {
        "id": "BqDWhNM51P5r"
      },
      "source": [
        "# COMPLETAR"
      ],
      "execution_count": null,
      "outputs": []
    },
    {
      "cell_type": "markdown",
      "metadata": {
        "id": "LnO-Yoyh1P50"
      },
      "source": [
        "3. Obtener el valor medio y desviación estándar de cada columna. ¿Hay alguna función de Pandas que nos dé aún más estadísticos? Pistas: `describe`."
      ]
    },
    {
      "cell_type": "code",
      "metadata": {
        "id": "wTPFg2yT1P52"
      },
      "source": [
        "# COMPLETAR"
      ],
      "execution_count": null,
      "outputs": []
    },
    {
      "cell_type": "markdown",
      "metadata": {
        "id": "h0hQVgt21P58"
      },
      "source": [
        "4. ¿Creen que todas las columnas tienen información? *Tirar* la columna que crean que está demás. Dependiendo de la función que uses - hay más de una opción -, tal vez tengas que prestar **mucha** atención al argumento `inplace`. Pista: `drop`, `del`."
      ]
    },
    {
      "cell_type": "code",
      "metadata": {
        "id": "FMWb9yIz1P5_"
      },
      "source": [
        "# COMPLETAR"
      ],
      "execution_count": null,
      "outputs": []
    },
    {
      "cell_type": "markdown",
      "metadata": {
        "id": "xZc3ROA1uwsi"
      },
      "source": [
        "5. ¿Para qué sirven `loc` e `iloc`? Crea algunos ejemplos."
      ]
    },
    {
      "cell_type": "code",
      "metadata": {
        "id": "o7t65DAn1P6H"
      },
      "source": [],
      "execution_count": null,
      "outputs": []
    }
  ]
}