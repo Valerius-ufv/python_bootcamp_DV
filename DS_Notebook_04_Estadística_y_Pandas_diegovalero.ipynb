{
  "nbformat": 4,
  "nbformat_minor": 0,
  "metadata": {
    "kernelspec": {
      "display_name": "Python 3",
      "language": "python",
      "name": "python3"
    },
    "language_info": {
      "codemirror_mode": {
        "name": "ipython",
        "version": 3
      },
      "file_extension": ".py",
      "mimetype": "text/x-python",
      "name": "python",
      "nbconvert_exporter": "python",
      "pygments_lexer": "ipython3",
      "version": "3.7.6"
    },
    "colab": {
      "provenance": [],
      "include_colab_link": true
    }
  },
  "cells": [
    {
      "cell_type": "markdown",
      "metadata": {
        "id": "view-in-github",
        "colab_type": "text"
      },
      "source": [
        "<a href=\"https://colab.research.google.com/github/Valerius-ufv/python_bootcamp_DV/blob/main/DS_Notebook_04_Estad%C3%ADstica_y_Pandas_diegovalero.ipynb\" target=\"_parent\"><img src=\"https://colab.research.google.com/assets/colab-badge.svg\" alt=\"Open In Colab\"/></a>"
      ]
    },
    {
      "cell_type": "markdown",
      "metadata": {
        "id": "U8zyY9Zz1Py3"
      },
      "source": [
        "# Estadística Descriptiva y Pandas\n",
        "\n",
        "El objetivo del siguiente notebook es, además de repasar conceptos de estadística, que sigas aprendiendo a operar con Numpy y que, además, incorpores Pandas a tu caja de herramientas.\n",
        "\n",
        "## 1. Estadística Descriptiva\n",
        "\n",
        "La Estadística Descriptiva nos sirve para comenzar a analizar y entender un conjunto de datos. En el caso de datos numéricos, lo hace obteniendo *valores estadísticos* que, de alguna forma, reemplazan a nuestros datos. Por ejemplo, es muy difícil leer y *entender* la edad de 1000 personas. Pero con un grupo reducido de valores estadísticos (mínimo, máximo, media y desviación estándar, etc.) podemos aproximarnos a ese conjunto de una manera mucho más comprensible. Veamos dos medidas muy importantes:\n",
        "\n",
        "**Promedio**\n",
        "\n",
        "Dados $n$ números $x_1,x_2,...,x_n$, el promedio o media es\n",
        "\n",
        "$$\\overline{x} = \\frac{1}{n}\\sum_{i=1}^{n} x_i = \\frac{x_1 + x_2 + ... + x_n}{n}$$\n",
        "\n",
        "**Desviación Estándar**\n",
        "\n",
        "La varianza y la desviación estándar nos dan una idea de cuán \"dispersos\" están los valores con respecto a su promedio.\n",
        "\n",
        "$$ Var = \\frac{\\sum_{i=1}^{n} (x_i -\\overline{x})^2}{n - 1}$$\n",
        "\n",
        "La desviación estándar es la raiz cuadrada de la varianza. En general se usa la letra griega $\\sigma$ para representarla o las siglas $SD$:\n",
        "\n",
        "$$ SD = \\sqrt{\\frac{\\sum_{i=1}^{n} (x_i -\\overline{x})^2}{n - 1}}$$\n",
        "\n",
        "$$ SD = \\sqrt{Var}$$\n",
        "\n",
        "\n",
        "**Comentarios**:\n",
        "1. Dado un conjunto de números, el promedio suele ser considerado el número más representativo de ese conjunto. Esto no siempre es así. Pensá o googleá por qué.\n",
        "2. Al conjunto de números $x_1,...,x_n$ los pueden encontrar por el nombre de *población* o *muestra* (¡Ojo que no estamos diciendo que *población* y *muestra* sean lo mismo!).\n",
        "\n",
        "### Challenge:\n",
        "\n",
        "Vamos a utilizar de excusa la estadística descriptiva para hacer un desafío de programación:\n",
        "\n",
        "Dadas la siguiente lista de números, escribir una rutina que calcule su promedio, su varianza y desviación estándar. **Pistas:**\n",
        "* Probablemente te sea muy útil usar lo que hiciste para ejercicios anteriores.\n",
        "* Para calcular la varianza y la desviación estándar, usa el resultado que obtuviste al calcular el promedio."
      ]
    },
    {
      "cell_type": "code",
      "source": [
        "import numpy as np"
      ],
      "metadata": {
        "id": "PyHXz5lVO3RY"
      },
      "execution_count": 2,
      "outputs": []
    },
    {
      "cell_type": "code",
      "metadata": {
        "id": "lqCdXnSP1PzC"
      },
      "source": [
        "x_s = [1,2,3,1,2,2,3,4,1,2,3,4,1,2,4]\n",
        "# COMPLETAR"
      ],
      "execution_count": null,
      "outputs": []
    },
    {
      "cell_type": "code",
      "metadata": {
        "id": "PosCOxzC1Pzl",
        "colab": {
          "base_uri": "https://localhost:8080/"
        },
        "outputId": "6158e0a5-16ae-4bf2-ead1-ae236de81cff"
      },
      "source": [
        "x_s = [1,2,3,1,2,2,3,4,1,2,3,4,1,2,4]\n",
        "promedio = sum(x_s)/len(x_s)\n",
        "print(promedio)"
      ],
      "execution_count": 5,
      "outputs": [
        {
          "output_type": "stream",
          "name": "stdout",
          "text": [
            "2.3333333333333335\n"
          ]
        }
      ]
    },
    {
      "cell_type": "code",
      "source": [
        "x_s = [1,2,3,1,2,2,3,4,1,2,3,4,1,2,4]\n",
        "varianza = sum(promedio**2 for promedio in x_s)/len(x_s) - promedio**2\n",
        "print(varianza)\n",
        "\n",
        "ds = np.sqrt(varianza)\n",
        "print(ds)"
      ],
      "metadata": {
        "colab": {
          "base_uri": "https://localhost:8080/"
        },
        "id": "pMCCTxXOPHQ3",
        "outputId": "3783bd3e-0f3f-4847-a211-e9303021f07d"
      },
      "execution_count": 12,
      "outputs": [
        {
          "output_type": "stream",
          "name": "stdout",
          "text": [
            "1.1555555555555541\n",
            "1.0749676997731392\n"
          ]
        }
      ]
    },
    {
      "cell_type": "markdown",
      "metadata": {
        "id": "uMmPPSpQ1Pz9"
      },
      "source": [
        "¿Cómo te fue con el Challenge? Si no pudiste resolverlo, no te preocupes. ¡NumPy tiene funciones ya incorporadas que calcula algunos estadísticos sobre un arreglo!\n",
        "\n",
        "### 1.2 Estadística con NumPy\n",
        "\n",
        "Veamos cómo se calculan, en NumPy, el promedio, varianza y desviación estándar sobre un arreglo."
      ]
    },
    {
      "cell_type": "code",
      "metadata": {
        "id": "nyJsUM4j1P0C",
        "colab": {
          "base_uri": "https://localhost:8080/"
        },
        "outputId": "e9eb95cb-2197-4b20-f232-0779b9cf5a9f"
      },
      "source": [
        "import numpy as np\n",
        "\n",
        "x_s = np.array([1,2,3,1,2,2,3,4,1,2,3,4,1,2,4])\n",
        "\n",
        "# Promedio\n",
        "print(x_s.mean())\n",
        "print(np.mean(x_s))\n",
        "\n",
        "# Varianza\n",
        "print(x_s.var(ddof = 1))\n",
        "\n",
        "# Desviación estándar\n",
        "print(x_s.std(ddof = 1))"
      ],
      "execution_count": 14,
      "outputs": [
        {
          "output_type": "stream",
          "name": "stdout",
          "text": [
            "2.3333333333333335\n",
            "2.3333333333333335\n",
            "1.238095238095238\n",
            "1.1126972805283735\n"
          ]
        }
      ]
    },
    {
      "cell_type": "markdown",
      "metadata": {
        "id": "NuADSmLC1P0S"
      },
      "source": [
        "**Para investigar**: ¿qué es el parámetro `ddof` de esa función?¿Qué pasa si no lo usas? Esta pregunta es **difícil** y requiere cierto conocimiento previo. Pero intenta, de todas formas, averiguarlo.\n",
        "\n",
        "NumPy también puede calcular percentilos (¡googlear!), cuantilos, mínimos y máximos:"
      ]
    },
    {
      "cell_type": "code",
      "metadata": {
        "id": "BwBr3Gb_1P0Y",
        "colab": {
          "base_uri": "https://localhost:8080/"
        },
        "outputId": "a30e0d9e-1137-49da-8938-e486bfaf3337"
      },
      "source": [
        "print(np.percentile(x_s,75))\n",
        "print(np.quantile(x_s,0.5))\n",
        "print(np.min(x_s))\n",
        "print(np.max(x_s))"
      ],
      "execution_count": 15,
      "outputs": [
        {
          "output_type": "stream",
          "name": "stdout",
          "text": [
            "3.0\n",
            "2.0\n",
            "1\n",
            "4\n"
          ]
        }
      ]
    },
    {
      "cell_type": "markdown",
      "metadata": {
        "id": "31cRSU0v1P0n"
      },
      "source": [
        "**Para investigar**: ¿Cuál es la diferencia entre `np.percentile()` y `np.quantile()`?¿Cómo obtendrías los cuartiles a partir de ellos?\n",
        "\n",
        "### 1.3 Generación de muestras al azar\n",
        "\n",
        "Una cosa sumamente útil que podemos hacer con NumPy es generar muestras al azar. Esto nos permite simular situaciones. Estas funciones las encontramos dentro del paquete `random` de NumPy, cuya documentación pueden encontrar [aquí](https://docs.scipy.org/doc/numpy-1.15.0/reference/routines.random.html). Veamos cómo lo podemos hacer:"
      ]
    },
    {
      "cell_type": "code",
      "metadata": {
        "id": "LveHBaed1P0u",
        "colab": {
          "base_uri": "https://localhost:8080/"
        },
        "outputId": "d43785cd-ef4f-465f-ed9d-2a7bc2c63843"
      },
      "source": [
        "muestras_dado1 = np.random.randint(1,7, size = 15)\n",
        "print(muestras_dado1)\n",
        "\n",
        "### También se puede\n",
        "muestras_dado2 = np.random.choice([1,2,3,4,5,6], size = 15)\n",
        "print(muestras_dado2)"
      ],
      "execution_count": 16,
      "outputs": [
        {
          "output_type": "stream",
          "name": "stdout",
          "text": [
            "[4 1 4 3 5 6 4 1 1 2 3 3 1 5 1]\n",
            "[3 4 2 5 4 1 4 5 5 6 4 4 2 3 4]\n"
          ]
        }
      ]
    },
    {
      "cell_type": "markdown",
      "metadata": {
        "id": "iw5KJ1sN1P08"
      },
      "source": [
        "### Ejercitación\n",
        "\n",
        "**Ejercicio 1:** ¿Cuál será el promedio de los valores obtenidos al tirar muchas veces un dado?¿Te animás a averiguar - o calcular - cuánto *debería dar* antes de hacerlo? Vamos a tratar de responder esta pregunta **simulando** un dado. Para ello:\n",
        "* Obtener muestras al azar de un dado usando lo que vimos anteriormente.\n",
        "* Calcular su promedio y desviación estándar.\n",
        "\n",
        "¿A partir de qué cantidad de muestras el promedio se \"estabiliza\"?"
      ]
    },
    {
      "cell_type": "code",
      "metadata": {
        "scrolled": true,
        "id": "x5AP10hv1P1A",
        "colab": {
          "base_uri": "https://localhost:8080/"
        },
        "outputId": "e67df6b9-bf8a-4574-9627-73b70cf471cb"
      },
      "source": [
        "print(\"La media es\", muestras_dado1.mean())\n",
        "print(\"La DS es\", muestras_dado1.std())"
      ],
      "execution_count": 17,
      "outputs": [
        {
          "output_type": "stream",
          "name": "stdout",
          "text": [
            "La media es 2.933333333333333\n",
            "La ds es 1.6519348924485158\n"
          ]
        }
      ]
    },
    {
      "cell_type": "markdown",
      "metadata": {
        "id": "YBg5eGbD1P1P"
      },
      "source": [
        "**Ejercicio 2:** Simular un dado cargado para favorecer un valor de su elección. Por ejemplo, el seis. Para ello, consultar la ayuda de la función `np.random.choice`. ¿Cómo se modifica el promedio y la desviación estándar?"
      ]
    },
    {
      "cell_type": "code",
      "metadata": {
        "id": "bsRijYBY1P1U"
      },
      "source": [
        "muestras_dado2 = np.random.choice([1,2,3,4,5,6], size = 1500, p=[2/6, 1/12, 1/12, 1/6, 1/6, 1/6])"
      ],
      "execution_count": 21,
      "outputs": []
    },
    {
      "cell_type": "code",
      "source": [
        "print(\"La media es\", muestras_dado2.mean())\n",
        "print(\"La DS es\", muestras_dado2.std())"
      ],
      "metadata": {
        "colab": {
          "base_uri": "https://localhost:8080/"
        },
        "id": "EjwWaWwrYKIr",
        "outputId": "107dc7b9-94a6-4ea2-babc-b2a42f6f47d7"
      },
      "execution_count": 19,
      "outputs": [
        {
          "output_type": "stream",
          "name": "stdout",
          "text": [
            "La media es 3.7333333333333334\n",
            "La ds es 1.2892719737209144\n"
          ]
        }
      ]
    },
    {
      "cell_type": "code",
      "source": [
        "len(muestras_dado2)\n",
        "print(len(muestras_dado2))"
      ],
      "metadata": {
        "colab": {
          "base_uri": "https://localhost:8080/"
        },
        "id": "ORVv_33FYPU2",
        "outputId": "3437d08d-7673-49c8-95a3-2dd52a23d1c7"
      },
      "execution_count": 22,
      "outputs": [
        {
          "output_type": "stream",
          "name": "stdout",
          "text": [
            "1500\n"
          ]
        }
      ]
    },
    {
      "cell_type": "code",
      "source": [
        "muestras_dado2 = np.random.choice([1,2,3,4,5,6], size = 1500, p=[2/6, 1/12, 1/12, 1/6, 1/6, 1/6])\n",
        "print(\"La media es\", muestras_dado2.mean())\n",
        "print(\"La DS es\", muestras_dado2.std())"
      ],
      "metadata": {
        "colab": {
          "base_uri": "https://localhost:8080/"
        },
        "id": "TyuQQQyAYz2m",
        "outputId": "b62b2c2f-cf3f-4174-c5e5-7cbe96860794"
      },
      "execution_count": 24,
      "outputs": [
        {
          "output_type": "stream",
          "name": "stdout",
          "text": [
            "La media es 3.2693333333333334\n",
            "La DS es 1.9220109838973924\n"
          ]
        }
      ]
    },
    {
      "cell_type": "markdown",
      "metadata": {
        "id": "E49i11Xa1P1i"
      },
      "source": [
        "## 2. Pandas\n",
        "\n",
        "Pandas es la librería más conocida de Python para manipular y analizar datos. Está montada sobre NumPy, por lo cual muchas funcionalidades son similares. Utilizaremos Pandas para trabajar con datasets estructurados (y bueno, ¡bastante más!).\n",
        "\n",
        "Así como NumPy nos proveé de los *arreglos* y con ellos accedemos a muchas nuevas funcionalidades, Pandas nos provee de los *Data Frames* y las *Series*. Por lejos, el objeto más utilizados es el primero, los Data Frames.\n",
        "\n",
        "\n",
        "En esta sección empezaremos a:\n",
        "\n",
        "1. Familiarizarnos con los Data Frames de Pandas, manipular sus funciones básicas y entender la lógica de las mismas (¡para después googlearlas!).\n",
        "2. Empezar a trabajar con Datasets.\n",
        "\n",
        "**¡Manos a la obra!**\n",
        "\n",
        "### 2.1 Primeros pasos\n",
        "\n",
        "Importamos la librería."
      ]
    },
    {
      "cell_type": "code",
      "metadata": {
        "id": "j24h6xmv1P1o"
      },
      "source": [
        "import pandas as pd"
      ],
      "execution_count": 33,
      "outputs": []
    },
    {
      "cell_type": "markdown",
      "metadata": {
        "id": "FyLT8HgC1P11"
      },
      "source": [
        "Vamos a crear nuestro propio dataset. Es decir, agarrar a mano los datos poblacionales y guardarlos en una variable `data_dic`.¿Qué tipo de variable es, desde el punto de vista de la programación?\n",
        "\n",
        "**Nota**: la población está en número de habitantes y la superficie en km2."
      ]
    },
    {
      "cell_type": "code",
      "metadata": {
        "id": "WQq6LK041P17",
        "colab": {
          "base_uri": "https://localhost:8080/"
        },
        "outputId": "d5a16ed9-4fde-4712-fdff-f251339ceaa5"
      },
      "source": [
        "data_dic = {\"Jurisdiccion\":['Andalucía', 'Aragón', 'Asturias', 'Baleares', 'Canarias', 'Cantabria', 'Castilla y León', 'Castilla-La Mancha', 'Cataluña',\n",
        "                            'Comunidad de Madrid', 'Comunidad Foral de Navarra', 'Comunidad Valenciana', 'Extremadura', 'Galicia', 'La Rioja', 'País Vasco',\n",
        "                            'Principado de Andorra', 'Región de Murcia', 'Ceuta', 'Melilla'],\n",
        "            \"Poblacion\":[8446561, 1319291, 1028244, 1187805, 2207225, 582206, 2408083, 2032863, 7675217, 6640705,\n",
        "                         661828, 5003769, 1072863, 2698764, 314487, 2207776, 77006, 1493898, 85344, 86487],\n",
        "            \"Superficie\": [87599, 47720, 10603, 4992, 7447, 5321, 94127, 79600, 32114, 8028, 10391, 23255, 41634, 29574, 5045, 7264, 468, 11314, 20, 12]}\n",
        "print(data_dic)"
      ],
      "execution_count": 30,
      "outputs": [
        {
          "output_type": "stream",
          "name": "stdout",
          "text": [
            "{'Jurisdiccion': ['Andalucía', 'Aragón', 'Asturias', 'Baleares', 'Canarias', 'Cantabria', 'Castilla y León', 'Castilla-La Mancha', 'Cataluña', 'Comunidad de Madrid', 'Comunidad Foral de Navarra', 'Comunidad Valenciana', 'Extremadura', 'Galicia', 'La Rioja', 'País Vasco', 'Principado de Andorra', 'Región de Murcia', 'Ceuta', 'Melilla'], 'Poblacion': [8446561, 1319291, 1028244, 1187805, 2207225, 582206, 2408083, 2032863, 7675217, 6640705, 661828, 5003769, 1072863, 2698764, 314487, 2207776, 77006, 1493898, 85344, 86487], 'Superficie': [87599, 47720, 10603, 4992, 7447, 5321, 94127, 79600, 32114, 8028, 10391, 23255, 41634, 29574, 5045, 7264, 468, 11314, 20, 12]}\n"
          ]
        }
      ]
    },
    {
      "cell_type": "markdown",
      "metadata": {
        "id": "rGxjjI1c1P2H"
      },
      "source": [
        "Así como podemos crear arreglos a partir de listas, podemos crear Data Frames a partir de diccionarios."
      ]
    },
    {
      "cell_type": "code",
      "metadata": {
        "id": "0SMR3d331P2L",
        "colab": {
          "base_uri": "https://localhost:8080/",
          "height": 676
        },
        "outputId": "960154e1-df82-4a64-dde7-0a3917335c19"
      },
      "source": [
        "# Creamos el DataFrame\n",
        "data_pandas = pd.DataFrame(data_dic)\n",
        "data_pandas"
      ],
      "execution_count": 31,
      "outputs": [
        {
          "output_type": "execute_result",
          "data": {
            "text/plain": [
              "                  Jurisdiccion  Poblacion  Superficie\n",
              "0                    Andalucía    8446561       87599\n",
              "1                       Aragón    1319291       47720\n",
              "2                     Asturias    1028244       10603\n",
              "3                     Baleares    1187805        4992\n",
              "4                     Canarias    2207225        7447\n",
              "5                    Cantabria     582206        5321\n",
              "6              Castilla y León    2408083       94127\n",
              "7           Castilla-La Mancha    2032863       79600\n",
              "8                     Cataluña    7675217       32114\n",
              "9          Comunidad de Madrid    6640705        8028\n",
              "10  Comunidad Foral de Navarra     661828       10391\n",
              "11        Comunidad Valenciana    5003769       23255\n",
              "12                 Extremadura    1072863       41634\n",
              "13                     Galicia    2698764       29574\n",
              "14                    La Rioja     314487        5045\n",
              "15                  País Vasco    2207776        7264\n",
              "16       Principado de Andorra      77006         468\n",
              "17            Región de Murcia    1493898       11314\n",
              "18                       Ceuta      85344          20\n",
              "19                     Melilla      86487          12"
            ],
            "text/html": [
              "\n",
              "  <div id=\"df-6466ea06-fd28-4166-9fa0-8930015c7a60\" class=\"colab-df-container\">\n",
              "    <div>\n",
              "<style scoped>\n",
              "    .dataframe tbody tr th:only-of-type {\n",
              "        vertical-align: middle;\n",
              "    }\n",
              "\n",
              "    .dataframe tbody tr th {\n",
              "        vertical-align: top;\n",
              "    }\n",
              "\n",
              "    .dataframe thead th {\n",
              "        text-align: right;\n",
              "    }\n",
              "</style>\n",
              "<table border=\"1\" class=\"dataframe\">\n",
              "  <thead>\n",
              "    <tr style=\"text-align: right;\">\n",
              "      <th></th>\n",
              "      <th>Jurisdiccion</th>\n",
              "      <th>Poblacion</th>\n",
              "      <th>Superficie</th>\n",
              "    </tr>\n",
              "  </thead>\n",
              "  <tbody>\n",
              "    <tr>\n",
              "      <th>0</th>\n",
              "      <td>Andalucía</td>\n",
              "      <td>8446561</td>\n",
              "      <td>87599</td>\n",
              "    </tr>\n",
              "    <tr>\n",
              "      <th>1</th>\n",
              "      <td>Aragón</td>\n",
              "      <td>1319291</td>\n",
              "      <td>47720</td>\n",
              "    </tr>\n",
              "    <tr>\n",
              "      <th>2</th>\n",
              "      <td>Asturias</td>\n",
              "      <td>1028244</td>\n",
              "      <td>10603</td>\n",
              "    </tr>\n",
              "    <tr>\n",
              "      <th>3</th>\n",
              "      <td>Baleares</td>\n",
              "      <td>1187805</td>\n",
              "      <td>4992</td>\n",
              "    </tr>\n",
              "    <tr>\n",
              "      <th>4</th>\n",
              "      <td>Canarias</td>\n",
              "      <td>2207225</td>\n",
              "      <td>7447</td>\n",
              "    </tr>\n",
              "    <tr>\n",
              "      <th>5</th>\n",
              "      <td>Cantabria</td>\n",
              "      <td>582206</td>\n",
              "      <td>5321</td>\n",
              "    </tr>\n",
              "    <tr>\n",
              "      <th>6</th>\n",
              "      <td>Castilla y León</td>\n",
              "      <td>2408083</td>\n",
              "      <td>94127</td>\n",
              "    </tr>\n",
              "    <tr>\n",
              "      <th>7</th>\n",
              "      <td>Castilla-La Mancha</td>\n",
              "      <td>2032863</td>\n",
              "      <td>79600</td>\n",
              "    </tr>\n",
              "    <tr>\n",
              "      <th>8</th>\n",
              "      <td>Cataluña</td>\n",
              "      <td>7675217</td>\n",
              "      <td>32114</td>\n",
              "    </tr>\n",
              "    <tr>\n",
              "      <th>9</th>\n",
              "      <td>Comunidad de Madrid</td>\n",
              "      <td>6640705</td>\n",
              "      <td>8028</td>\n",
              "    </tr>\n",
              "    <tr>\n",
              "      <th>10</th>\n",
              "      <td>Comunidad Foral de Navarra</td>\n",
              "      <td>661828</td>\n",
              "      <td>10391</td>\n",
              "    </tr>\n",
              "    <tr>\n",
              "      <th>11</th>\n",
              "      <td>Comunidad Valenciana</td>\n",
              "      <td>5003769</td>\n",
              "      <td>23255</td>\n",
              "    </tr>\n",
              "    <tr>\n",
              "      <th>12</th>\n",
              "      <td>Extremadura</td>\n",
              "      <td>1072863</td>\n",
              "      <td>41634</td>\n",
              "    </tr>\n",
              "    <tr>\n",
              "      <th>13</th>\n",
              "      <td>Galicia</td>\n",
              "      <td>2698764</td>\n",
              "      <td>29574</td>\n",
              "    </tr>\n",
              "    <tr>\n",
              "      <th>14</th>\n",
              "      <td>La Rioja</td>\n",
              "      <td>314487</td>\n",
              "      <td>5045</td>\n",
              "    </tr>\n",
              "    <tr>\n",
              "      <th>15</th>\n",
              "      <td>País Vasco</td>\n",
              "      <td>2207776</td>\n",
              "      <td>7264</td>\n",
              "    </tr>\n",
              "    <tr>\n",
              "      <th>16</th>\n",
              "      <td>Principado de Andorra</td>\n",
              "      <td>77006</td>\n",
              "      <td>468</td>\n",
              "    </tr>\n",
              "    <tr>\n",
              "      <th>17</th>\n",
              "      <td>Región de Murcia</td>\n",
              "      <td>1493898</td>\n",
              "      <td>11314</td>\n",
              "    </tr>\n",
              "    <tr>\n",
              "      <th>18</th>\n",
              "      <td>Ceuta</td>\n",
              "      <td>85344</td>\n",
              "      <td>20</td>\n",
              "    </tr>\n",
              "    <tr>\n",
              "      <th>19</th>\n",
              "      <td>Melilla</td>\n",
              "      <td>86487</td>\n",
              "      <td>12</td>\n",
              "    </tr>\n",
              "  </tbody>\n",
              "</table>\n",
              "</div>\n",
              "    <div class=\"colab-df-buttons\">\n",
              "\n",
              "  <div class=\"colab-df-container\">\n",
              "    <button class=\"colab-df-convert\" onclick=\"convertToInteractive('df-6466ea06-fd28-4166-9fa0-8930015c7a60')\"\n",
              "            title=\"Convert this dataframe to an interactive table.\"\n",
              "            style=\"display:none;\">\n",
              "\n",
              "  <svg xmlns=\"http://www.w3.org/2000/svg\" height=\"24px\" viewBox=\"0 -960 960 960\">\n",
              "    <path d=\"M120-120v-720h720v720H120Zm60-500h600v-160H180v160Zm220 220h160v-160H400v160Zm0 220h160v-160H400v160ZM180-400h160v-160H180v160Zm440 0h160v-160H620v160ZM180-180h160v-160H180v160Zm440 0h160v-160H620v160Z\"/>\n",
              "  </svg>\n",
              "    </button>\n",
              "\n",
              "  <style>\n",
              "    .colab-df-container {\n",
              "      display:flex;\n",
              "      gap: 12px;\n",
              "    }\n",
              "\n",
              "    .colab-df-convert {\n",
              "      background-color: #E8F0FE;\n",
              "      border: none;\n",
              "      border-radius: 50%;\n",
              "      cursor: pointer;\n",
              "      display: none;\n",
              "      fill: #1967D2;\n",
              "      height: 32px;\n",
              "      padding: 0 0 0 0;\n",
              "      width: 32px;\n",
              "    }\n",
              "\n",
              "    .colab-df-convert:hover {\n",
              "      background-color: #E2EBFA;\n",
              "      box-shadow: 0px 1px 2px rgba(60, 64, 67, 0.3), 0px 1px 3px 1px rgba(60, 64, 67, 0.15);\n",
              "      fill: #174EA6;\n",
              "    }\n",
              "\n",
              "    .colab-df-buttons div {\n",
              "      margin-bottom: 4px;\n",
              "    }\n",
              "\n",
              "    [theme=dark] .colab-df-convert {\n",
              "      background-color: #3B4455;\n",
              "      fill: #D2E3FC;\n",
              "    }\n",
              "\n",
              "    [theme=dark] .colab-df-convert:hover {\n",
              "      background-color: #434B5C;\n",
              "      box-shadow: 0px 1px 3px 1px rgba(0, 0, 0, 0.15);\n",
              "      filter: drop-shadow(0px 1px 2px rgba(0, 0, 0, 0.3));\n",
              "      fill: #FFFFFF;\n",
              "    }\n",
              "  </style>\n",
              "\n",
              "    <script>\n",
              "      const buttonEl =\n",
              "        document.querySelector('#df-6466ea06-fd28-4166-9fa0-8930015c7a60 button.colab-df-convert');\n",
              "      buttonEl.style.display =\n",
              "        google.colab.kernel.accessAllowed ? 'block' : 'none';\n",
              "\n",
              "      async function convertToInteractive(key) {\n",
              "        const element = document.querySelector('#df-6466ea06-fd28-4166-9fa0-8930015c7a60');\n",
              "        const dataTable =\n",
              "          await google.colab.kernel.invokeFunction('convertToInteractive',\n",
              "                                                    [key], {});\n",
              "        if (!dataTable) return;\n",
              "\n",
              "        const docLinkHtml = 'Like what you see? Visit the ' +\n",
              "          '<a target=\"_blank\" href=https://colab.research.google.com/notebooks/data_table.ipynb>data table notebook</a>'\n",
              "          + ' to learn more about interactive tables.';\n",
              "        element.innerHTML = '';\n",
              "        dataTable['output_type'] = 'display_data';\n",
              "        await google.colab.output.renderOutput(dataTable, element);\n",
              "        const docLink = document.createElement('div');\n",
              "        docLink.innerHTML = docLinkHtml;\n",
              "        element.appendChild(docLink);\n",
              "      }\n",
              "    </script>\n",
              "  </div>\n",
              "\n",
              "\n",
              "<div id=\"df-5ef7d03b-5808-4b6a-829d-813b0cdaf502\">\n",
              "  <button class=\"colab-df-quickchart\" onclick=\"quickchart('df-5ef7d03b-5808-4b6a-829d-813b0cdaf502')\"\n",
              "            title=\"Suggest charts\"\n",
              "            style=\"display:none;\">\n",
              "\n",
              "<svg xmlns=\"http://www.w3.org/2000/svg\" height=\"24px\"viewBox=\"0 0 24 24\"\n",
              "     width=\"24px\">\n",
              "    <g>\n",
              "        <path d=\"M19 3H5c-1.1 0-2 .9-2 2v14c0 1.1.9 2 2 2h14c1.1 0 2-.9 2-2V5c0-1.1-.9-2-2-2zM9 17H7v-7h2v7zm4 0h-2V7h2v10zm4 0h-2v-4h2v4z\"/>\n",
              "    </g>\n",
              "</svg>\n",
              "  </button>\n",
              "\n",
              "<style>\n",
              "  .colab-df-quickchart {\n",
              "      --bg-color: #E8F0FE;\n",
              "      --fill-color: #1967D2;\n",
              "      --hover-bg-color: #E2EBFA;\n",
              "      --hover-fill-color: #174EA6;\n",
              "      --disabled-fill-color: #AAA;\n",
              "      --disabled-bg-color: #DDD;\n",
              "  }\n",
              "\n",
              "  [theme=dark] .colab-df-quickchart {\n",
              "      --bg-color: #3B4455;\n",
              "      --fill-color: #D2E3FC;\n",
              "      --hover-bg-color: #434B5C;\n",
              "      --hover-fill-color: #FFFFFF;\n",
              "      --disabled-bg-color: #3B4455;\n",
              "      --disabled-fill-color: #666;\n",
              "  }\n",
              "\n",
              "  .colab-df-quickchart {\n",
              "    background-color: var(--bg-color);\n",
              "    border: none;\n",
              "    border-radius: 50%;\n",
              "    cursor: pointer;\n",
              "    display: none;\n",
              "    fill: var(--fill-color);\n",
              "    height: 32px;\n",
              "    padding: 0;\n",
              "    width: 32px;\n",
              "  }\n",
              "\n",
              "  .colab-df-quickchart:hover {\n",
              "    background-color: var(--hover-bg-color);\n",
              "    box-shadow: 0 1px 2px rgba(60, 64, 67, 0.3), 0 1px 3px 1px rgba(60, 64, 67, 0.15);\n",
              "    fill: var(--button-hover-fill-color);\n",
              "  }\n",
              "\n",
              "  .colab-df-quickchart-complete:disabled,\n",
              "  .colab-df-quickchart-complete:disabled:hover {\n",
              "    background-color: var(--disabled-bg-color);\n",
              "    fill: var(--disabled-fill-color);\n",
              "    box-shadow: none;\n",
              "  }\n",
              "\n",
              "  .colab-df-spinner {\n",
              "    border: 2px solid var(--fill-color);\n",
              "    border-color: transparent;\n",
              "    border-bottom-color: var(--fill-color);\n",
              "    animation:\n",
              "      spin 1s steps(1) infinite;\n",
              "  }\n",
              "\n",
              "  @keyframes spin {\n",
              "    0% {\n",
              "      border-color: transparent;\n",
              "      border-bottom-color: var(--fill-color);\n",
              "      border-left-color: var(--fill-color);\n",
              "    }\n",
              "    20% {\n",
              "      border-color: transparent;\n",
              "      border-left-color: var(--fill-color);\n",
              "      border-top-color: var(--fill-color);\n",
              "    }\n",
              "    30% {\n",
              "      border-color: transparent;\n",
              "      border-left-color: var(--fill-color);\n",
              "      border-top-color: var(--fill-color);\n",
              "      border-right-color: var(--fill-color);\n",
              "    }\n",
              "    40% {\n",
              "      border-color: transparent;\n",
              "      border-right-color: var(--fill-color);\n",
              "      border-top-color: var(--fill-color);\n",
              "    }\n",
              "    60% {\n",
              "      border-color: transparent;\n",
              "      border-right-color: var(--fill-color);\n",
              "    }\n",
              "    80% {\n",
              "      border-color: transparent;\n",
              "      border-right-color: var(--fill-color);\n",
              "      border-bottom-color: var(--fill-color);\n",
              "    }\n",
              "    90% {\n",
              "      border-color: transparent;\n",
              "      border-bottom-color: var(--fill-color);\n",
              "    }\n",
              "  }\n",
              "</style>\n",
              "\n",
              "  <script>\n",
              "    async function quickchart(key) {\n",
              "      const quickchartButtonEl =\n",
              "        document.querySelector('#' + key + ' button');\n",
              "      quickchartButtonEl.disabled = true;  // To prevent multiple clicks.\n",
              "      quickchartButtonEl.classList.add('colab-df-spinner');\n",
              "      try {\n",
              "        const charts = await google.colab.kernel.invokeFunction(\n",
              "            'suggestCharts', [key], {});\n",
              "      } catch (error) {\n",
              "        console.error('Error during call to suggestCharts:', error);\n",
              "      }\n",
              "      quickchartButtonEl.classList.remove('colab-df-spinner');\n",
              "      quickchartButtonEl.classList.add('colab-df-quickchart-complete');\n",
              "    }\n",
              "    (() => {\n",
              "      let quickchartButtonEl =\n",
              "        document.querySelector('#df-5ef7d03b-5808-4b6a-829d-813b0cdaf502 button');\n",
              "      quickchartButtonEl.style.display =\n",
              "        google.colab.kernel.accessAllowed ? 'block' : 'none';\n",
              "    })();\n",
              "  </script>\n",
              "</div>\n",
              "\n",
              "  <div id=\"id_73da6526-e5da-4685-ab1e-5919495bf386\">\n",
              "    <style>\n",
              "      .colab-df-generate {\n",
              "        background-color: #E8F0FE;\n",
              "        border: none;\n",
              "        border-radius: 50%;\n",
              "        cursor: pointer;\n",
              "        display: none;\n",
              "        fill: #1967D2;\n",
              "        height: 32px;\n",
              "        padding: 0 0 0 0;\n",
              "        width: 32px;\n",
              "      }\n",
              "\n",
              "      .colab-df-generate:hover {\n",
              "        background-color: #E2EBFA;\n",
              "        box-shadow: 0px 1px 2px rgba(60, 64, 67, 0.3), 0px 1px 3px 1px rgba(60, 64, 67, 0.15);\n",
              "        fill: #174EA6;\n",
              "      }\n",
              "\n",
              "      [theme=dark] .colab-df-generate {\n",
              "        background-color: #3B4455;\n",
              "        fill: #D2E3FC;\n",
              "      }\n",
              "\n",
              "      [theme=dark] .colab-df-generate:hover {\n",
              "        background-color: #434B5C;\n",
              "        box-shadow: 0px 1px 3px 1px rgba(0, 0, 0, 0.15);\n",
              "        filter: drop-shadow(0px 1px 2px rgba(0, 0, 0, 0.3));\n",
              "        fill: #FFFFFF;\n",
              "      }\n",
              "    </style>\n",
              "    <button class=\"colab-df-generate\" onclick=\"generateWithVariable('data_pandas')\"\n",
              "            title=\"Generate code using this dataframe.\"\n",
              "            style=\"display:none;\">\n",
              "\n",
              "  <svg xmlns=\"http://www.w3.org/2000/svg\" height=\"24px\"viewBox=\"0 0 24 24\"\n",
              "       width=\"24px\">\n",
              "    <path d=\"M7,19H8.4L18.45,9,17,7.55,7,17.6ZM5,21V16.75L18.45,3.32a2,2,0,0,1,2.83,0l1.4,1.43a1.91,1.91,0,0,1,.58,1.4,1.91,1.91,0,0,1-.58,1.4L9.25,21ZM18.45,9,17,7.55Zm-12,3A5.31,5.31,0,0,0,4.9,8.1,5.31,5.31,0,0,0,1,6.5,5.31,5.31,0,0,0,4.9,4.9,5.31,5.31,0,0,0,6.5,1,5.31,5.31,0,0,0,8.1,4.9,5.31,5.31,0,0,0,12,6.5,5.46,5.46,0,0,0,6.5,12Z\"/>\n",
              "  </svg>\n",
              "    </button>\n",
              "    <script>\n",
              "      (() => {\n",
              "      const buttonEl =\n",
              "        document.querySelector('#id_73da6526-e5da-4685-ab1e-5919495bf386 button.colab-df-generate');\n",
              "      buttonEl.style.display =\n",
              "        google.colab.kernel.accessAllowed ? 'block' : 'none';\n",
              "\n",
              "      buttonEl.onclick = () => {\n",
              "        google.colab.notebook.generateWithVariable('data_pandas');\n",
              "      }\n",
              "      })();\n",
              "    </script>\n",
              "  </div>\n",
              "\n",
              "    </div>\n",
              "  </div>\n"
            ],
            "application/vnd.google.colaboratory.intrinsic+json": {
              "type": "dataframe",
              "variable_name": "data_pandas",
              "summary": "{\n  \"name\": \"data_pandas\",\n  \"rows\": 20,\n  \"fields\": [\n    {\n      \"column\": \"Jurisdiccion\",\n      \"properties\": {\n        \"dtype\": \"string\",\n        \"num_unique_values\": 20,\n        \"samples\": [\n          \"Andaluc\\u00eda\",\n          \"Regi\\u00f3n de Murcia\",\n          \"Pa\\u00eds Vasco\"\n        ],\n        \"semantic_type\": \"\",\n        \"description\": \"\"\n      }\n    },\n    {\n      \"column\": \"Poblacion\",\n      \"properties\": {\n        \"dtype\": \"number\",\n        \"std\": 2547478,\n        \"min\": 77006,\n        \"max\": 8446561,\n        \"num_unique_values\": 20,\n        \"samples\": [\n          8446561,\n          1493898,\n          2207776\n        ],\n        \"semantic_type\": \"\",\n        \"description\": \"\"\n      }\n    },\n    {\n      \"column\": \"Superficie\",\n      \"properties\": {\n        \"dtype\": \"number\",\n        \"std\": 29998,\n        \"min\": 12,\n        \"max\": 94127,\n        \"num_unique_values\": 20,\n        \"samples\": [\n          87599,\n          11314,\n          7264\n        ],\n        \"semantic_type\": \"\",\n        \"description\": \"\"\n      }\n    }\n  ]\n}"
            }
          },
          "metadata": {},
          "execution_count": 31
        }
      ]
    },
    {
      "cell_type": "code",
      "source": [
        "print(data_pandas)"
      ],
      "metadata": {
        "colab": {
          "base_uri": "https://localhost:8080/"
        },
        "id": "Ul7m_zNRcEG_",
        "outputId": "2502f947-e7dc-46e9-9814-af6067569490"
      },
      "execution_count": 32,
      "outputs": [
        {
          "output_type": "stream",
          "name": "stdout",
          "text": [
            "                  Jurisdiccion  Poblacion  Superficie\n",
            "0                    Andalucía    8446561       87599\n",
            "1                       Aragón    1319291       47720\n",
            "2                     Asturias    1028244       10603\n",
            "3                     Baleares    1187805        4992\n",
            "4                     Canarias    2207225        7447\n",
            "5                    Cantabria     582206        5321\n",
            "6              Castilla y León    2408083       94127\n",
            "7           Castilla-La Mancha    2032863       79600\n",
            "8                     Cataluña    7675217       32114\n",
            "9          Comunidad de Madrid    6640705        8028\n",
            "10  Comunidad Foral de Navarra     661828       10391\n",
            "11        Comunidad Valenciana    5003769       23255\n",
            "12                 Extremadura    1072863       41634\n",
            "13                     Galicia    2698764       29574\n",
            "14                    La Rioja     314487        5045\n",
            "15                  País Vasco    2207776        7264\n",
            "16       Principado de Andorra      77006         468\n",
            "17            Región de Murcia    1493898       11314\n",
            "18                       Ceuta      85344          20\n",
            "19                     Melilla      86487          12\n"
          ]
        }
      ]
    },
    {
      "cell_type": "markdown",
      "metadata": {
        "id": "2UlnyR6O1P2d"
      },
      "source": [
        "**Ejercicio 1:** investigar las funciones que se implementan en la próxima celda. ¿Qué hacen? ¿Para qué piensan que pueden ser útiles?"
      ]
    },
    {
      "cell_type": "code",
      "metadata": {
        "id": "Y5wTHya41P2i",
        "colab": {
          "base_uri": "https://localhost:8080/",
          "height": 178
        },
        "outputId": "eb1ebbb9-5ec6-4e9c-c7c9-b5bf69dd504f"
      },
      "source": [
        "# data_pandas.head(2)\n",
        "# data_pandas.tail(5)\n",
        "data_pandas.count()\n",
        "# data_pandas.shape()"
      ],
      "execution_count": 37,
      "outputs": [
        {
          "output_type": "execute_result",
          "data": {
            "text/plain": [
              "Jurisdiccion    20\n",
              "Poblacion       20\n",
              "Superficie      20\n",
              "dtype: int64"
            ],
            "text/html": [
              "<div>\n",
              "<style scoped>\n",
              "    .dataframe tbody tr th:only-of-type {\n",
              "        vertical-align: middle;\n",
              "    }\n",
              "\n",
              "    .dataframe tbody tr th {\n",
              "        vertical-align: top;\n",
              "    }\n",
              "\n",
              "    .dataframe thead th {\n",
              "        text-align: right;\n",
              "    }\n",
              "</style>\n",
              "<table border=\"1\" class=\"dataframe\">\n",
              "  <thead>\n",
              "    <tr style=\"text-align: right;\">\n",
              "      <th></th>\n",
              "      <th>0</th>\n",
              "    </tr>\n",
              "  </thead>\n",
              "  <tbody>\n",
              "    <tr>\n",
              "      <th>Jurisdiccion</th>\n",
              "      <td>20</td>\n",
              "    </tr>\n",
              "    <tr>\n",
              "      <th>Poblacion</th>\n",
              "      <td>20</td>\n",
              "    </tr>\n",
              "    <tr>\n",
              "      <th>Superficie</th>\n",
              "      <td>20</td>\n",
              "    </tr>\n",
              "  </tbody>\n",
              "</table>\n",
              "</div><br><label><b>dtype:</b> int64</label>"
            ]
          },
          "metadata": {},
          "execution_count": 37
        }
      ]
    },
    {
      "cell_type": "markdown",
      "metadata": {
        "id": "uozfwkNo1P2w"
      },
      "source": [
        "**Ejercicio 2:** agregar al Dataset la información correspondiente a alguna jurisdicción faltante. Recuerden que, al tratarse de una nueva instancia, corresponde a una fila. Pista: googlear \"add row to pandas dataframe\" o similar. No hay una única forma de hacerlo."
      ]
    },
    {
      "cell_type": "code",
      "metadata": {
        "id": "i__cR4Hh1P2z"
      },
      "source": [
        "# COMPLETAR"
      ],
      "execution_count": null,
      "outputs": []
    },
    {
      "cell_type": "markdown",
      "metadata": {
        "id": "3XnYJjid1P2_"
      },
      "source": [
        "**Ejercicio 3:** Investigar las funciones columns e index. ¿Qué hacen? ¿Qué tipo de dato es su salida?¿A qué tipo de dato conocido se parecen?"
      ]
    },
    {
      "cell_type": "code",
      "metadata": {
        "id": "3TypUl1A1P3B"
      },
      "source": [
        "# data_pandas.columns\n",
        "# data_pandas.index"
      ],
      "execution_count": null,
      "outputs": []
    },
    {
      "cell_type": "markdown",
      "metadata": {
        "id": "EK-iDt4a1P3M"
      },
      "source": [
        "**Ejercicio 4:** ¿Qué hacen las siguientes operaciones?"
      ]
    },
    {
      "cell_type": "code",
      "metadata": {
        "id": "UAg6Cz5v1P3P"
      },
      "source": [
        "# data_pandas['Jurisdiccion']\n",
        "# data_pandas[['Jurisdiccion','Poblacion']]\n",
        "# data_pandas.Jurisdiccion\n",
        "# 'Poblacion' in data_pandas"
      ],
      "execution_count": null,
      "outputs": []
    },
    {
      "cell_type": "markdown",
      "metadata": {
        "id": "osTgGkDJ1P3X"
      },
      "source": [
        "**Ejercicio 5:** Agregar una columna al dataframe que corresponda a la densidad de cada jurisdicción. Usar la información que **ya está** en el dataset."
      ]
    },
    {
      "cell_type": "code",
      "metadata": {
        "id": "8E5lnSqG1P3c"
      },
      "source": [
        "# COMPLETAR"
      ],
      "execution_count": null,
      "outputs": []
    },
    {
      "cell_type": "markdown",
      "metadata": {
        "id": "svpqtSdf1P3l"
      },
      "source": [
        "### 2.2 Filtrado por máscara.\n",
        "\n",
        "Lo que veremos a continuación es **muy importante**, ya que es una operación que haremos muchas veces. Su implementación es muy parecida tanto en NumPy como en Pandas, por lo que veremos cómo hacerlo primero en NumPy luego en Pandas.\n",
        "\n",
        "Supongamos que hacemos 50 tiradas de un dado, como hicimos en la sección anterior, pero queremos seleccionar solamente aquellas tiradas que fueron menores que cuatro. ¿Cómo podemos hacerlo?"
      ]
    },
    {
      "cell_type": "code",
      "metadata": {
        "id": "w5IZFKI_1P3o"
      },
      "source": [
        "muestras_dado = np.random.randint(1,7, size = 50)\n",
        "print(muestras_dado)"
      ],
      "execution_count": null,
      "outputs": []
    },
    {
      "cell_type": "markdown",
      "metadata": {
        "id": "0QEABcgZ1P3y"
      },
      "source": [
        "Lo que podemos hacer es crear una máscara:"
      ]
    },
    {
      "cell_type": "code",
      "metadata": {
        "id": "STxwWNOi1P32"
      },
      "source": [
        "mascara = muestras_dado < 4\n",
        "print(mascara)\n",
        "print(type(mascara))"
      ],
      "execution_count": null,
      "outputs": []
    },
    {
      "cell_type": "markdown",
      "metadata": {
        "id": "IuAkOYoe1P4B"
      },
      "source": [
        "Notar que `mascara` es un arreglo de booleanos, con `True` en los valores que cumplen la condición y `False` donde no. Una vez que creamos la máscara, podemos usarla para seleccionar de nuestro arreglo aquellos elementos que queríamos:"
      ]
    },
    {
      "cell_type": "code",
      "metadata": {
        "id": "Cw8ZM97f1P4D"
      },
      "source": [
        "print(muestras_dado[mascara])"
      ],
      "execution_count": null,
      "outputs": []
    },
    {
      "cell_type": "markdown",
      "metadata": {
        "id": "0rjN7J3A1P4M"
      },
      "source": [
        "Notar que con `mascara.sum()` podemos contar cuántas veces se cumple la condición que pedimos."
      ]
    },
    {
      "cell_type": "code",
      "metadata": {
        "id": "cUHV-_OC1P4Q"
      },
      "source": [
        "print(mascara.sum())"
      ],
      "execution_count": null,
      "outputs": []
    },
    {
      "cell_type": "markdown",
      "metadata": {
        "id": "UosUz_mI1P4X"
      },
      "source": [
        "A veces, podemos hacerlo en una sola línea. Supongamos que queremos aquellas tiradas donde salió seis:"
      ]
    },
    {
      "cell_type": "code",
      "metadata": {
        "id": "do9s_9vn1P4Y"
      },
      "source": [
        "print(muestras_dado[muestras_dado == 6])"
      ],
      "execution_count": null,
      "outputs": []
    },
    {
      "cell_type": "markdown",
      "metadata": {
        "id": "ZI1fVYFf1P4g"
      },
      "source": [
        "**En Pandas**\n",
        "\n",
        "Supongamos que queremos seleccionar aquellas jurisdicciones cuya población sea mayor a un millón de habitantes. Podemos hacerlo de la siguiente forma:"
      ]
    },
    {
      "cell_type": "code",
      "metadata": {
        "id": "n2sWVVBz1P4i"
      },
      "source": [
        "data_pandas[data_pandas.Poblacion > 1000000]"
      ],
      "execution_count": null,
      "outputs": []
    },
    {
      "cell_type": "markdown",
      "metadata": {
        "id": "pZo21ebL1P5G"
      },
      "source": [
        "¿Y si queremos seleccionar aquellas jurisdicciones cuya población sea mayor a un millón de habitantes **y** su superficie menor a cien mil km2?"
      ]
    },
    {
      "cell_type": "code",
      "metadata": {
        "id": "Gia9i3AB1P5L"
      },
      "source": [
        "mascara = np.logical_and(data_pandas.Poblacion > 1000000, data_pandas.Superficie < 100000)\n",
        "data_pandas[mascara]\n",
        "\n",
        "### Es equivalente\n",
        "# data_pandas[(data_pandas.Poblacion > 1000000) & (data_pandas.Superficie < 100000)]"
      ],
      "execution_count": null,
      "outputs": []
    },
    {
      "cell_type": "markdown",
      "metadata": {
        "id": "Z057NM351P5W"
      },
      "source": [
        "**Ejercicio:** seleccionar aquellas jurisdicciones cuya población sea menor a 500 mil habitantes **o** su superficie mayor a cien mil km2."
      ]
    },
    {
      "cell_type": "code",
      "metadata": {
        "id": "EWJwPrS61P5Z"
      },
      "source": [
        "# COMPLETAR"
      ],
      "execution_count": null,
      "outputs": []
    },
    {
      "cell_type": "markdown",
      "metadata": {
        "id": "H1nzSLbJ1P5g"
      },
      "source": [
        "## 2.3 Iris dataset\n",
        "\n",
        "¿Pero siempre vamos a tener que crear un diccionario y luego pasarlo a un Data Frame? Evidentemente, esta opción no parece muy cómoda, en particular para conjuntos de datos de gran volumen. Veamos cómo trabajamos con un conjunto de datos preexistente.\n",
        "\n",
        "\n",
        "**Aviso**: Esta sección es, en realidad, un ejercicio. Para hacerlo, debes ir googleando y consultando la documentación que consideres apropiada. Obviamente, también puedes consultar a tu mentor/a.\n",
        "\n",
        "Vamos a trabajar con el Iris Dataset, probablemente uno de los conjuntos de datos más famosos, ya que muchos ejemplos se realizan con él. Es un dataset sencillo pero ilustrativo.\n",
        "\n",
        "\n",
        "1. Abrir con Pandas el archivo 'iris.csv' (¿Qué tipo de archivo es?) e imprimir sus primeros cinco elementos. Pista: `pd.read...()`."
      ]
    },
    {
      "cell_type": "code",
      "metadata": {
        "id": "c6WItGqC1P5i"
      },
      "source": [
        "# COMPLETAR"
      ],
      "execution_count": null,
      "outputs": []
    },
    {
      "cell_type": "markdown",
      "metadata": {
        "id": "IcsJiYe31P5p"
      },
      "source": [
        "2. ¿Cuántas columnas (features) tiene?¿Cuáles son sus nombres?¿Y cuántas filas (instancias)? Pistas: `shape`, `columns`."
      ]
    },
    {
      "cell_type": "code",
      "metadata": {
        "id": "BqDWhNM51P5r"
      },
      "source": [
        "# COMPLETAR"
      ],
      "execution_count": null,
      "outputs": []
    },
    {
      "cell_type": "markdown",
      "metadata": {
        "id": "LnO-Yoyh1P50"
      },
      "source": [
        "3. Obtener el valor medio y desviación estándar de cada columna. ¿Hay alguna función de Pandas que nos dé aún más estadísticos? Pistas: `describe`."
      ]
    },
    {
      "cell_type": "code",
      "metadata": {
        "id": "wTPFg2yT1P52"
      },
      "source": [
        "# COMPLETAR"
      ],
      "execution_count": null,
      "outputs": []
    },
    {
      "cell_type": "markdown",
      "metadata": {
        "id": "h0hQVgt21P58"
      },
      "source": [
        "4. ¿Creen que todas las columnas tienen información? *Tirar* la columna que crean que está demás. Dependiendo de la función que uses - hay más de una opción -, tal vez tengas que prestar **mucha** atención al argumento `inplace`. Pista: `drop`, `del`."
      ]
    },
    {
      "cell_type": "code",
      "metadata": {
        "id": "FMWb9yIz1P5_"
      },
      "source": [
        "# COMPLETAR"
      ],
      "execution_count": null,
      "outputs": []
    },
    {
      "cell_type": "markdown",
      "metadata": {
        "id": "xZc3ROA1uwsi"
      },
      "source": [
        "5. ¿Para qué sirven `loc` e `iloc`? Crea algunos ejemplos."
      ]
    },
    {
      "cell_type": "code",
      "metadata": {
        "id": "o7t65DAn1P6H"
      },
      "source": [],
      "execution_count": null,
      "outputs": []
    }
  ]
}