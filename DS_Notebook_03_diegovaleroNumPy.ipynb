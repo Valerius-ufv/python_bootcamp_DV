{
  "cells": [
    {
      "cell_type": "markdown",
      "metadata": {
        "id": "view-in-github",
        "colab_type": "text"
      },
      "source": [
        "<a href=\"https://colab.research.google.com/github/Valerius-ufv/python_bootcamp_DV/blob/main/DS_Notebook_03_diegovaleroNumPy.ipynb\" target=\"_parent\"><img src=\"https://colab.research.google.com/assets/colab-badge.svg\" alt=\"Open In Colab\"/></a>"
      ]
    },
    {
      "cell_type": "markdown",
      "metadata": {
        "id": "Ev_oEXjx6w9Q"
      },
      "source": [
        "# Programación y NumPy\n",
        "\n",
        "En la primera parte de este notebook seguiremos explorando algunas cuestiones de programación. En la segunda parte, empezaremos a trabajar con NumPy, nuestra primera librería.\n",
        "\n",
        "## 1. Programación\n",
        "\n",
        "### 1.1 Operaciones Lógicas\n",
        "\n",
        "Comencemos viendo cómo implementar lo que vimos en la presentación de operaciones lógicas. Te recomendamos tenerla cerca así puedes consultarla.\n",
        "\n",
        "En primer lugar, la operación `not` es simplemente la negación del booleano."
      ]
    },
    {
      "cell_type": "code",
      "execution_count": null,
      "metadata": {
        "id": "kv2eNRpePBOy",
        "colab": {
          "base_uri": "https://localhost:8080/"
        },
        "outputId": "f8fcaf7b-4fd7-4c14-8a53-751fdd05b9f0"
      },
      "outputs": [
        {
          "output_type": "stream",
          "name": "stdout",
          "text": [
            "False\n",
            "True\n"
          ]
        }
      ],
      "source": [
        "variable_1 = True\n",
        "print(not(variable_1))\n",
        "\n",
        "variable_2 = False\n",
        "print(not(variable_2))"
      ]
    },
    {
      "cell_type": "markdown",
      "metadata": {
        "id": "LpCJFNp56w-F"
      },
      "source": [
        "La operación `and` nos devuelve `True` unicamente cuando ambas variables son verdaderas. Experimentar con la celda inferior y comprobar su tabla de verdad."
      ]
    },
    {
      "cell_type": "code",
      "execution_count": null,
      "metadata": {
        "id": "mHPhaiiJPBOv",
        "colab": {
          "base_uri": "https://localhost:8080/"
        },
        "outputId": "7c4811c1-2951-4dd8-d88c-e6cbf7b76ae7"
      },
      "outputs": [
        {
          "output_type": "stream",
          "name": "stdout",
          "text": [
            "True\n",
            "True\n"
          ]
        }
      ],
      "source": [
        "variable_1 = True\n",
        "variable_2 = True\n",
        "print(variable_1 and variable_2)\n",
        "print(variable_1 & variable_2)"
      ]
    },
    {
      "cell_type": "markdown",
      "metadata": {
        "id": "tIzs0GsO6w-k"
      },
      "source": [
        "**Ejercicio:** comprobar la tabla de verdad de la operación `or` jugando con la celda siguiente. Viene con trampa(s)."
      ]
    },
    {
      "cell_type": "code",
      "execution_count": null,
      "metadata": {
        "id": "i9QxO0SgPBO3",
        "colab": {
          "base_uri": "https://localhost:8080/"
        },
        "outputId": "450be6cb-26cf-46ad-ac26-558efe6aa20a"
      },
      "outputs": [
        {
          "output_type": "stream",
          "name": "stdout",
          "text": [
            "True\n",
            "True\n"
          ]
        }
      ],
      "source": [
        "A = False\n",
        "C = True\n",
        "A_or_B = variable_1 or variable_2\n",
        "print(A_or_B)\n",
        "A_or_B = variable_1 | variable_2\n",
        "print(A_or_B)"
      ]
    },
    {
      "cell_type": "markdown",
      "metadata": {
        "id": "oa016g7sPBP2"
      },
      "source": [
        "### 1.2 Estructuras de control - Condicionales\n",
        "\n",
        "Los condicionales nos permiten ejecutar o no un bloque de codigo dependiendo de ciertas condiciones. En lenguaje coloquial, vendrían a ser del estilo de \"Si se cumple esta condición, hace A. Si no se cumple, hace B\", donde B puede ser, simplemente, no hacer nada. Veamos qué formas toman.\n",
        "\n",
        "### 1.2.1 If\n",
        "\n",
        "El condicional más simple es el `if`. Para mayor claridad escribiremos la condicion entre parentesis (), aunque esto no es necesario. Su estructura es\n",
        "\n",
        "``` python\n",
        "if condicion:\n",
        "    Si se cumple la condición, se ejecutan estas líneas de código\n",
        "```\n",
        "\n",
        "Veamos algunos ejemplos:"
      ]
    },
    {
      "cell_type": "code",
      "execution_count": null,
      "metadata": {
        "id": "TYisVuiEPBP4"
      },
      "outputs": [],
      "source": [
        "valor = 5\n",
        "if (valor > 10):\n",
        "    print('El valor es mayor que 10')"
      ]
    },
    {
      "cell_type": "markdown",
      "metadata": {
        "id": "-hz-IXpJPBP6"
      },
      "source": [
        "Prestar atención a que la condición debe ser un booleano"
      ]
    },
    {
      "cell_type": "code",
      "execution_count": null,
      "metadata": {
        "id": "BCXXXwRMPBP7",
        "colab": {
          "base_uri": "https://localhost:8080/"
        },
        "outputId": "a3a21be1-52e5-41e6-d089-5b85aaf217f5"
      },
      "outputs": [
        {
          "output_type": "stream",
          "name": "stdout",
          "text": [
            "True\n",
            "<class 'bool'>\n"
          ]
        }
      ],
      "source": [
        "print(valor > 10)\n",
        "print(type(valor > 10))"
      ]
    },
    {
      "cell_type": "markdown",
      "metadata": {
        "id": "b8smKAgj6w_Y"
      },
      "source": [
        "**Nota:** para comparar variables, tenemos las operaciones menor `<`, mayor `>`, igualdad `==`, menor o igual  `<=`, y mayor o igual `>=`."
      ]
    },
    {
      "cell_type": "code",
      "execution_count": null,
      "metadata": {
        "id": "ZxEo7yDf6w_b",
        "colab": {
          "base_uri": "https://localhost:8080/"
        },
        "outputId": "6c2ec326-1b4e-4979-f936-26c15c22f475"
      },
      "outputs": [
        {
          "output_type": "stream",
          "name": "stdout",
          "text": [
            "True\n",
            "True\n",
            "True\n"
          ]
        }
      ],
      "source": [
        "print(3 == 3)\n",
        "print(3 <= 3)\n",
        "print(3 >= 3)\n"
      ]
    },
    {
      "cell_type": "markdown",
      "metadata": {
        "id": "zaIO1UwlPBP_"
      },
      "source": [
        "### 1.2.2 If, Else\n",
        "\n",
        "A la estrucutra con `if` se le puede agregar otro bloque de codigo que se ejecute si la condición exigida NO se cumple. Esto se logra mediante la expresión `else`.\n",
        "\n",
        "``` python\n",
        "if condicion:\n",
        "    Si se cumple la condición, se ejecutan estas líneas de código\n",
        "else:\n",
        "    Si NO se cumple la condición, se ejecutan estas líneas de código\n",
        "```"
      ]
    },
    {
      "cell_type": "code",
      "execution_count": null,
      "metadata": {
        "id": "Hf8xuG6iPBP_",
        "colab": {
          "base_uri": "https://localhost:8080/"
        },
        "outputId": "d2165d32-d1d0-41a3-e47a-e8cdde7290c4"
      },
      "outputs": [
        {
          "output_type": "stream",
          "name": "stdout",
          "text": [
            "Esta persona se llama Juan\n"
          ]
        }
      ],
      "source": [
        "nombre = 'Juan'\n",
        "\n",
        "if (nombre == 'Juan') or (nombre == 'juan') or (nombre == 'JUAN'):\n",
        "    print('Esta persona se llama Juan')\n",
        "else:\n",
        "    print('Esta persona NO se llama Juan')"
      ]
    },
    {
      "cell_type": "markdown",
      "metadata": {
        "id": "R5prOWCT6w_3"
      },
      "source": [
        "Prestar atención, nuevamente, a que la condición - lo que está entre paréntesis - es un booleano."
      ]
    },
    {
      "cell_type": "code",
      "execution_count": null,
      "metadata": {
        "id": "GVfCLIQyPBQB"
      },
      "outputs": [],
      "source": [
        "'Juan'=='Pedro'"
      ]
    },
    {
      "cell_type": "markdown",
      "metadata": {
        "id": "1AJNWoqhPBQJ"
      },
      "source": [
        "### 1.2.3 If, Elif, Else\n",
        "A esta estructura se le pueden sumar tantas condiciones encadenadas como uno desee, mediante la expresión `elif`. El orden en que se van chequeando las condiciones depende de su posición, priemero se chequea el `if`, luego el primer `elif`, luego el segundo, y así sucesivamente.\n",
        "\n",
        "``` python\n",
        "if condicion_1:\n",
        "    Si se cumple la condicion_1 , se ejecutan estas líneas de código\n",
        "elif condicion_2:\n",
        "    Si se cumple la condicion_2 , se ejecutan estas líneas de código\n",
        "elif condicion_3:\n",
        "    Si se cumple la condicion_3 , se ejecutan estas líneas de código\n",
        "else:\n",
        "    Si NO se cumple ninguna de las condiciones anteriores, se ejecutan líneas celdas de código\n",
        "```\n"
      ]
    },
    {
      "cell_type": "code",
      "execution_count": null,
      "metadata": {
        "id": "psA9onaFPBQL",
        "colab": {
          "base_uri": "https://localhost:8080/"
        },
        "outputId": "353a401c-03f5-431f-d6a8-011d61cbfbe4"
      },
      "outputs": [
        {
          "output_type": "stream",
          "name": "stdout",
          "text": [
            "Esta persona tiene mas de 18 años\n"
          ]
        }
      ],
      "source": [
        "edad = 20\n",
        "\n",
        "if (edad < 18):\n",
        "    print('Esta persona tiene menos de 18 años')\n",
        "elif (edad > 18):\n",
        "    print('Esta persona tiene mas de 18 años')\n",
        "else:\n",
        "    print('Esta persona tiene justo 18 años')"
      ]
    },
    {
      "cell_type": "markdown",
      "metadata": {
        "id": "ZHXdIEkSW6wa"
      },
      "source": [
        "**Ejercicio**: Escriba un bloque de código que, dado un número, imprima la frase \"El numero es par\" si el número es par o la frase \"El numero es impar\" si no lo es."
      ]
    },
    {
      "cell_type": "code",
      "execution_count": null,
      "metadata": {
        "id": "7uWbEw9BYAL4",
        "colab": {
          "base_uri": "https://localhost:8080/"
        },
        "outputId": "4994b4f2-6843-4931-9f23-9caf0b67c92a"
      },
      "outputs": [
        {
          "output_type": "stream",
          "name": "stdout",
          "text": [
            "El número es par\n"
          ]
        }
      ],
      "source": [
        "numero = 18\n",
        "\n",
        "if numero % 2 == 0:\n",
        "    print('El número es par')\n",
        "else:\n",
        "    print('El numero es impar')"
      ]
    },
    {
      "cell_type": "code",
      "source": [
        "numero = 17\n",
        "\n",
        "print(numero % 2 == 0)"
      ],
      "metadata": {
        "colab": {
          "base_uri": "https://localhost:8080/"
        },
        "id": "ClWpbixTCQww",
        "outputId": "97f514f9-ac8b-41ae-e591-3cad4635b563"
      },
      "execution_count": null,
      "outputs": [
        {
          "output_type": "stream",
          "name": "stdout",
          "text": [
            "False\n"
          ]
        }
      ]
    },
    {
      "cell_type": "markdown",
      "metadata": {
        "id": "qecxWClXPBQM"
      },
      "source": [
        "### 1.3 Combinando estructuras de código\n",
        "\n",
        "Las estructuras de loops que vimos en el notebook anterior y condicionales que aprendimos se pueden combinar para generar comportamientos más complejos. Supongamos que tenemos una lista de edades y nos queremos quedar con aquellas que sean mayores que 18 años. Podemos hacer lo siguiente:"
      ]
    },
    {
      "cell_type": "code",
      "execution_count": null,
      "metadata": {
        "id": "69DHgsOjPBQN",
        "colab": {
          "base_uri": "https://localhost:8080/"
        },
        "outputId": "437b954a-f8b6-4d5c-ab27-79d829a24e7f"
      },
      "outputs": [
        {
          "output_type": "stream",
          "name": "stdout",
          "text": [
            "[20, 29, 42, 18]\n"
          ]
        }
      ],
      "source": [
        "lista_de_edades = [4,20,15,29,11,42,10,18]\n",
        "lista_mayores = []\n",
        "\n",
        "for edad in lista_de_edades:\n",
        "    if (edad >= 18):\n",
        "        # Agremos a la lista de mayores\n",
        "        lista_mayores.append(edad)\n",
        "\n",
        "print(lista_mayores)"
      ]
    },
    {
      "cell_type": "markdown",
      "metadata": {
        "id": "IeZnpQLV6xAv"
      },
      "source": [
        "### 1.4 Operaciones lógicas y estructuras de control\n",
        "\n",
        "A veces, queremos ejecutar una línea de código si se cumple más de una condición. Esto se puede lograr fácilmente usando las operaciones lógicas que vimos. Supongamos que tenemos una lista de números, y queremos seleccionar aquellos que cumplan ciertas propiedades. Por ejemplo, que son mayores o iguales que 5 y menores que 20. Podríamos hacer lo siguiente:"
      ]
    },
    {
      "cell_type": "code",
      "execution_count": null,
      "metadata": {
        "id": "sC-PhM3o6xA0",
        "colab": {
          "base_uri": "https://localhost:8080/"
        },
        "outputId": "877b5d4e-fd5e-450c-89da-5edd8c4368dd"
      },
      "outputs": [
        {
          "output_type": "stream",
          "name": "stdout",
          "text": [
            "6\n",
            "17\n",
            "5\n",
            "6\n",
            "13\n",
            "15\n",
            "[6, 17, 5, 6, 13, 15]\n"
          ]
        }
      ],
      "source": [
        "numeros = [0,3,1,4,6,17,3,89,5,6,4,13,25,4,3,23,1,15,2]\n",
        "seleccionados = []\n",
        "for numero in numeros:\n",
        "    if numero >= 5:\n",
        "        if numero < 20:\n",
        "            print(numero)\n",
        "            seleccionados.append(numero)\n",
        "print(seleccionados)"
      ]
    },
    {
      "cell_type": "markdown",
      "metadata": {
        "id": "Tc_42Pgi6xA8"
      },
      "source": [
        "Notar que los números seleccionados cumplen los requisitos que pedimos. Pero también podríamos hacerlo así:"
      ]
    },
    {
      "cell_type": "code",
      "execution_count": null,
      "metadata": {
        "id": "GgeeSiSK6xBA",
        "colab": {
          "base_uri": "https://localhost:8080/"
        },
        "outputId": "bd37a5a9-5243-4297-e3f0-33425d4c174b"
      },
      "outputs": [
        {
          "output_type": "stream",
          "name": "stdout",
          "text": [
            "[6, 17, 5, 6, 13, 25, 15]\n"
          ]
        }
      ],
      "source": [
        "numeros = [0,3,1,4,6,17,3,89,5,6,4,13,25,4,3,23,1,15,2]\n",
        "seleccionados = []\n",
        "for numero in numeros:\n",
        "    if numero >= 5 and numero < 20 or (numero == 25):\n",
        "        seleccionados.append(numero)\n",
        "print(seleccionados)"
      ]
    },
    {
      "cell_type": "markdown",
      "metadata": {
        "id": "bp86CHMb6xBI"
      },
      "source": [
        "El resultado es el mismo. Si bien esta forma es más compacta, no necesariamente implica que sea mejor. Uno/a elije hacerlo de una u otra forma según lo que le parezca más claro; si ambas condiciones juntas son difíciles de leer, tal vez puedes usar la primera forma.\n",
        "\n",
        "**Ejercicio**: Modifica el ejemplo anterior para que seleccione aquellos números **mayores** que 5 **o** impares."
      ]
    },
    {
      "cell_type": "code",
      "execution_count": null,
      "metadata": {
        "id": "AVpW_iRp6xBL",
        "colab": {
          "base_uri": "https://localhost:8080/"
        },
        "outputId": "c05663dd-9e7f-49a1-e51e-c532dbe20e7d"
      },
      "outputs": [
        {
          "output_type": "stream",
          "name": "stdout",
          "text": [
            "[3, 1, 6, 17, 3, 89, 5, 6, 13, 25, 3, 23, 1, 15]\n"
          ]
        }
      ],
      "source": [
        "numeros = [0,3,1,4,6,17,3,89,5,6,4,13,25,4,3,23,1,15,2]\n",
        "seleccionados = []\n",
        "for numero in numeros:\n",
        "    if (numero > 5) or (numero % 2 == 1):\n",
        "        seleccionados.append(numero)\n",
        "print(seleccionados)"
      ]
    },
    {
      "cell_type": "markdown",
      "metadata": {
        "id": "3t8rRW2j6xBU"
      },
      "source": [
        "### Ejercitación\n",
        "\n",
        "**Ejercicio 1**: ¿Qué pasa si sumás, restás, multiplicás o dividís booleanos? Pruébalo e interpreta."
      ]
    },
    {
      "cell_type": "code",
      "execution_count": null,
      "metadata": {
        "id": "d1FkUOkT6xBW",
        "colab": {
          "base_uri": "https://localhost:8080/"
        },
        "outputId": "62a9fba5-9247-4121-dd44-37394b638a65"
      },
      "outputs": [
        {
          "output_type": "stream",
          "name": "stdout",
          "text": [
            "2\n",
            "1\n",
            "0\n",
            "1\n",
            "1.0\n",
            "<class 'float'>\n"
          ]
        }
      ],
      "source": [
        "print(True + True)\n",
        "print(True + False)\n",
        "print(True*False)\n",
        "print(True*True)\n",
        "print(True / True) # Al dividir TRUE/FALSE sale error por el primero lo reconoce con el valor 1 y el segundo con el valor 0\n",
        "\n",
        "print(type(True/True))"
      ]
    },
    {
      "cell_type": "markdown",
      "metadata": {
        "id": "Rn69wJ-y6xBg"
      },
      "source": [
        "**Ejercicio 2**: Hacer una estructur `if/else` que compare dos variables numéricas `A` y `B` y que decida cuál es mayor e imprima en pantalla \"A es mayor que B\" o \"B es mayor que A\" ."
      ]
    },
    {
      "cell_type": "code",
      "execution_count": null,
      "metadata": {
        "id": "NUxrQf9A6xBs",
        "colab": {
          "base_uri": "https://localhost:8080/"
        },
        "outputId": "5ecb204b-bfe4-42f1-8a18-9f9b2254a613"
      },
      "outputs": [
        {
          "output_type": "stream",
          "name": "stdout",
          "text": [
            "B es mayor que A\n"
          ]
        }
      ],
      "source": [
        "A = 3\n",
        "B = 4\n",
        "if (A > B):\n",
        "   print(\"A es mayor que B\")\n",
        "else:\n",
        "   print(\"B es mayor que A\")"
      ]
    },
    {
      "cell_type": "markdown",
      "metadata": {
        "id": "LcNOZBVO6xBz"
      },
      "source": [
        "**Ejercicio 3 - Challenge**: Dada la siguiente lista de numeros:"
      ]
    },
    {
      "cell_type": "code",
      "execution_count": null,
      "metadata": {
        "id": "nixTh2uwPBQQ"
      },
      "outputs": [],
      "source": [
        "numeros = [4,5,1,3,5,7,8,1,3,4,1,7,8,1,3,4,5,2,1,2,4,5]"
      ]
    },
    {
      "cell_type": "markdown",
      "metadata": {
        "id": "XLWP4dKfPBQS"
      },
      "source": [
        "Escribir una rutina que calcule la suma de los números **pares menores que 5** en esta lista. **Pistas:**\n",
        "* Hay muchas formas de hacerlo, si piensas en más de una, mejor. Pero trata de tomar los ejemplos que vimos en este notebook.\n",
        "* El resultado es 20.\n",
        "* Recuerda que puedes inicializar una variable en cero, y luego ir modificándola en un loop. Hicimos algo así en el notebook anterior con una variable que llamamos `i` y en el ejercicio 5 del mismo notebook."
      ]
    },
    {
      "cell_type": "code",
      "execution_count": null,
      "metadata": {
        "id": "Rl2hqB-e6xB_",
        "colab": {
          "base_uri": "https://localhost:8080/"
        },
        "outputId": "f71451aa-9254-47d2-acfe-b872d8959862"
      },
      "outputs": [
        {
          "output_type": "stream",
          "name": "stdout",
          "text": [
            "20\n"
          ]
        }
      ],
      "source": [
        "numeros = [4,5,1,3,5,7,8,1,3,4,1,7,8,1,3,4,5,2,1,2,4,5]\n",
        "suma = 0\n",
        "for numero in numeros:\n",
        "    if (numero < 5) and (numero % 2 == 0):\n",
        "        suma = suma + numero\n",
        "print(suma)"
      ]
    },
    {
      "cell_type": "markdown",
      "metadata": {
        "id": "EOZ7KmA46xCG"
      },
      "source": [
        "**Ejercicio 4 - Challenge Opcional**: Dada la siguiente lista de numeros:"
      ]
    },
    {
      "cell_type": "code",
      "execution_count": 1,
      "metadata": {
        "id": "aaYZXXHi6xCI",
        "outputId": "8ab06906-86c7-4273-ec4d-67509c1b348e",
        "colab": {
          "base_uri": "https://localhost:8080/"
        }
      },
      "outputs": [
        {
          "output_type": "stream",
          "name": "stdout",
          "text": [
            "['2', '3', '2', '3', '2', '2', '2', '2', '3', '2', '3', '1', '3', '1', '2', '2', '2', '2', '2', '2', '2', '2', '1', '2', '3', '2', '2', '2', '2', '1', '2', '3', '2', '2', '3', '2', '3', '3', '2', '2', '1', '3', '3', '2', '3', '2', '2', '1', '2', '1', '1', '2', '2', '3', '2', '2', '2', '3', '2', '2', '2', '1', '2', '2', '3', '2', '2', '2', '2', '1', '2', '2', '2', '2', '3', '1', '2', '3', '3', '2', '3', '2', '2', '3', '3', '1', '1', '3', '2', '1', '2', '2', '2', '1', '1', '2', '2', '2', '2', '2', '2', '2', '3', '3', '1', '3', '3', '3', '2', '2', '2', '2', '2', '2', '2', '3', '3', '2', '2', '3', '2', '2', '2', '2', '2', '3', '3', '2', '2', '1', '3', '2', '2', '2', '3', '2', '3', '1', '3', '3', '2', '3', '3', '2', '2', '2', '2', '2', '2', '1', '2', '2', '1', '2', '3', '2', '1', '3', '1', '2', '3', '3', '3', '2', '3', '1', '3', '2', '3', '1', '2', '2', '2', '3', '3', '2', '2', '2', '2', '2', '3', '1', '2', '3', '3', '2', '2', '3', '2', '2', '2', '3', '2', '2', '2', '2', '1', '2', '3', '1', '3', '2', '2', '3', '3', '3', '2', '2', '1', '1']\n"
          ]
        }
      ],
      "source": [
        "numeros_en_texto = ['2', '3', '2', '3', '2', '2', '2', '2', '3', '2', '3', '1', '3', '1', '2', '2', '2', '2', '2', '2', '2', '2', '1', '2', '3', '2', '2', '2', '2', '1', '2', '3', '2', '2', '3', '2', '3', '3', '2', '2', '1', '3', '3', '2', '3', '2', '2', '1', '2', '1', '1', '2', '2', '3', '2', '2', '2', '3', '2', '2', '2', '1', '2', '2', '3', '2', '2', '2', '2', '1', '2', '2', '2', '2', '3', '1', '2', '3', '3', '2', '3', '2', '2', '3', '3', '1', '1', '3', '2', '1', '2', '2', '2', '1', '1', '2', '2', '2', '2', '2', '2', '2', '3', '3', '1', '3', '3', '3', '2', '2', '2', '2', '2', '2', '2', '3', '3', '2', '2', '3', '2', '2', '2', '2', '2', '3', '3', '2', '2', '1', '3', '2', '2', '2', '3', '2', '3', '1', '3', '3', '2', '3', '3', '2', '2', '2', '2', '2', '2', '1', '2', '2', '1', '2', '3', '2', '1', '3', '1', '2', '3', '3', '3', '2', '3', '1', '3', '2', '3', '1', '2', '2', '2', '3', '3', '2', '2', '2', '2', '2', '3', '1', '2', '3', '3', '2', '2', '3', '2', '2', '2', '3', '2', '2', '2', '2', '1', '2', '3', '1', '3', '2', '2', '3', '3', '3', '2', '2', '1', '1']\n",
        "print(numeros_en_texto)"
      ]
    },
    {
      "cell_type": "markdown",
      "metadata": {
        "id": "7csAGf6h6xCQ"
      },
      "source": [
        "Calcule la suma de los unos (1) y los tres (3) en esta lista. Nuevamente, hay muchas formas de hacerlo. **Pistas:**\n",
        "* El resultado es 210.\n",
        "* Puede reciclar código de ejemplos anteriores y del ejercicio anterior.\n",
        "* Se pueden comparar strings, ver ejemplo más arriba.\n",
        "* También se pueden forzar tipos de datos. Por ejemplo, `int('4')` nos devuelve un 4, entero.\n",
        "* Se puede resolver sin usar todas las pistas"
      ]
    },
    {
      "cell_type": "code",
      "execution_count": null,
      "metadata": {
        "id": "vOghc-f86xCT",
        "colab": {
          "base_uri": "https://localhost:8080/"
        },
        "outputId": "16b0f79d-6e0e-4256-8a75-4400d0781424"
      },
      "outputs": [
        {
          "output_type": "stream",
          "name": "stdout",
          "text": [
            "['2', '3', '2', '3', '2', '2', '2', '2', '3', '2', '3', '1', '3', '1', '2', '2', '2', '2', '2', '2', '2', '2', '1', '2', '3', '2', '2', '2', '2', '1', '2', '3', '2', '2', '3', '2', '3', '3', '2', '2', '1', '3', '3', '2', '3', '2', '2', '1', '2', '1', '1', '2', '2', '3', '2', '2', '2', '3', '2', '2', '2', '1', '2', '2', '3', '2', '2', '2', '2', '1', '2', '2', '2', '2', '3', '1', '2', '3', '3', '2', '3', '2', '2', '3', '3', '1', '1', '3', '2', '1', '2', '2', '2', '1', '1', '2', '2', '2', '2', '2', '2', '2', '3', '3', '1', '3', '3', '3', '2', '2', '2', '2', '2', '2', '2', '3', '3', '2', '2', '3', '2', '2', '2', '2', '2', '3', '3', '2', '2', '1', '3', '2', '2', '2', '3', '2', '3', '1', '3', '3', '2', '3', '3', '2', '2', '2', '2', '2', '2', '1', '2', '2', '1', '2', '3', '2', '1', '3', '1', '2', '3', '3', '3', '2', '3', '1', '3', '2', '3', '1', '2', '2', '2', '3', '3', '2', '2', '2', '2', '2', '3', '1', '2', '3', '3', '2', '2', '3', '2', '2', '2', '3', '2', '2', '2', '2', '1', '2', '3', '1', '3', '2', '2', '3', '3', '3', '2', '2', '1', '1']\n",
            "3\n",
            "6\n",
            "9\n",
            "12\n",
            "13\n",
            "16\n",
            "17\n",
            "18\n",
            "21\n",
            "22\n",
            "25\n",
            "28\n",
            "31\n",
            "34\n",
            "35\n",
            "38\n",
            "41\n",
            "44\n",
            "45\n",
            "46\n",
            "47\n",
            "50\n",
            "53\n",
            "54\n",
            "57\n",
            "58\n",
            "61\n",
            "62\n",
            "65\n",
            "68\n",
            "71\n",
            "74\n",
            "77\n",
            "78\n",
            "79\n",
            "82\n",
            "83\n",
            "84\n",
            "85\n",
            "88\n",
            "91\n",
            "92\n",
            "95\n",
            "98\n",
            "101\n",
            "104\n",
            "107\n",
            "110\n",
            "113\n",
            "116\n",
            "117\n",
            "120\n",
            "123\n",
            "126\n",
            "127\n",
            "130\n",
            "133\n",
            "136\n",
            "139\n",
            "140\n",
            "141\n",
            "144\n",
            "145\n",
            "148\n",
            "149\n",
            "152\n",
            "155\n",
            "158\n",
            "161\n",
            "162\n",
            "165\n",
            "168\n",
            "169\n",
            "172\n",
            "175\n",
            "178\n",
            "179\n",
            "182\n",
            "185\n",
            "188\n",
            "191\n",
            "192\n",
            "195\n",
            "196\n",
            "199\n",
            "202\n",
            "205\n",
            "208\n",
            "209\n",
            "210\n",
            "210\n"
          ]
        }
      ],
      "source": [
        "numeros_en_texto = ['2', '3', '2', '3', '2', '2', '2', '2', '3', '2', '3', '1', '3', '1', '2', '2', '2', '2', '2', '2', '2', '2', '1', '2', '3', '2', '2', '2', '2', '1', '2', '3', '2', '2', '3', '2', '3', '3', '2', '2', '1', '3', '3', '2', '3', '2', '2', '1', '2', '1', '1', '2', '2', '3', '2', '2', '2', '3', '2', '2', '2', '1', '2', '2', '3', '2', '2', '2', '2', '1', '2', '2', '2', '2', '3', '1', '2', '3', '3', '2', '3', '2', '2', '3', '3', '1', '1', '3', '2', '1', '2', '2', '2', '1', '1', '2', '2', '2', '2', '2', '2', '2', '3', '3', '1', '3', '3', '3', '2', '2', '2', '2', '2', '2', '2', '3', '3', '2', '2', '3', '2', '2', '2', '2', '2', '3', '3', '2', '2', '1', '3', '2', '2', '2', '3', '2', '3', '1', '3', '3', '2', '3', '3', '2', '2', '2', '2', '2', '2', '1', '2', '2', '1', '2', '3', '2', '1', '3', '1', '2', '3', '3', '3', '2', '3', '1', '3', '2', '3', '1', '2', '2', '2', '3', '3', '2', '2', '2', '2', '2', '3', '1', '2', '3', '3', '2', '2', '3', '2', '2', '2', '3', '2', '2', '2', '2', '1', '2', '3', '1', '3', '2', '2', '3', '3', '3', '2', '2', '1', '1']\n",
        "print(numeros_en_texto)\n",
        "suma = 0\n",
        "for numero in numeros_en_texto:\n",
        "    if numero == '1':\n",
        "        suma = suma + 1\n",
        "        print(suma)\n",
        "    elif numero == '3':\n",
        "        suma = suma + 3\n",
        "        print(suma)\n",
        "print(suma)"
      ]
    },
    {
      "cell_type": "markdown",
      "metadata": {
        "id": "TTDIO6cP6xCc"
      },
      "source": [
        "## 2. Numpy\n",
        "\n",
        "Empezaremos a dar nuestros primeros pasos con NumPy. Es muy importante que googlees y consultes la documentación. Si no la instalaste, ahora es un buen momento.\n",
        "\n",
        "Cuando queremos usar una librería, primero debemos importarla. Más adelante veremos qué significa importar una librería, pero podemos entenderlo como que es un aviso a Python de que vamos a incorporar nuevas funcionalidades; en este caso, desde NumPy."
      ]
    },
    {
      "cell_type": "code",
      "execution_count": null,
      "metadata": {
        "id": "rPcaeHHt6xCe"
      },
      "outputs": [],
      "source": [
        "import numpy as np"
      ]
    },
    {
      "cell_type": "markdown",
      "metadata": {
        "id": "W6b95ub26xCn"
      },
      "source": [
        "Ahora nuestro ambiente de trabajo sabe que si ponemos algo del estilo `np.` significa que esa funcionalidad la debe buscar en NumPy. **Importante:** Si la librería NO se instaló correctamente, te saltará un mensaje de error.\n",
        "\n",
        "El principal tipo de dato sobre el que trabaja NumPy son los arreglos o arrays. Los arreglos son parecidos a listas y, de hecho, se pueden crear a partir de ellas."
      ]
    },
    {
      "cell_type": "code",
      "execution_count": null,
      "metadata": {
        "id": "-NYi46pS6xCr",
        "colab": {
          "base_uri": "https://localhost:8080/"
        },
        "outputId": "e472f12a-6992-4d7a-f8ce-2e9568144abf"
      },
      "outputs": [
        {
          "output_type": "stream",
          "name": "stdout",
          "text": [
            "[0, 1, 2, 3, 4, 5]\n",
            "[0 1 2 3 4 5]\n"
          ]
        }
      ],
      "source": [
        "lista = [0,1,2,3,4,5]\n",
        "arreglo = np.array(lista)\n",
        "print(lista)\n",
        "print(arreglo)"
      ]
    },
    {
      "cell_type": "code",
      "source": [
        "print(type(lista))\n",
        "print(type(arreglo))"
      ],
      "metadata": {
        "colab": {
          "base_uri": "https://localhost:8080/"
        },
        "id": "QnfAz2B_NZNh",
        "outputId": "24d59651-1262-4400-8ed0-a80472068299"
      },
      "execution_count": null,
      "outputs": [
        {
          "output_type": "stream",
          "name": "stdout",
          "text": [
            "<class 'list'>\n",
            "<class 'numpy.ndarray'>\n"
          ]
        }
      ]
    },
    {
      "cell_type": "markdown",
      "metadata": {
        "id": "3GTbMtsp6xCy"
      },
      "source": [
        "Pero son más que una lista. Algunas cosas que no se podían hacer con las listas ahora sí se pueden con arreglos. Recordemos que sumarle un número a toda la lista no estaba permitido"
      ]
    },
    {
      "cell_type": "code",
      "execution_count": null,
      "metadata": {
        "id": "oBsq7xKM6xC0",
        "colab": {
          "base_uri": "https://localhost:8080/"
        },
        "outputId": "16b20511-172f-48b4-8333-dd6c8412ad53"
      },
      "outputs": [
        {
          "output_type": "execute_result",
          "data": {
            "text/plain": [
              "[0, 1, 2, 3, 4, 5, 1]"
            ]
          },
          "metadata": {},
          "execution_count": 57
        }
      ],
      "source": [
        "lista + [1]"
      ]
    },
    {
      "cell_type": "markdown",
      "metadata": {
        "id": "XM4rla9L6xC7"
      },
      "source": [
        "¡Pero ahora con los arreglos sí!"
      ]
    },
    {
      "cell_type": "code",
      "execution_count": null,
      "metadata": {
        "id": "QxQS9qSw6xC9",
        "colab": {
          "base_uri": "https://localhost:8080/"
        },
        "outputId": "5c2b2cf5-db4e-445f-8d48-d2b9a5326ef0"
      },
      "outputs": [
        {
          "output_type": "execute_result",
          "data": {
            "text/plain": [
              "array([1, 2, 3, 4, 5, 6])"
            ]
          },
          "metadata": {},
          "execution_count": 58
        }
      ],
      "source": [
        "arreglo + 1"
      ]
    },
    {
      "cell_type": "markdown",
      "metadata": {
        "id": "xgo-b6nG6xDE"
      },
      "source": [
        "Esto simplifica mucho hacer cuéntas. Pero no es sólo sumar, también muchas otras operaciones:"
      ]
    },
    {
      "cell_type": "code",
      "execution_count": null,
      "metadata": {
        "id": "GDFrflQS6xDG",
        "colab": {
          "base_uri": "https://localhost:8080/"
        },
        "outputId": "8a471e15-a3f2-4824-bbe7-67fff89916c1"
      },
      "outputs": [
        {
          "output_type": "stream",
          "name": "stdout",
          "text": [
            "[-5 -4 -3 -2 -1  0]\n",
            "[-2 -1  0  1  2  3]\n",
            "[ 0  4  8 12 16 20]\n",
            "[ 0  1  4  9 16 25]\n"
          ]
        }
      ],
      "source": [
        "print(arreglo - 5)\n",
        "print(arreglo - 2)\n",
        "print(arreglo*4)\n",
        "print(arreglo**2)"
      ]
    },
    {
      "cell_type": "markdown",
      "metadata": {
        "id": "OG5vEKqa6xDO"
      },
      "source": [
        "Comprobar que, salvo la multiplicación, ninguno estaba permitido en listas. ¿Qué hace la multiplicación en el caso de una lista?"
      ]
    },
    {
      "cell_type": "code",
      "source": [
        "print(lista*4)"
      ],
      "metadata": {
        "colab": {
          "base_uri": "https://localhost:8080/"
        },
        "id": "kwzHqxSxOS2s",
        "outputId": "3f754a64-2b9b-4add-c39f-6de60ecc7964"
      },
      "execution_count": null,
      "outputs": [
        {
          "output_type": "stream",
          "name": "stdout",
          "text": [
            "[0, 1, 2, 3, 4, 5, 0, 1, 2, 3, 4, 5, 0, 1, 2, 3, 4, 5, 0, 1, 2, 3, 4, 5]\n"
          ]
        }
      ]
    },
    {
      "cell_type": "markdown",
      "metadata": {
        "id": "8OLptg2q6xDP"
      },
      "source": [
        "### 2.1 Creación de arrays"
      ]
    },
    {
      "cell_type": "markdown",
      "metadata": {
        "id": "5Besuznw6xDR"
      },
      "source": [
        "Si bien podemos crear arrays a partir de listas, NumPy viene con muchas funciones para hacerlo. Veamos algunas.\n",
        "\n",
        "Una muy utilizada es `np.arange()`. Consulta su documentación. Otra opción es que, en una celda de código, escribas `np.arange` y aprietes `shift` + `tab`. De esa forma, te aparecerá la ayuda.\n",
        "\n",
        "Juega un poco con el ejemplo a continuación."
      ]
    },
    {
      "cell_type": "code",
      "execution_count": null,
      "metadata": {
        "id": "ffVupHId6xDS",
        "colab": {
          "base_uri": "https://localhost:8080/"
        },
        "outputId": "7052ce53-5b6c-471f-fe0d-d48c572af276"
      },
      "outputs": [
        {
          "output_type": "stream",
          "name": "stdout",
          "text": [
            "[ 3  5  7  9 11 13 15 17 19]\n"
          ]
        }
      ],
      "source": [
        "arreglo = np.arange(3,20,2)\n",
        "print(arreglo)"
      ]
    },
    {
      "cell_type": "code",
      "source": [
        "variable = np.linspace(1,100,20)\n",
        "print(variable)"
      ],
      "metadata": {
        "colab": {
          "base_uri": "https://localhost:8080/"
        },
        "id": "IxtGbSOgPf7r",
        "outputId": "55380027-e078-4739-aaeb-0c4b9cd220d1"
      },
      "execution_count": null,
      "outputs": [
        {
          "output_type": "stream",
          "name": "stdout",
          "text": [
            "[  1.           6.21052632  11.42105263  16.63157895  21.84210526\n",
            "  27.05263158  32.26315789  37.47368421  42.68421053  47.89473684\n",
            "  53.10526316  58.31578947  63.52631579  68.73684211  73.94736842\n",
            "  79.15789474  84.36842105  89.57894737  94.78947368 100.        ]\n"
          ]
        }
      ]
    },
    {
      "cell_type": "code",
      "source": [
        "len(variable)"
      ],
      "metadata": {
        "colab": {
          "base_uri": "https://localhost:8080/"
        },
        "id": "HQWqQFU4Pe5p",
        "outputId": "bd643b56-03c7-403c-c865-80093ee87f49"
      },
      "execution_count": null,
      "outputs": [
        {
          "output_type": "execute_result",
          "data": {
            "text/plain": [
              "20"
            ]
          },
          "metadata": {},
          "execution_count": 63
        }
      ]
    },
    {
      "cell_type": "code",
      "source": [
        "array_de_ceros = np.zeros(4)\n",
        "print(array_de_ceros)\n",
        "array_de_ceros"
      ],
      "metadata": {
        "colab": {
          "base_uri": "https://localhost:8080/"
        },
        "id": "FiRCoqAeP01Q",
        "outputId": "01bde876-6f00-4acf-84a4-2ab5233e2e30"
      },
      "execution_count": null,
      "outputs": [
        {
          "output_type": "stream",
          "name": "stdout",
          "text": [
            "[0. 0. 0. 0.]\n"
          ]
        },
        {
          "output_type": "execute_result",
          "data": {
            "text/plain": [
              "array([0., 0., 0., 0.])"
            ]
          },
          "metadata": {},
          "execution_count": 64
        }
      ]
    },
    {
      "cell_type": "markdown",
      "metadata": {
        "id": "GrbJZzEA6xDZ"
      },
      "source": [
        "**Ejercicio:** investiga y crea ejemplos con las siguientes funciones\n",
        "* `np.linspace`. Presta particular atención a cómo se diferencia de `np.arange`.\n",
        "* `np.zeros` y `np.ones`\n",
        "\n",
        "### 2.2 Shape de los arrays\n",
        "\n",
        "Los arrays tienen muchos más propiedades que las listas. En particular, pueden tener más de un *eje* o dimensión. Veamos a qué nos referimos:"
      ]
    },
    {
      "cell_type": "code",
      "execution_count": null,
      "metadata": {
        "id": "2gj5gtxN6xDb",
        "colab": {
          "base_uri": "https://localhost:8080/"
        },
        "outputId": "d28dcee7-1134-4a1a-82c1-6b8fcf549ffe"
      },
      "outputs": [
        {
          "output_type": "stream",
          "name": "stdout",
          "text": [
            "[[1 2 3 4]\n",
            " [5 6 7 8]]\n"
          ]
        }
      ],
      "source": [
        "arreglo_2d = np.array([[1,2,3,4],[5,6,7,8]])\n",
        "print(arreglo_2d)"
      ]
    },
    {
      "cell_type": "markdown",
      "metadata": {
        "id": "hd1tzKoY6xDi"
      },
      "source": [
        "Notar que tiene dos filas y cuatro columnas. Podemos descubrir esto sin imprimirlo en pantalla, sino usando la propiedad `.shape` del arreglo."
      ]
    },
    {
      "cell_type": "code",
      "execution_count": null,
      "metadata": {
        "id": "39jXsa356xDk",
        "colab": {
          "base_uri": "https://localhost:8080/"
        },
        "outputId": "8a4e1ca7-5709-452b-fb0a-5dbf72e79ebc"
      },
      "outputs": [
        {
          "output_type": "stream",
          "name": "stdout",
          "text": [
            "(2, 4)\n"
          ]
        }
      ],
      "source": [
        "print(arreglo_2d.shape)"
      ]
    },
    {
      "cell_type": "markdown",
      "metadata": {
        "id": "F0gQzLOW6xDp"
      },
      "source": [
        "Primero aparece el número de filas y luego el de columnas. ¿Qué estructura de dato es `(2, 4)`? Otro ejemplo:"
      ]
    },
    {
      "cell_type": "code",
      "execution_count": null,
      "metadata": {
        "id": "H-w91uc66xDr",
        "colab": {
          "base_uri": "https://localhost:8080/"
        },
        "outputId": "75d37963-1161-4903-b34f-cdc110af6395"
      },
      "outputs": [
        {
          "output_type": "stream",
          "name": "stdout",
          "text": [
            "[[1 2]\n",
            " [3 4]\n",
            " [5 6]\n",
            " [7 8]]\n",
            "(4, 2)\n"
          ]
        }
      ],
      "source": [
        "arreglo_2d = np.array([[1,2],[3,4],[5,6],[7,8]])\n",
        "print(arreglo_2d)\n",
        "print(arreglo_2d.shape)"
      ]
    },
    {
      "cell_type": "markdown",
      "metadata": {
        "id": "NI-72zHF6xDx"
      },
      "source": [
        "Si queremos saber cuántos elementos tiene, podemos usar `.size`"
      ]
    },
    {
      "cell_type": "code",
      "execution_count": null,
      "metadata": {
        "id": "FAM3A5nN6xD1",
        "colab": {
          "base_uri": "https://localhost:8080/"
        },
        "outputId": "b01e6456-1eaa-4e77-c8b8-5172dfe49345"
      },
      "outputs": [
        {
          "output_type": "stream",
          "name": "stdout",
          "text": [
            "8\n"
          ]
        }
      ],
      "source": [
        "print(arreglo_2d.size)"
      ]
    },
    {
      "cell_type": "markdown",
      "metadata": {
        "id": "AHudbTb_6xD7"
      },
      "source": [
        "### 2.3 Funciones que operan sobre arrays\n",
        "\n",
        "Los arrays de NumPy incorporan un montón de funciones que operan sobre los arrays. Veamos algunos ejemplos."
      ]
    },
    {
      "cell_type": "code",
      "execution_count": null,
      "metadata": {
        "id": "rsZiMiFa6xD9",
        "colab": {
          "base_uri": "https://localhost:8080/"
        },
        "outputId": "c74028b3-8317-4119-d82d-ff7b7803f048"
      },
      "outputs": [
        {
          "output_type": "stream",
          "name": "stdout",
          "text": [
            "-100\n",
            "95\n"
          ]
        }
      ],
      "source": [
        "un_arreglo = np.array([-100,2,3,17,25,1,95])\n",
        "print(un_arreglo.min())\n",
        "print(un_arreglo.max())"
      ]
    },
    {
      "cell_type": "markdown",
      "metadata": {
        "id": "E6xoQQOF6xED"
      },
      "source": [
        "En el caso 2D, podemos pedir que estas funciones operen sobre todo el array, o por ejes.\n",
        "\n"
      ]
    },
    {
      "cell_type": "code",
      "source": [
        "import random\n",
        "\n",
        "random.seed(10)"
      ],
      "metadata": {
        "id": "DkDYOVFrSE4h"
      },
      "execution_count": null,
      "outputs": []
    },
    {
      "cell_type": "code",
      "execution_count": null,
      "metadata": {
        "id": "V-MBXYIo6xEH",
        "colab": {
          "base_uri": "https://localhost:8080/"
        },
        "outputId": "710e10ee-b854-4d38-b308-e5697b6a5007"
      },
      "outputs": [
        {
          "output_type": "stream",
          "name": "stdout",
          "text": [
            "[0 1 2 3 4 5 6 7 8]\n",
            "[3 7 2 5 6 0 1 4 8]\n",
            "[[3 7 2]\n",
            " [5 6 0]\n",
            " [1 4 8]]\n"
          ]
        }
      ],
      "source": [
        "# No te preocupes si no entiendes lo que hace esta celda\n",
        "arreglo_2d = np.arange(9)\n",
        "print(arreglo_2d)\n",
        "\n",
        "np.random.shuffle(arreglo_2d)\n",
        "print(arreglo_2d)\n",
        "\n",
        "arreglo_2d = arreglo_2d.reshape((3,3))\n",
        "print(arreglo_2d)"
      ]
    },
    {
      "cell_type": "markdown",
      "metadata": {
        "id": "ieZnEuby6xEN"
      },
      "source": [
        "Trata de entender la diferencia entre las siguientes instrucciones:"
      ]
    },
    {
      "cell_type": "code",
      "execution_count": null,
      "metadata": {
        "id": "sUB0kNoj6xET",
        "colab": {
          "base_uri": "https://localhost:8080/"
        },
        "outputId": "f8996336-34c3-43c6-de3d-b278509e5784"
      },
      "outputs": [
        {
          "output_type": "stream",
          "name": "stdout",
          "text": [
            "8\n",
            "[5 7 8]\n",
            "[7 6 8]\n"
          ]
        }
      ],
      "source": [
        "print(arreglo_2d.max())\n",
        "print(arreglo_2d.max(axis = 0))\n",
        "print(arreglo_2d.max(axis = 1))"
      ]
    },
    {
      "cell_type": "markdown",
      "metadata": {
        "id": "WtKLIys36xEY"
      },
      "source": [
        "### Últimos comentarios\n",
        "\n",
        "* No dijimos nada sobre indexado ni slicing. Esto se debe a que, para arrays 1D, es similar que para la listas. Para arrays 2D, es apenas más complicado. Para estudiarlo, jugar con la siguiente celda:"
      ]
    },
    {
      "cell_type": "code",
      "execution_count": null,
      "metadata": {
        "id": "CNAbEbBw6xEa",
        "colab": {
          "base_uri": "https://localhost:8080/"
        },
        "outputId": "548d8239-6e0a-4cdd-ea8a-7d5e5519ece7"
      },
      "outputs": [
        {
          "output_type": "stream",
          "name": "stdout",
          "text": [
            "[[0 1 2]\n",
            " [3 4 5]\n",
            " [6 7 8]]\n",
            "[3 4 5]\n"
          ]
        }
      ],
      "source": [
        "arreglo_2d = np.arange(9).reshape(3,3)\n",
        "print(arreglo_2d)\n",
        "print(arreglo_2d[1,:])"
      ]
    },
    {
      "cell_type": "markdown",
      "metadata": {
        "id": "svHQKfw_6xEg"
      },
      "source": [
        "* Podemos usar `arreglo.max()` o `np.max(arreglo)`. Esto no es válido solamente para la función `max()`, sino también para casi todas las funciones que operen sobre arreglos."
      ]
    },
    {
      "cell_type": "code",
      "source": [
        "type(un_arreglo)"
      ],
      "metadata": {
        "colab": {
          "base_uri": "https://localhost:8080/"
        },
        "id": "_F6kc8YSUyFE",
        "outputId": "7e6c02f2-39e6-4030-af75-32314d22bf6a"
      },
      "execution_count": null,
      "outputs": [
        {
          "output_type": "execute_result",
          "data": {
            "text/plain": [
              "numpy.ndarray"
            ]
          },
          "metadata": {},
          "execution_count": 82
        }
      ]
    },
    {
      "cell_type": "code",
      "execution_count": null,
      "metadata": {
        "id": "aTBJASA26xEh",
        "colab": {
          "base_uri": "https://localhost:8080/"
        },
        "outputId": "9dfb2416-d08a-4c8a-a190-222104109693"
      },
      "outputs": [
        {
          "output_type": "stream",
          "name": "stdout",
          "text": [
            "-100 -100\n"
          ]
        }
      ],
      "source": [
        "print(np.min(un_arreglo), un_arreglo.min())"
      ]
    },
    {
      "cell_type": "markdown",
      "metadata": {
        "id": "vL5QD71a6xEo"
      },
      "source": [
        "Existe mucho más - realmente mucho más - para decir sobre NumPy. Pero mucho irá apareciendo a medida que lo vayamos necesitando. Y, además, ¡este notebook ya es muy largo!\n",
        "\n",
        "### Ejercitación\n",
        "\n",
        "**Ejercicio 1**: Escribir un arreglo con 100 números equiespaciados del 0 al 9. Pista: `linspace`"
      ]
    },
    {
      "cell_type": "code",
      "execution_count": 27,
      "metadata": {
        "id": "_p2bvcte6xEq",
        "colab": {
          "base_uri": "https://localhost:8080/"
        },
        "outputId": "089bac9a-c6b8-4e2b-d681-3441ce5e8e0d"
      },
      "outputs": [
        {
          "output_type": "stream",
          "name": "stdout",
          "text": [
            "[0.         0.09090909 0.18181818 0.27272727 0.36363636 0.45454545\n",
            " 0.54545455 0.63636364 0.72727273 0.81818182 0.90909091 1.\n",
            " 1.09090909 1.18181818 1.27272727 1.36363636 1.45454545 1.54545455\n",
            " 1.63636364 1.72727273 1.81818182 1.90909091 2.         2.09090909\n",
            " 2.18181818 2.27272727 2.36363636 2.45454545 2.54545455 2.63636364\n",
            " 2.72727273 2.81818182 2.90909091 3.         3.09090909 3.18181818\n",
            " 3.27272727 3.36363636 3.45454545 3.54545455 3.63636364 3.72727273\n",
            " 3.81818182 3.90909091 4.         4.09090909 4.18181818 4.27272727\n",
            " 4.36363636 4.45454545 4.54545455 4.63636364 4.72727273 4.81818182\n",
            " 4.90909091 5.         5.09090909 5.18181818 5.27272727 5.36363636\n",
            " 5.45454545 5.54545455 5.63636364 5.72727273 5.81818182 5.90909091\n",
            " 6.         6.09090909 6.18181818 6.27272727 6.36363636 6.45454545\n",
            " 6.54545455 6.63636364 6.72727273 6.81818182 6.90909091 7.\n",
            " 7.09090909 7.18181818 7.27272727 7.36363636 7.45454545 7.54545455\n",
            " 7.63636364 7.72727273 7.81818182 7.90909091 8.         8.09090909\n",
            " 8.18181818 8.27272727 8.36363636 8.45454545 8.54545455 8.63636364\n",
            " 8.72727273 8.81818182 8.90909091 9.        ]\n"
          ]
        }
      ],
      "source": [
        "arreglo = np.linspace(0,9,100) # Arreglo programado con las condiciones propuestas en el enunciado\n",
        "print(arreglo)"
      ]
    },
    {
      "cell_type": "markdown",
      "metadata": {
        "id": "1qRG5b3m6xEv"
      },
      "source": [
        "**Ejercicio 2:** crear un arreglo 1D de 20 ceros. Reemplazar los primeros 15 elementos por unos."
      ]
    },
    {
      "cell_type": "code",
      "execution_count": 26,
      "metadata": {
        "id": "6xPwCrg26xEx",
        "colab": {
          "base_uri": "https://localhost:8080/"
        },
        "outputId": "c9223e83-aeed-47a2-a110-5c7c87fc2bde"
      },
      "outputs": [
        {
          "output_type": "stream",
          "name": "stdout",
          "text": [
            "[1. 1. 1. 1. 1. 1. 1. 1. 1. 1. 1. 1. 1. 1. 1. 0. 0. 0. 0. 0.]\n"
          ]
        }
      ],
      "source": [
        "arreglo = np.zeros(20) # Creación de un arreglo de 1D compuesto por 20 ceros\n",
        "arreglo[:15] = 1 # Reemplazar los primeros 15 elementos por unos\n",
        "print(arreglo)"
      ]
    },
    {
      "cell_type": "markdown",
      "metadata": {
        "id": "IwdggYiK6xE1"
      },
      "source": [
        "**Ejercicio 3:** crear un arreglo 1D de 50 ceros. Reemplazar los primeros 25 elementos por los números naturales del 0 al 24."
      ]
    },
    {
      "cell_type": "code",
      "source": [
        "import numpy as np"
      ],
      "metadata": {
        "id": "K_Sz8b6QL204"
      },
      "execution_count": 3,
      "outputs": []
    },
    {
      "cell_type": "code",
      "execution_count": 25,
      "metadata": {
        "id": "Sp5joIbM6xE3",
        "outputId": "3e9d153b-feea-4f93-84b2-6d6f6b8f4b3f",
        "colab": {
          "base_uri": "https://localhost:8080/"
        }
      },
      "outputs": [
        {
          "output_type": "stream",
          "name": "stdout",
          "text": [
            "[ 0.  1.  2.  3.  4.  5.  6.  7.  8.  9. 10. 11. 12. 13. 14. 15. 16. 17.\n",
            " 18. 19. 20. 21. 22. 23. 24.  0.  0.  0.  0.  0.  0.  0.  0.  0.  0.  0.\n",
            "  0.  0.  0.  0.  0.  0.  0.  0.  0.  0.  0.  0.  0.  0.]\n"
          ]
        }
      ],
      "source": [
        "# Creación de un arreglo de 50 ceros\n",
        "arreglo = np.zeros(50)\n",
        "\n",
        "# Reemplazar los primeros 25 elementos con los números naturales del 0 al 24\n",
        "arreglo[:25] = np.arange(25)\n",
        "print(arreglo)"
      ]
    },
    {
      "cell_type": "markdown",
      "metadata": {
        "id": "Vx74LT026xE-"
      },
      "source": [
        "**Ejercicio 4:** crear un arreglo 2D de 3 filas y 3 columnas, lleno de ceros. Reemplazar los elemento de la segunda columna por los números 1, 2 y 3 respectivamente. Es decir, crear la siguiente matriz:\n",
        "\n",
        "```\n",
        "0 1 0\n",
        "0 2 0\n",
        "0 3 0\n",
        "```"
      ]
    },
    {
      "cell_type": "code",
      "execution_count": 24,
      "metadata": {
        "id": "ckTUAo6D6xE_",
        "outputId": "64cebd42-b0d9-4739-bab3-6f9a39c226fb",
        "colab": {
          "base_uri": "https://localhost:8080/"
        }
      },
      "outputs": [
        {
          "output_type": "stream",
          "name": "stdout",
          "text": [
            "[[0. 1. 0.]\n",
            " [0. 2. 0.]\n",
            " [0. 3. 0.]]\n"
          ]
        }
      ],
      "source": [
        "arreglo_2d = np.zeros((3,3)) # Creación de un arreglo de 2D de 3 filas y 3 columnas\n",
        "arreglo_2d[:,1] = [1,2,3]    # Reemplazamiento de elementos de la segunda columna por los números 1, 2 y 3 respectivamente\n",
        "print(arreglo_2d)"
      ]
    },
    {
      "cell_type": "markdown",
      "metadata": {
        "id": "5K-FKtOA6xFE"
      },
      "source": [
        "**Ejercicio 5:** crear un arreglo 2D de 3 filas y 3 columnas, lleno de ceros. Reemplazar los elemento de la diagonal por unos. Es decir, crear la siguiente matriz:\n",
        "\n",
        "```\n",
        "1 0 0\n",
        "0 1 0\n",
        "0 0 1\n",
        "```"
      ]
    },
    {
      "cell_type": "code",
      "execution_count": 32,
      "metadata": {
        "id": "VrkZuD4S6xFH",
        "outputId": "79359cf9-4514-4347-9165-6801240b8e9a",
        "colab": {
          "base_uri": "https://localhost:8080/"
        }
      },
      "outputs": [
        {
          "output_type": "stream",
          "name": "stdout",
          "text": [
            "[[1. 0. 0.]\n",
            " [0. 1. 0.]\n",
            " [0. 0. 1.]]\n"
          ]
        }
      ],
      "source": [
        "arreglo_2d = np.zeros((3,3)) # Creación de un arreglo de 2D de 3 filas y 3 columnas\n",
        "arreglo_2d = np.eye(3)       # Reemplazamiento de los elementos de la diagonal por unos\n",
        "print(arreglo_2d)"
      ]
    },
    {
      "cell_type": "markdown",
      "metadata": {
        "id": "Ap348o4h6xFN"
      },
      "source": [
        "**Ejercicio 6:** crear un arreglo 2D de 100 filas y 100 columnas, lleno de ceros. Reemplazar los elemento de la diagonal por unos. Es decir, crear la siguiente matriz:\n",
        "\n",
        "```\n",
        "1 0 0 ... 0 0 0\n",
        "0 1 0 ... 0 0 0\n",
        "0 0 1 ... 0 0 0\n",
        "...  \n",
        "0 0 0 ... 1 0 0\n",
        "0 0 0 ... 0 1 0\n",
        "0 0 0 ... 0 0 1\n",
        "```"
      ]
    },
    {
      "cell_type": "code",
      "execution_count": 29,
      "metadata": {
        "id": "UHkEt17i6xFP",
        "outputId": "58e8d574-148a-442d-824d-1059eda46374",
        "colab": {
          "base_uri": "https://localhost:8080/"
        }
      },
      "outputs": [
        {
          "output_type": "stream",
          "name": "stdout",
          "text": [
            "[[1. 0. 0. ... 0. 0. 0.]\n",
            " [0. 1. 0. ... 0. 0. 0.]\n",
            " [0. 0. 1. ... 0. 0. 0.]\n",
            " ...\n",
            " [0. 0. 0. ... 1. 0. 0.]\n",
            " [0. 0. 0. ... 0. 1. 0.]\n",
            " [0. 0. 0. ... 0. 0. 1.]]\n"
          ]
        }
      ],
      "source": [
        "arreglo_2d = np.zeros((100,100)) # Creación de un arreglo de 2D de 100 filas y 100 columnas\n",
        "arreglo_2d = np.eye(100)         # Reemplazamiento de los elementos de la diagonal por unos\n",
        "print(arreglo_2d)\n"
      ]
    },
    {
      "cell_type": "markdown",
      "metadata": {
        "id": "T78FHjuU6xFV"
      },
      "source": [
        "**Extra:** ¿Qué tipo de dato está usando NumPy cuando crea los arreglos?¿Y si queremos cambiarle el tipo de dato, por ejemplo a `int`? Googlear \"numpy astype\". ¿Qué pasa si usamos `astype(bool)`?"
      ]
    },
    {
      "cell_type": "markdown",
      "source": [
        "Con respecto a la primera pregunta, se podría llegar a la conclusión de que a la hora de llevar a cabo arreglos en Numpy se están incluyendo datos numéricos enteros mientras que a la hora de imprimir la solución final del arreglo se nos presentan los resultados numéricos como flotantes.\n",
        "Esto se debe a que en matrices de 2D o 3D los datos no pueden ser sustituidos por ejemplo de \"flotantes\" a \"enteros\" en medidas de Python escalares.\n",
        "\n"
      ],
      "metadata": {
        "id": "stwcPncgSj3Y"
      }
    },
    {
      "cell_type": "markdown",
      "source": [
        "En el caso, de querer convertir un dato \"flotante\" a \"entero\" este no se podría llegar a realizar debido al NO reconocimiento de escalas de Python ya mencionado en la pregunta anterior.\n"
      ],
      "metadata": {
        "id": "8SeBn7ZuUhFh"
      }
    },
    {
      "cell_type": "markdown",
      "source": [
        "La expresión \"numpy astype\" se referirá al método \"astype\" de los arreglos en Numpy, que se utilizará para convertir un arreglo a otro tipo de dato.\n",
        "Este método permitirá cambiar el tipo de los elementos de un arreglo, creando un nuevo arreglo con el tipo de dato especificado, sin la necesidad de modificar el arreglo original."
      ],
      "metadata": {
        "id": "hnCa_FJzU556"
      }
    },
    {
      "cell_type": "markdown",
      "source": [
        "Por último, la expresión astype(bool) llegará a ser utilizada para converitr los elementos de un arreglo especificado a valores booleanos \"True\" or \"False\" cumpliendo en todo momento con las siguientes reglas:\n",
        "* Cualquier valor diferente de cero o vacío llegará a convertirse en \"True\".\n",
        "* El valor 0 o vacío se convertirá en \"False\"."
      ],
      "metadata": {
        "id": "KMcQQDaQVa7R"
      }
    }
  ],
  "metadata": {
    "colab": {
      "collapsed_sections": [
        "1AJNWoqhPBQJ",
        "qecxWClXPBQM",
        "IeZnpQLV6xAv",
        "3t8rRW2j6xBU",
        "8OLptg2q6xDP",
        "GrbJZzEA6xDZ",
        "AHudbTb_6xD7",
        "WtKLIys36xEY",
        "vL5QD71a6xEo"
      ],
      "provenance": [],
      "include_colab_link": true
    },
    "kernelspec": {
      "display_name": "Python 3",
      "language": "python",
      "name": "python3"
    },
    "language_info": {
      "codemirror_mode": {
        "name": "ipython",
        "version": 3
      },
      "file_extension": ".py",
      "mimetype": "text/x-python",
      "name": "python",
      "nbconvert_exporter": "python",
      "pygments_lexer": "ipython3",
      "version": "3.7.6"
    }
  },
  "nbformat": 4,
  "nbformat_minor": 0
}